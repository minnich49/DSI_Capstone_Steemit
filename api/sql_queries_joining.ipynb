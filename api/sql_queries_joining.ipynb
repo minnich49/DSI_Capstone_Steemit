{
 "cells": [
  {
   "cell_type": "code",
   "execution_count": null,
   "metadata": {},
   "outputs": [],
   "source": [
    "import pymssql\n",
    "import joblib\n",
    "import pandas as pd\n",
    "pd.set_option('display.max_rows', 500)\n",
    "pd.set_option('display.max_columns', 500)\n",
    "\n",
    "data_directory = '../data/'"
   ]
  },
  {
   "cell_type": "markdown",
   "metadata": {},
   "source": [
    "#### Reference Links\n",
    "https://steemit.com/steemit/@arcange/steemsql-a-public-sql-database-with-all-blockchain-data-new-language-detection"
   ]
  },
  {
   "cell_type": "code",
   "execution_count": null,
   "metadata": {},
   "outputs": [],
   "source": [
    "server = 'sql.steemsql.com'\n",
    "user = 'steemit'\n",
    "password = 'steemit'\n",
    "database = 'DBSteem'\n",
    "conn = pymssql.connect(server, user, password, database)"
   ]
  },
  {
   "cell_type": "markdown",
   "metadata": {},
   "source": [
    "#### Tables that exist within the database"
   ]
  },
  {
   "cell_type": "code",
   "execution_count": null,
   "metadata": {},
   "outputs": [],
   "source": [
    "cursor = conn.cursor()\n",
    "cursor.execute('select * from information_schema.tables')\n",
    "for table in cursor:\n",
    "    print 'Table Name:', table[2]\n"
   ]
  },
  {
   "cell_type": "markdown",
   "metadata": {},
   "source": [
    "#### Comments table that contains the Payout"
   ]
  },
  {
   "cell_type": "code",
   "execution_count": null,
   "metadata": {},
   "outputs": [],
   "source": [
    "# table = 'Comments'\n",
    "\n",
    "# cursor = conn.cursor()\n",
    "# cursor.execute(\"SELECT top 1000000 * FROM \" + table)\n",
    "\n",
    "# row_list = []\n",
    "# for i,row in enumerate(cursor):\n",
    "#     row_list.append(row)"
   ]
  },
  {
   "cell_type": "code",
   "execution_count": null,
   "metadata": {},
   "outputs": [],
   "source": [
    "# df = pd.DataFrame(row_list)\n",
    "\n",
    "# comments_columns = [i[0] for i in cursor.description]\n",
    "# df.columns = comments_columns\n",
    "# # file_path = data_directory + 'sample_data.csv'\n",
    "\n",
    "\n",
    "# # df.to_csv(file_path,index=False, quoting=csv.QUOTE_ALL, encoding='utf-8')"
   ]
  },
  {
   "cell_type": "code",
   "execution_count": null,
   "metadata": {},
   "outputs": [],
   "source": [
    "# for col in df.columns:\n",
    "#     print col\n",
    "# #     print df[col].unique()"
   ]
  },
  {
   "cell_type": "code",
   "execution_count": null,
   "metadata": {},
   "outputs": [],
   "source": [
    "\n",
    "# table = 'Comments'\n",
    "\n",
    "# cursor = conn.cursor()\n",
    "# cursor.execute(\"SELECT * FROM \" + table)\n",
    "# comments_columns = [i[0] for i in cursor.description]\n",
    "\n",
    "# table = 'TxComments'\n",
    "# cursor.execute(\"SELECT * FROM \" + table)\n",
    "# commentstx_columns = [i[0] for i in cursor.description]\n",
    "\n",
    "# print len(comments_columns)\n",
    "# print len(commentstx_columns)\n",
    "\n",
    "\n",
    "\n"
   ]
  },
  {
   "cell_type": "code",
   "execution_count": null,
   "metadata": {},
   "outputs": [],
   "source": [
    "# c1_list = cursor.fetchall()\n",
    "large_data = data_directory + '/large_data_store/'+'joined'\n",
    "\n",
    "\n",
    "table = 'Comments'\n",
    "table_quotes =  \"'\" + table + \"'\"\n",
    "'total_payout_value'\n",
    "cursor = conn.cursor()\n",
    "limit = 1\n",
    "query = '''\n",
    "        SELECT top {}*\n",
    "        FROM Comments\n",
    "        INNER JOIN TxComments\n",
    "        ON (Comments.author = TxComments.author and Comments.permlink = TxComments.permlink)\n",
    "        AND total_payout_value > 0\n",
    "        ORDER BY CAST(total_payout_value AS float) DESC\n",
    "        '''\n",
    "\n",
    "query = query.format(limit)\n",
    "query = query.replace('\\n','')# cursor.execute(\"SELECT * FROM \" + table)\n",
    "\n",
    "cursor.execute(query)\n",
    "\n",
    "\n",
    "column_name_list = [i[0] for i in cursor.description]\n",
    "# row_list = []\n",
    "# save_count = 0\n",
    "\n",
    "# for i,row in enumerate(cursor):\n",
    "#     row_list.append(row)\n",
    "#     if i % 10000 == 0:\n",
    "#         print i\n",
    "#         large_data_name = large_data + str(save_count)\n",
    "# #         joblib.dump(row_list,large_data_name)\n",
    "#         row_list = []\n",
    "#         save_count += 1\n",
    "        \n"
   ]
  },
  {
   "cell_type": "code",
   "execution_count": null,
   "metadata": {},
   "outputs": [],
   "source": [
    "joblib.dump(column_name_list,data_directory + 'large_data_store/column_names')"
   ]
  },
  {
   "cell_type": "code",
   "execution_count": null,
   "metadata": {},
   "outputs": [],
   "source": [
    "column_name_list"
   ]
  },
  {
   "cell_type": "code",
   "execution_count": null,
   "metadata": {},
   "outputs": [],
   "source": [
    "Comments = pd.DataFrame(row_list)\n",
    "Comments.columns = column_name_list"
   ]
  },
  {
   "cell_type": "code",
   "execution_count": null,
   "metadata": {},
   "outputs": [],
   "source": [
    "file_path = data_directory + 'sample_data_100k.csv'\n",
    "import csv\n",
    "Comments.to_csv(file_path,index=False, quoting=csv.QUOTE_ALL, encoding='utf-8')"
   ]
  },
  {
   "cell_type": "code",
   "execution_count": null,
   "metadata": {},
   "outputs": [],
   "source": []
  }
 ],
 "metadata": {
  "kernelspec": {
   "display_name": "Python 2",
   "language": "python",
   "name": "python2"
  },
  "language_info": {
   "codemirror_mode": {
    "name": "ipython",
    "version": 2
   },
   "file_extension": ".py",
   "mimetype": "text/x-python",
   "name": "python",
   "nbconvert_exporter": "python",
   "pygments_lexer": "ipython2"
  }
 },
 "nbformat": 4,
 "nbformat_minor": 1
}
