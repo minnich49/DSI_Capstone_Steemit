{
 "cells": [
  {
   "cell_type": "code",
   "execution_count": null,
   "metadata": {},
   "outputs": [],
   "source": [
    "import os\n",
    "import sys\n",
    "module_directory = os.path.join(os.getcwd().split('DSI_Capstone_Steemit')[0])\n",
    "sys.path\n",
    "sys.path.insert(1,module_directory)\n",
    "\n"
   ]
  },
  {
   "cell_type": "code",
   "execution_count": null,
   "metadata": {},
   "outputs": [],
   "source": [
    "module_directory"
   ]
  },
  {
   "cell_type": "code",
   "execution_count": null,
   "metadata": {},
   "outputs": [],
   "source": []
  },
  {
   "cell_type": "code",
   "execution_count": null,
   "metadata": {},
   "outputs": [],
   "source": [
    "import pymssql\n",
    "import pandas as pd\n",
    "pd.set_option('display.max_rows', 500)\n",
    "pd.set_option('display.max_columns', 500)\n",
    "\n",
    "data_directory = '../data/'"
   ]
  },
  {
   "cell_type": "markdown",
   "metadata": {},
   "source": [
    "#### Reference Links\n",
    "https://steemit.com/steemit/@arcange/steemsql-a-public-sql-database-with-all-blockchain-data-new-language-detection"
   ]
  },
  {
   "cell_type": "code",
   "execution_count": null,
   "metadata": {},
   "outputs": [],
   "source": [
    "server = 'sql.steemsql.com'\n",
    "user = 'steemit'\n",
    "password = 'steemit'\n",
    "database = 'DBSteem'\n",
    "conn = pymssql.connect(server, user, password, database)"
   ]
  },
  {
   "cell_type": "markdown",
   "metadata": {},
   "source": [
    "#### Tables that exist within the database"
   ]
  },
  {
   "cell_type": "code",
   "execution_count": null,
   "metadata": {},
   "outputs": [],
   "source": [
    "cursor = conn.cursor()\n",
    "cursor.execute('select * from information_schema.tables')\n",
    "table_dict = {}\n",
    "table_list = []\n",
    "for table in cursor:\n",
    "    print 'Table Name:', table[2]\n",
    "    \n",
    "    table_list.append(table[2])\n",
    "\n"
   ]
  },
  {
   "cell_type": "code",
   "execution_count": null,
   "metadata": {},
   "outputs": [],
   "source": [
    "for table in table_list:\n",
    "    try:\n",
    "        if table not in ['TxCustomsFollows']:\n",
    "            cursor = conn.cursor()\n",
    "            querey = \"SELECT * FROM \" + table\n",
    "            print querey\n",
    "            cursor.execute(querey)\n",
    "            comments_columns = [i[0] for i in cursor.description]\n",
    "            print comments_columns            \n",
    "            table_dict[table] = comments_columns\n",
    "    except:\n",
    "        print 'Did not find ' + table\n",
    "\n"
   ]
  },
  {
   "cell_type": "code",
   "execution_count": null,
   "metadata": {},
   "outputs": [],
   "source": [
    "table = 'TxCommentsPosts'\n",
    "cursor = conn.cursor()\n",
    "# querey = 'EXEC sp_refreshview TxCommentsPosts'\n",
    "querey = \"SELECT * FROM \" + table\n",
    "cursor.execute(querey)\n",
    "\n"
   ]
  },
  {
   "cell_type": "code",
   "execution_count": null,
   "metadata": {},
   "outputs": [],
   "source": []
  }
 ],
 "metadata": {
  "kernelspec": {
   "display_name": "Python 2",
   "language": "python",
   "name": "python2"
  },
  "language_info": {
   "codemirror_mode": {
    "name": "ipython",
    "version": 2
   },
   "file_extension": ".py",
   "mimetype": "text/x-python",
   "name": "python",
   "nbconvert_exporter": "python",
   "pygments_lexer": "ipython2"
  }
 },
 "nbformat": 4,
 "nbformat_minor": 1
}
