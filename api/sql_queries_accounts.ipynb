{
 "cells": [
  {
   "cell_type": "code",
   "execution_count": null,
   "metadata": {},
   "outputs": [],
   "source": [
    "import pymssql\n",
    "import pandas as pd\n",
    "pd.set_option('display.max_rows', 500)\n",
    "pd.set_option('display.max_columns', 500)\n",
    "\n",
    "data_directory = '../data/'"
   ]
  },
  {
   "cell_type": "markdown",
   "metadata": {},
   "source": [
    "#### Reference Links\n",
    "https://steemit.com/steemit/@arcange/steemsql-a-public-sql-database-with-all-blockchain-data-new-language-detection"
   ]
  },
  {
   "cell_type": "code",
   "execution_count": null,
   "metadata": {},
   "outputs": [],
   "source": [
    "server = 'sql.steemsql.com'\n",
    "user = 'steemit'\n",
    "password = 'steemit'\n",
    "database = 'DBSteem'\n",
    "conn = pymssql.connect(server, user, password, database)"
   ]
  },
  {
   "cell_type": "markdown",
   "metadata": {},
   "source": [
    "#### Tables that exist within the database"
   ]
  },
  {
   "cell_type": "code",
   "execution_count": null,
   "metadata": {},
   "outputs": [],
   "source": [
    "cursor = conn.cursor()\n",
    "cursor.execute('select * from information_schema.tables')\n",
    "table_list = []\n",
    "for table in cursor:\n",
    "    print 'Table Name:', table[2]\n",
    "    table_list.append(table[2])"
   ]
  },
  {
   "cell_type": "markdown",
   "metadata": {},
   "source": [
    "#### Accounts table that contains the Payout"
   ]
  },
  {
   "cell_type": "code",
   "execution_count": null,
   "metadata": {},
   "outputs": [],
   "source": [
    "\n",
    "table = 'Accounts'\n",
    "\n",
    "cursor = conn.cursor()\n",
    "cursor.execute(\"SELECT * FROM \" + table)\n",
    "column_name_list = [i[0] for i in cursor.description]\n",
    "\n"
   ]
  },
  {
   "cell_type": "code",
   "execution_count": null,
   "metadata": {},
   "outputs": [],
   "source": [
    "# c1_list = cursor.fetchall()\n",
    "import joblib\n",
    "large_data = data_directory + 'large_data'\n",
    "\n",
    "Accounts = joblib.load(large_data)\n",
    "\n",
    "\n",
    "table = 'Accounts'\n",
    "\n",
    "cursor = conn.cursor()\n",
    "\n",
    "query = '''\n",
    "        SELECT *\n",
    "        FROM Accounts\n",
    "        ORDER BY CAST(reputation AS float) DESC\n",
    "        '''\n",
    "\n",
    "\n",
    "\n",
    "cursor.execute(query)\n",
    "# cursor.execute(\"SELECT * FROM \" + table)\n",
    "column_name_list = [i[0] for i in cursor.description]\n",
    "\n",
    "limit = 10000\n",
    "row_list = []\n",
    "for i,row in enumerate(cursor):\n",
    "    row_list.append(row)\n",
    "    if i == limit:\n",
    "        break\n",
    "    if i % 1000 == 0:\n",
    "        print i\n",
    "        joblib.dump(row_list,large_data)\n",
    "Accounts = pd.DataFrame(row_list)\n",
    "Accounts.columns = column_name_list"
   ]
  },
  {
   "cell_type": "code",
   "execution_count": null,
   "metadata": {},
   "outputs": [],
   "source": [
    "file_path = data_directory + 'accounts.csv'\n",
    "import csv\n",
    "Accounts.to_csv(file_path,index=False, quoting=csv.QUOTE_ALL, encoding='utf-8')"
   ]
  }
 ],
 "metadata": {
  "kernelspec": {
   "display_name": "Python 2",
   "language": "python",
   "name": "python2"
  },
  "language_info": {
   "codemirror_mode": {
    "name": "ipython",
    "version": 2
   },
   "file_extension": ".py",
   "mimetype": "text/x-python",
   "name": "python",
   "nbconvert_exporter": "python",
   "pygments_lexer": "ipython2"
  }
 },
 "nbformat": 4,
 "nbformat_minor": 1
}
