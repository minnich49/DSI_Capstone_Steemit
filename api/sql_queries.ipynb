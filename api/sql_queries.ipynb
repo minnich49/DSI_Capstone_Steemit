{
 "cells": [
  {
   "cell_type": "code",
   "execution_count": null,
   "metadata": {},
   "outputs": [],
   "source": [
    "import pymssql\n",
    "import pandas as pd\n",
    "pd.set_option('display.max_rows', 500)\n",
    "pd.set_option('display.max_columns', 500)\n",
    "\n",
    "data_directory = '../data/'"
   ]
  },
  {
   "cell_type": "markdown",
   "metadata": {},
   "source": [
    "#### Reference Links\n",
    "https://steemit.com/steemit/@arcange/steemsql-a-public-sql-database-with-all-blockchain-data-new-language-detection"
   ]
  },
  {
   "cell_type": "code",
   "execution_count": null,
   "metadata": {},
   "outputs": [],
   "source": [
    "server = 'sql.steemsql.com'\n",
    "user = 'steemit'\n",
    "password = 'steemit'\n",
    "database = 'DBSteem'\n",
    "conn = pymssql.connect(server, user, password, database)"
   ]
  },
  {
   "cell_type": "markdown",
   "metadata": {},
   "source": [
    "#### Tables that exist within the database"
   ]
  },
  {
   "cell_type": "code",
   "execution_count": null,
   "metadata": {},
   "outputs": [],
   "source": [
    "cursor = conn.cursor()\n",
    "cursor.execute('select * from information_schema.tables')\n",
    "for table in cursor:\n",
    "    print 'Table Name:', table[2]\n"
   ]
  },
  {
   "cell_type": "markdown",
   "metadata": {},
   "source": [
    "#### Comments table that contains the Payout"
   ]
  },
  {
   "cell_type": "code",
   "execution_count": null,
   "metadata": {},
   "outputs": [],
   "source": [
    "\n",
    "table = 'Comments'\n",
    "\n",
    "cursor = conn.cursor()\n",
    "cursor.execute(\"SELECT * FROM \" + table)\n",
    "column_name_list = [i[0] for i in cursor.description]\n",
    "\n"
   ]
  },
  {
   "cell_type": "code",
   "execution_count": null,
   "metadata": {},
   "outputs": [],
   "source": [
    "# c1_list = cursor.fetchall()\n",
    "import joblib\n",
    "large_data = data_directory + 'large_data'\n",
    "\n",
    "comments = joblib.load(large_data)\n",
    "\n",
    "\n",
    "# table = 'Comments'\n",
    "# table_quotes =  \"'\" + table + \"'\"\n",
    "\n",
    "# cursor = conn.cursor()\n",
    "# cursor.execute(\"SELECT * FROM \" + table + \" WHERE created >='2017-01-01'\")\n",
    "# # cursor.execute(\"SELECT * FROM \" + table)\n",
    "# column_name_list = [i[0] for i in cursor.description]\n",
    "\n",
    "# limit = 200000\n",
    "# row_list = []\n",
    "# for i,row in enumerate(cursor):\n",
    "#     row_list.append(row)\n",
    "#     if i == limit:\n",
    "#         break\n",
    "#     if i % 10000 == 0:\n",
    "#         print i\n",
    "#         joblib.dump(row_list,large_data)\n",
    "# Comments = pd.DataFrame(row_list)\n",
    "# Comments.columns = column_name_list"
   ]
  },
  {
   "cell_type": "code",
   "execution_count": null,
   "metadata": {},
   "outputs": [],
   "source": [
    "i"
   ]
  },
  {
   "cell_type": "code",
   "execution_count": null,
   "metadata": {},
   "outputs": [],
   "source": [
    "Comments"
   ]
  },
  {
   "cell_type": "code",
   "execution_count": null,
   "metadata": {},
   "outputs": [],
   "source": [
    "Comments = pd.DataFrame(comments)"
   ]
  },
  {
   "cell_type": "code",
   "execution_count": null,
   "metadata": {},
   "outputs": [],
   "source": [
    "Comments.columns = column_name_list"
   ]
  },
  {
   "cell_type": "code",
   "execution_count": null,
   "metadata": {},
   "outputs": [],
   "source": [
    "table = 'TxComments'\n",
    "row_list = []\n",
    "large_data2 = data_directory + 'large_data2'\n",
    "\n",
    "for j,row in enumerate(Comments.index.values):\n",
    "    author = Comments.ix[row,'author']\n",
    "    permlink = Comments.ix[row,'permlink']\n",
    "    query = \"SELECT * FROM \" + table + \" WHERE permlink ='\" + permlink + \"' AND author = '\"  + author + \"'\"\n",
    "    cursor.execute(query)\n",
    "    for i,row in enumerate(cursor):\n",
    "        row_list.append(row)\n",
    "        \n",
    "        \n",
    "    if j % 10000 == 0:\n",
    "        print j\n",
    "        joblib.dump(row_list,large_data2)\n",
    "\n"
   ]
  },
  {
   "cell_type": "code",
   "execution_count": null,
   "metadata": {},
   "outputs": [],
   "source": [
    "column_name_list = [i[0] for i in cursor.description]\n",
    "column_name_list\n"
   ]
  },
  {
   "cell_type": "code",
   "execution_count": null,
   "metadata": {},
   "outputs": [],
   "source": []
  },
  {
   "cell_type": "code",
   "execution_count": null,
   "metadata": {},
   "outputs": [],
   "source": [
    "for "
   ]
  },
  {
   "cell_type": "code",
   "execution_count": null,
   "metadata": {},
   "outputs": [],
   "source": [
    "table = 'TxComments'\n",
    "table_quotes =  \"'\" + table + \"'\"\n",
    "large_data = data_directory + 'large_data2'\n",
    "cursor = conn.cursor()\n",
    "cursor.execute(\"SELECT * FROM \" + table + \" WHERE permlink =\" + permlink + \" AND ' author = \"  + author)\n",
    "cursor.execute(\"SELECT * FROM \" + table)\n",
    "column_name_list = [i[0] for i in cursor.description]\n",
    "\n",
    "for \n",
    "\n",
    "limit = 1\n",
    "row_list = []\n",
    "for i,row in enumerate(cursor):\n",
    "    row_list.append(row)\n",
    "    if i == limit:\n",
    "        break\n",
    "    if i % 10000 == 0:\n",
    "        print i\n",
    "        joblib.dump(row_list,large_data)\n",
    "Comments = pd.DataFrame(row_list)\n",
    "Comments.columns = column_name_list"
   ]
  },
  {
   "cell_type": "code",
   "execution_count": null,
   "metadata": {},
   "outputs": [],
   "source": [
    "Comments"
   ]
  },
  {
   "cell_type": "code",
   "execution_count": null,
   "metadata": {},
   "outputs": [],
   "source": [
    "id_min = Comments.ID.min()\n",
    "id_max = Comments.ID.max()"
   ]
  },
  {
   "cell_type": "code",
   "execution_count": null,
   "metadata": {},
   "outputs": [],
   "source": [
    "print id_min, id_max"
   ]
  },
  {
   "cell_type": "markdown",
   "metadata": {},
   "source": [
    "### TxComments Table which contains the BODY of the article"
   ]
  },
  {
   "cell_type": "code",
   "execution_count": null,
   "metadata": {},
   "outputs": [],
   "source": [
    "table = 'TxComments'\n",
    "table_quotes =  \"'\" + table + \"'\"\n",
    "\n",
    "cursor = conn.cursor()\n",
    "cursor.execute(\"SELECT * FROM \" + table)\n",
    "column_name_list = [i[0] for i in cursor.description]\n",
    "# cursor.execute(\"SELECT * FROM \" + table + \" WHERE created >='2017-01-01'\")\n",
    "\n",
    "\n",
    "\n",
    "limit = 100\n",
    "row_list = []\n",
    "for i,row in enumerate(cursor):\n",
    "    row_list.append(row)\n",
    "    if i == limit:\n",
    "        break\n",
    "TxComments = pd.DataFrame(row_list)\n",
    "TxComments.columns = column_name_list"
   ]
  },
  {
   "cell_type": "code",
   "execution_count": null,
   "metadata": {},
   "outputs": [],
   "source": [
    "list1 = TxComments.columns\n",
    "list2 = Comments.columns\n",
    "merge_list = list(set(list1).intersection(list2))\n",
    "print merge_list\n",
    "output_df = pd.merge(Comments,TxComments,how='left',on=['permlink','author'])\n",
    "print output_df.shape"
   ]
  },
  {
   "cell_type": "code",
   "execution_count": null,
   "metadata": {},
   "outputs": [],
   "source": [
    "file_path = data_directory + 'sample_data.csv'\n",
    "import csv\n",
    "output_df.to_csv(file_path,index=False, quoting=csv.QUOTE_ALL, encoding='utf-8')"
   ]
  },
  {
   "cell_type": "code",
   "execution_count": null,
   "metadata": {},
   "outputs": [],
   "source": [
    "output_df"
   ]
  },
  {
   "cell_type": "code",
   "execution_count": null,
   "metadata": {},
   "outputs": [],
   "source": [
    "for body in output_df['body']:\n",
    "    print body,'\\n'"
   ]
  },
  {
   "cell_type": "code",
   "execution_count": null,
   "metadata": {},
   "outputs": [],
   "source": []
  }
 ],
 "metadata": {
  "kernelspec": {
   "display_name": "Python 2",
   "language": "python",
   "name": "python2"
  },
  "language_info": {
   "codemirror_mode": {
    "name": "ipython",
    "version": 2
   },
   "file_extension": ".py",
   "mimetype": "text/x-python",
   "name": "python",
   "nbconvert_exporter": "python",
   "pygments_lexer": "ipython2"
  }
 },
 "nbformat": 4,
 "nbformat_minor": 1
}
