{
 "cells": [
  {
   "cell_type": "code",
   "execution_count": null,
   "metadata": {},
   "outputs": [],
   "source": [
    "import pymssql\n",
    "import pandas as pd\n",
    "pd.set_option('display.max_rows', 500)\n",
    "pd.set_option('display.max_columns', 500)\n",
    "\n",
    "data_directory = '../data/'"
   ]
  },
  {
   "cell_type": "markdown",
   "metadata": {},
   "source": [
    "#### Reference Links\n",
    "https://steemit.com/steemit/@arcange/steemsql-a-public-sql-database-with-all-blockchain-data-new-language-detection"
   ]
  },
  {
   "cell_type": "code",
   "execution_count": null,
   "metadata": {},
   "outputs": [],
   "source": [
    "server = 'sql.steemsql.com'\n",
    "user = 'steemit'\n",
    "password = 'steemit'\n",
    "database = 'DBSteem'\n",
    "conn = pymssql.connect(server, user, password, database)"
   ]
  },
  {
   "cell_type": "markdown",
   "metadata": {},
   "source": [
    "#### Tables that exist within the database"
   ]
  },
  {
   "cell_type": "code",
   "execution_count": null,
   "metadata": {},
   "outputs": [],
   "source": [
    "cursor = conn.cursor()\n",
    "cursor.execute('select * from information_schema.tables')\n",
    "for table in cursor:\n",
    "    print 'Table Name:', table[2]\n"
   ]
  },
  {
   "cell_type": "markdown",
   "metadata": {},
   "source": [
    "#### Comments table that contains the Payout"
   ]
  },
  {
   "cell_type": "code",
   "execution_count": null,
   "metadata": {},
   "outputs": [],
   "source": [
    "table = 'Comments'\n",
    "table_quotes =  \"'\" + table + \"'\"\n",
    "\n",
    "cursor = conn.cursor()\n",
    "cursor.execute(\"SELECT * FROM \" + table + \" WHERE created >='2017-01-01'\")\n",
    "column_name_list = [i[0] for i in cursor.description]\n",
    "\n",
    "row_list = []\n",
    "for i,row in enumerate(cursor):\n",
    "    row_list.append(row)\n",
    "    if i == 10:\n",
    "        break\n",
    "Comments = pd.DataFrame(row_list)\n",
    "Comments.columns = column_name_list"
   ]
  },
  {
   "cell_type": "code",
   "execution_count": null,
   "metadata": {},
   "outputs": [],
   "source": [
    "id_min = Comments.ID.min()\n",
    "id_max = Comments.ID.max()"
   ]
  },
  {
   "cell_type": "code",
   "execution_count": null,
   "metadata": {},
   "outputs": [],
   "source": [
    "print id_min, id_max"
   ]
  },
  {
   "cell_type": "markdown",
   "metadata": {},
   "source": [
    "### TxComments Table which contains the BODY of the article"
   ]
  },
  {
   "cell_type": "code",
   "execution_count": null,
   "metadata": {},
   "outputs": [],
   "source": [
    "table = 'TxComments'\n",
    "table_quotes =  \"'\" + table + \"'\"\n",
    "\n",
    "cursor = conn.cursor()\n",
    "cursor.execute(\"SELECT * FROM TxComments WHERE ID BETWEEN '1658728' AND '1658738'\" )\n",
    "column_name_list = [i[0] for i in cursor.description]\n",
    "\n",
    "\n",
    "row_list = []\n",
    "for i,row in enumerate(cursor):\n",
    "    row_list.append(row)\n",
    "    if i == 10:\n",
    "        break\n",
    "TxComments = pd.DataFrame(row_list)\n",
    "TxComments.columns = column_name_list"
   ]
  },
  {
   "cell_type": "code",
   "execution_count": null,
   "metadata": {},
   "outputs": [],
   "source": [
    "list1 = TxComments.columns\n",
    "list2 = Comments.columns\n",
    "merge_list = list(set(list1).intersection(list2))\n",
    "print merge_list\n",
    "output_df = pd.merge(Comments,TxComments,how='left',on=['ID'])"
   ]
  },
  {
   "cell_type": "code",
   "execution_count": null,
   "metadata": {},
   "outputs": [],
   "source": [
    "Comments.columns"
   ]
  },
  {
   "cell_type": "code",
   "execution_count": null,
   "metadata": {},
   "outputs": [],
   "source": [
    "TxComments.columns"
   ]
  },
  {
   "cell_type": "code",
   "execution_count": null,
   "metadata": {},
   "outputs": [],
   "source": [
    "output_df['body']"
   ]
  },
  {
   "cell_type": "code",
   "execution_count": null,
   "metadata": {},
   "outputs": [],
   "source": [
    "file_path = data_directory + 'sample_data.csv'\n",
    "output_df.to_csv(file_path)"
   ]
  },
  {
   "cell_type": "code",
   "execution_count": null,
   "metadata": {},
   "outputs": [],
   "source": []
  }
 ],
 "metadata": {
  "kernelspec": {
   "display_name": "Python 2",
   "language": "python",
   "name": "python2"
  },
  "language_info": {
   "codemirror_mode": {
    "name": "ipython",
    "version": 2
   },
   "file_extension": ".py",
   "mimetype": "text/x-python",
   "name": "python",
   "nbconvert_exporter": "python",
   "pygments_lexer": "ipython2"
  }
 },
 "nbformat": 4,
 "nbformat_minor": 1
}
