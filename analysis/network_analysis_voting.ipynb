{
 "cells": [
  {
   "cell_type": "code",
   "execution_count": null,
   "metadata": {},
   "outputs": [],
   "source": [
    "import pymssql\n",
    "import pandas as pd\n",
    "import numpy as np\n",
    "import os\n",
    "import re\n",
    "import joblib\n",
    "import sys \n",
    "import DSI_Capstone_Steemit\n",
    "from DSI_Capstone_Steemit.utils.utils import(\n",
    "    load_data_and_description,\n",
    "    load_raw_cleaned\n",
    ")\n",
    "import networkx as nx\n",
    "# load_data_and_description(data_type = 'tfidf')\n",
    "data_directory = '../data/'\n",
    "\n",
    "%matplotlib inline\n",
    "\n",
    "import seaborn as sns\n",
    "import community\n",
    "import networkx as nx\n",
    "import matplotlib.pyplot as plt\n",
    "import matplotlib.pylab as plt\n",
    "import community_louvain as community\n",
    "output_directory = os.path.join(data_directory,'networkx_votes')\n",
    "\n",
    "\n"
   ]
  },
  {
   "cell_type": "code",
   "execution_count": null,
   "metadata": {},
   "outputs": [],
   "source": [
    "raw_posts = load_raw_cleaned()\n",
    "# df_network_x = pd.read_csv('../data/voting_network.csv')\n",
    "authors = pd.read_csv(os.path.join(data_directory,'accounts.csv'))"
   ]
  },
  {
   "cell_type": "code",
   "execution_count": null,
   "metadata": {},
   "outputs": [],
   "source": [
    "# df_network_x['weight'] = 1/df_network_x['weight']\n",
    "\n"
   ]
  },
  {
   "cell_type": "code",
   "execution_count": null,
   "metadata": {},
   "outputs": [],
   "source": []
  },
  {
   "cell_type": "code",
   "execution_count": null,
   "metadata": {},
   "outputs": [],
   "source": [
    "# new_string = df_network_x['author'] + ',' + df_network_x['voter']\n",
    "# new_string = new_string.str.split(',').apply(np.sort)\n",
    "# df_network_x['author'] = new_string.str.get(0)\n",
    "# df_network_x['voter'] = new_string.str.get(1)\n",
    "# df_network_x = df_network_x.groupby(['author','voter']).sum().reset_index()\n",
    "# df_network_x.to_csv(os.path.join(output_directory,'votes.csv'))"
   ]
  },
  {
   "cell_type": "markdown",
   "metadata": {},
   "source": [
    "## Shape goes from 5045139 to 4621422 which shows that the differences is how many times  groups have voted for eachother"
   ]
  },
  {
   "cell_type": "code",
   "execution_count": null,
   "metadata": {},
   "outputs": [],
   "source": [
    "# G_fb = nx.from_pandas_dataframe(df = df_network_x,source = 'author',\n",
    "#                              target='voter',edge_attr= 'weight',create_using = nx.DiGraph())\n",
    "\n",
    "# joblib.dump(G_fb,os.path.join(output_directory,'directed_graph'))\n",
    "\n",
    "G_fb = joblib.load(os.path.join(output_directory,'directed_graph'))"
   ]
  },
  {
   "cell_type": "code",
   "execution_count": null,
   "metadata": {},
   "outputs": [],
   "source": [
    "# parts = community.best_partition(G_fb,weight='weight')\n",
    "# joblib.dump(parts,os.path.join(data_directory,'parts'))\n",
    "\n",
    "# parts = joblib.load(os.path.join(output_directory,'parts'))"
   ]
  },
  {
   "cell_type": "code",
   "execution_count": null,
   "metadata": {},
   "outputs": [],
   "source": [
    "print nx.info(G_fb)"
   ]
  },
  {
   "cell_type": "code",
   "execution_count": null,
   "metadata": {},
   "outputs": [],
   "source": [
    "comm_cenetrality = nx.communicability_centrality(G_fb)"
   ]
  },
  {
   "cell_type": "markdown",
   "metadata": {},
   "source": [
    "### Katz Centrality\n",
    "* Katz centrality[21] is a generalization of degree centrality. Degree centrality measures the number of direct neighbors, and Katz centrality measures the number of all nodes that can be connected through a path, while the contributions of distant nodes are penalized. Mathematically, it is defined as "
   ]
  },
  {
   "cell_type": "code",
   "execution_count": null,
   "metadata": {},
   "outputs": [],
   "source": [
    "#"
   ]
  },
  {
   "cell_type": "code",
   "execution_count": null,
   "metadata": {},
   "outputs": [],
   "source": [
    "adj = nx.adjacency_matrix(G_fb)\n",
    "eigenvalues = np.linalg.eigvals(adj.toarray())\n",
    "max_eig = max(eigenvalues)\n",
    "print 1/max_eig"
   ]
  },
  {
   "cell_type": "markdown",
   "metadata": {},
   "source": [
    "### Katz Centrality"
   ]
  },
  {
   "cell_type": "markdown",
   "metadata": {},
   "source": [
    "This algorithm it uses the power method to find the eigenvector corresponding to the largest eigenvalue of the adjacency matrix of G. The constant alpha should be strictly less than the inverse of largest eigenvalue of the adjacency matrix for the algorithm to converge. The iteration will stop after max_iter iterations or an error tolerance of number_of_nodes(G)*tol has been reached.\n",
    "\n"
   ]
  },
  {
   "cell_type": "code",
   "execution_count": null,
   "metadata": {},
   "outputs": [],
   "source": [
    "# # phi = (1+np.sqrt(4991))/2.0\n",
    "# centrality = nx.katz_centrality_numpy(G_fb,0.01, weight = 'weight')\n",
    "# centrality = pd.DataFrame(zip(centrality.keys(),centrality.values()))\n",
    "# centrality.columns = ['user','measure']"
   ]
  },
  {
   "cell_type": "markdown",
   "metadata": {},
   "source": [
    "## Eigenvalue Centrality\n",
    "* Eigenvector centrality (also called eigencentrality) is a measure of the influence of a node in a network. It assigns relative scores to all nodes in the network based on the concept that connections to high-scoring nodes contribute more to the score of the node in question than equal connections to low-scoring nodes. Google's PageRank and the Katz centrality are variants of the eigenvector centrality.[19]\n",
    "\n"
   ]
  },
  {
   "cell_type": "code",
   "execution_count": null,
   "metadata": {},
   "outputs": [],
   "source": [
    "eig_cent = nx.eigenvector_centrality_numpy(G_fb, weight = 'weight')"
   ]
  },
  {
   "cell_type": "code",
   "execution_count": null,
   "metadata": {},
   "outputs": [],
   "source": [
    "joblib_dump(eig_cent,'eig_cent')"
   ]
  },
  {
   "cell_type": "markdown",
   "metadata": {},
   "source": [
    "### Load Centrality\n",
    "* The load centrality of a node is the fraction of all shortest paths that pass through that node.\n",
    "\n"
   ]
  },
  {
   "cell_type": "code",
   "execution_count": null,
   "metadata": {},
   "outputs": [],
   "source": [
    "# load_centrality = nx.load_centrality(G_fb,weight = 'weight')"
   ]
  },
  {
   "cell_type": "markdown",
   "metadata": {},
   "source": [
    "## Betweeness Centrality"
   ]
  },
  {
   "cell_type": "markdown",
   "metadata": {},
   "source": [
    "* Betweenness is a centrality measure of a vertex within a graph (there is also edge betweenness, which is not discussed here). Betweenness centrality quantifies the number of times a node acts as a bridge along the shortest path between two other nodes. It was introduced as a measure for quantifying the control of a human on the communication between other humans in a social network by Linton Freeman[17] In his conception, vertices that have a high probability to occur on a randomly chosen shortest path between two randomly chosen vertices have a high betweenness.\n",
    "\n",
    "\n"
   ]
  },
  {
   "cell_type": "code",
   "execution_count": null,
   "metadata": {},
   "outputs": [],
   "source": [
    "# Took too long\n",
    "# betweeness_cen = nx.betweenness_centrality(G_fb, weight = 'weight')"
   ]
  },
  {
   "cell_type": "code",
   "execution_count": null,
   "metadata": {},
   "outputs": [],
   "source": [
    "joblib_dump(betweeness_cen,'betweeness_cen')"
   ]
  },
  {
   "cell_type": "code",
   "execution_count": null,
   "metadata": {},
   "outputs": [],
   "source": [
    "def joblib_dump(data,filename):\n",
    "    joblib.dump(data,os.path.join(output_directory,filename))"
   ]
  },
  {
   "cell_type": "markdown",
   "metadata": {},
   "source": [
    "# HITS"
   ]
  },
  {
   "cell_type": "code",
   "execution_count": null,
   "metadata": {},
   "outputs": [],
   "source": [
    "hits = nx.hits_scipy(G_fb)\n",
    "joblib_dump(hits,'hits')"
   ]
  },
  {
   "cell_type": "code",
   "execution_count": null,
   "metadata": {},
   "outputs": [],
   "source": [
    "hubs,authorities = hits"
   ]
  },
  {
   "cell_type": "code",
   "execution_count": null,
   "metadata": {},
   "outputs": [],
   "source": [
    "# df_hits = pd.DataFrame([hubs.values(),authorities.values()]).T\n",
    "# df_hits.columns = ['Hubs','Authorities']\n",
    "# sns.regplot(data=df_hits,x = 'Hubs',y = 'Authorities',scatter_kws={\"alpha\": 0.1},)"
   ]
  },
  {
   "cell_type": "code",
   "execution_count": null,
   "metadata": {},
   "outputs": [],
   "source": []
  },
  {
   "cell_type": "markdown",
   "metadata": {},
   "source": [
    "### Page Rank\n",
    "* PageRank computes a ranking of the nodes in the graph G based on the structure of the incoming links. It was originally designed as an algorithm to rank web pages.\n",
    "\n"
   ]
  },
  {
   "cell_type": "code",
   "execution_count": null,
   "metadata": {},
   "outputs": [],
   "source": [
    "prank = nx.pagerank(G_fb,weight = 'weight')"
   ]
  },
  {
   "cell_type": "code",
   "execution_count": null,
   "metadata": {},
   "outputs": [],
   "source": [
    "joblib_dump(prank,'prank')"
   ]
  },
  {
   "cell_type": "markdown",
   "metadata": {},
   "source": [
    "### Core Number\n",
    "* Return the core number for each vertex. A k-core is a maximal subgraph that contains nodes of degree k or more. The core number of a node is the largest value k of a k-core containing that node.\n",
    "\n"
   ]
  },
  {
   "cell_type": "code",
   "execution_count": null,
   "metadata": {},
   "outputs": [],
   "source": [
    "G_fb.remove_edges_from(G_fb.selfloop_edges())\n",
    "core_k = nx.core_number(G_fb)"
   ]
  },
  {
   "cell_type": "code",
   "execution_count": null,
   "metadata": {},
   "outputs": [],
   "source": [
    "core_k"
   ]
  },
  {
   "cell_type": "code",
   "execution_count": null,
   "metadata": {},
   "outputs": [],
   "source": [
    "joblib_dump(prank,'core_k')"
   ]
  },
  {
   "cell_type": "code",
   "execution_count": null,
   "metadata": {},
   "outputs": [],
   "source": [
    "from scipy.stats import linregress"
   ]
  },
  {
   "cell_type": "code",
   "execution_count": null,
   "metadata": {},
   "outputs": [],
   "source": [
    "# pos=nx.spring_layout(G_fb)\n",
    "# nx.draw(G_fb,pos=pos,\n",
    "#     node_size=50, with_labels=False)\n",
    "\n",
    "# for key in pos.keys():\n",
    "#     x,y = pos[key]\n",
    "#     pos[key] = np.array([x,y + .05])\n",
    "\n",
    "\n",
    "\n",
    "# labels=nx.draw_networkx_labels(G_fb,pos=pos)\n",
    "# # labels=nx.draw_networkx_labels(G_fb,pos={'steemsports': pos['steemsports']},font_color='blue')\n",
    "# plt.show()\n"
   ]
  },
  {
   "cell_type": "code",
   "execution_count": null,
   "metadata": {},
   "outputs": [],
   "source": [
    "centrality['cluster'] = centrality['user'].map(parts)\n",
    "centrality.to_csv('../data/centrality_lookup/centrality_lookup.csv')"
   ]
  },
  {
   "cell_type": "code",
   "execution_count": null,
   "metadata": {},
   "outputs": [],
   "source": [
    "idx = authors['Cluster'] != 'No Group'\n",
    "idx2 = centrality['cluster'].isin(authors['Cluster'].value_counts().index[0:21].values)\n",
    "\n",
    "\n",
    "sns.barplot(x = centrality.ix[idx2,'cluster'], y = centrality.ix[idx2,'measure'], orient = 'v')"
   ]
  },
  {
   "cell_type": "code",
   "execution_count": null,
   "metadata": {},
   "outputs": [],
   "source": [
    "authors['Cluster'] = authors['name'].map(parts)\n",
    "authors['Cluster'] = authors['Cluster'].fillna('No Group')\n",
    "# idx = authors['Cluster'] != 'No Group'\n",
    "# authors.ix[idx,'Cluster'] = authors.ix[idx,'Cluster'].astype(int)\n",
    "\n"
   ]
  },
  {
   "cell_type": "code",
   "execution_count": null,
   "metadata": {},
   "outputs": [],
   "source": [
    "raw_posts['Cluster'] = raw_posts['author'].map(parts)\n",
    "raw_posts_small = raw_posts[raw_posts['Cluster'].isin(authors['Cluster'].value_counts().index[0:21].values)]"
   ]
  },
  {
   "cell_type": "code",
   "execution_count": null,
   "metadata": {},
   "outputs": [],
   "source": [
    "fig,ax = plt.subplots(1,1,figsize = (8,8))\n",
    "# idx = authors['Cluster'] != 'No Group'\n",
    "idx2 = authors['Cluster'].isin(authors['Cluster'].value_counts().index[0:21].values)\n",
    "\n",
    "sns.countplot(y = authors.ix[idx2,'Cluster'], ax =ax)"
   ]
  },
  {
   "cell_type": "code",
   "execution_count": null,
   "metadata": {},
   "outputs": [],
   "source": [
    "grouped = raw_posts.groupby('Cluster').sum().reset_index()\n",
    "raw_posts['count'] = 1\n",
    "grouped_count = raw_posts.groupby('Cluster').count().reset_index()"
   ]
  },
  {
   "cell_type": "code",
   "execution_count": null,
   "metadata": {},
   "outputs": [],
   "source": [
    "top_20_clusters = authors['Cluster'].value_counts().index[0:21].values\n",
    "idx = raw_posts['Cluster'].isin(top_20_clusters)\n",
    "raw_posts_plot = raw_posts[:]\n",
    "sns.barplot(x = 'Cluster',y = 'total_payout_value',\n",
    "            data = raw_posts_plot)\n",
    "            # plt.savefig('bar_chart.png')"
   ]
  },
  {
   "cell_type": "code",
   "execution_count": null,
   "metadata": {},
   "outputs": [],
   "source": [
    "idx = raw_posts['Cluster'].isin(top_20_clusters)\n",
    "raw_posts_plot = raw_posts[idx]\n",
    "\n",
    "idx = grouped_count['Cluster'].isin(top_20_clusters)\n",
    "bar_plot_data = grouped_count.ix[idx,['Cluster','count']]\n",
    "bar_plot_data['Cluster'] = bar_plot_data['Cluster'].astype(int)\n",
    "fig,ax = plt.subplots(1,1,figsize = (10,10))\n",
    "\n",
    "sns.barplot(x = 'count',y = 'Cluster',data=bar_plot_data, orient='h',ax = ax)"
   ]
  },
  {
   "cell_type": "code",
   "execution_count": null,
   "metadata": {},
   "outputs": [],
   "source": []
  },
  {
   "cell_type": "code",
   "execution_count": null,
   "metadata": {},
   "outputs": [],
   "source": [
    "idx = raw_posts['Cluster'].isin(top_20_clusters)\n",
    "raw_posts_plot = raw_posts[idx]\n",
    "\n",
    "idx = grouped['Cluster'].isin(top_20_clusters)\n",
    "bar_plot_data = grouped.ix[idx,['Cluster','total_payout_value']]\n",
    "bar_plot_data['Cluster'] = bar_plot_data['Cluster'].astype(int)\n",
    "fig,ax = plt.subplots(1,1,figsize = (10,10))\n",
    "\n",
    "sns.barplot(x = 'total_payout_value',y = 'Cluster',data=bar_plot_data, orient='h',ax = ax)"
   ]
  },
  {
   "cell_type": "code",
   "execution_count": null,
   "metadata": {},
   "outputs": [],
   "source": [
    "top_20_clusters = authors['Cluster'].value_counts().index[0:21].values\n",
    "idx = raw_posts['Cluster'].isin(top_20_clusters)\n",
    "raw_posts_plot = raw_posts[:]\n",
    "sns.barplot(x = 'Cluster',y = 'total_payout_value',\n",
    "            data = raw_posts_plot)\n",
    "            # plt.savefig('bar_chart.png')"
   ]
  },
  {
   "cell_type": "code",
   "execution_count": null,
   "metadata": {},
   "outputs": [],
   "source": [
    "top_20_clusters = authors['Cluster'].value_counts().index[0:21].values\n",
    "idx = raw_posts['Cluster'].isin(top_20_clusters)\n",
    "raw_posts_plot = raw_posts[:]\n",
    "sns.barplot(x = 'Cluster',y = 'number of body tags',\n",
    "            data = raw_posts_plot)\n",
    "            # plt.savefig('bar_chart.png')\n",
    "    \n",
    "plt.title('Cluster with Average Number of Body Tags')"
   ]
  },
  {
   "cell_type": "code",
   "execution_count": null,
   "metadata": {},
   "outputs": [],
   "source": [
    "top_20_clusters = authors['Cluster'].value_counts().index[0:21].values\n",
    "idx = raw_posts['Cluster'].isin(top_20_clusters)\n",
    "raw_posts_plot = raw_posts[:]\n",
    "sns.barplot(x = 'Cluster',y = 'number of body urls',\n",
    "            data = raw_posts_plot)\n",
    "            # plt.savefig('bar_chart.png')\n",
    "    \n",
    "plt.title('Cluster with Average Number of Body URls')"
   ]
  },
  {
   "cell_type": "code",
   "execution_count": null,
   "metadata": {},
   "outputs": [],
   "source": [
    "top_20_clusters = authors['Cluster'].value_counts().index[0:21].values\n",
    "idx = raw_posts['Cluster'].isin(top_20_clusters)\n",
    "raw_posts_plot = raw_posts[:]\n",
    "sns.barplot(x = 'Cluster',y = 'number of youtube urls',\n",
    "            data = raw_posts_plot)\n",
    "            # plt.savefig('bar_chart.png')\n",
    "    \n",
    "plt.title('Cluster with Average Number of Video URls')"
   ]
  },
  {
   "cell_type": "code",
   "execution_count": null,
   "metadata": {},
   "outputs": [],
   "source": [
    "top_20_clusters = authors['Cluster'].value_counts().index[0:21].values\n",
    "idx = raw_posts['Cluster'].isin(top_20_clusters)\n",
    "raw_posts_plot = raw_posts[:]\n",
    "sns.barplot(x = 'Cluster',y = 'number of body tags',\n",
    "            data = raw_posts_plot)\n",
    "            # plt.savefig('bar_chart.png')\n",
    "    \n",
    "plt.title('Cluster with Average Number of Body Tags')"
   ]
  },
  {
   "cell_type": "code",
   "execution_count": null,
   "metadata": {},
   "outputs": [],
   "source": []
  }
 ],
 "metadata": {
  "kernelspec": {
   "display_name": "Python 2",
   "language": "python",
   "name": "python2"
  },
  "language_info": {
   "codemirror_mode": {
    "name": "ipython",
    "version": 2
   },
   "file_extension": ".py",
   "mimetype": "text/x-python",
   "name": "python",
   "nbconvert_exporter": "python",
   "pygments_lexer": "ipython2"
  }
 },
 "nbformat": 4,
 "nbformat_minor": 1
}
