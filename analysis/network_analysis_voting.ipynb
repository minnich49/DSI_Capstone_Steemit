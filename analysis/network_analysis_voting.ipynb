{
 "cells": [
  {
   "cell_type": "code",
   "execution_count": 1,
   "metadata": {
    "collapsed": false
   },
   "outputs": [],
   "source": [
    "import pymssql\n",
    "import pandas as pd\n",
    "import numpy as np\n",
    "import os\n",
    "import re\n",
    "import joblib\n",
    "import sys \n",
    "import DSI_Capstone_Steemit\n",
    "from DSI_Capstone_Steemit.utils.utils import(\n",
    "    load_data_and_description,\n",
    "    load_raw_cleaned\n",
    ")\n",
    "import networkx as nx\n",
    "# load_data_and_description(data_type = 'tfidf')\n",
    "data_directory = '../data/'\n",
    "\n",
    "%matplotlib inline\n",
    "\n",
    "import seaborn as sns\n",
    "import community\n",
    "import networkx as nx\n",
    "import matplotlib.pyplot as plt\n",
    "import matplotlib.pylab as plt\n",
    "import community_louvain as community\n",
    "output_directory = os.path.join(data_directory,'networkx_votes')\n",
    "\n",
    "\n"
   ]
  },
  {
   "cell_type": "code",
   "execution_count": 2,
   "metadata": {
    "collapsed": false
   },
   "outputs": [
    {
     "name": "stderr",
     "output_type": "stream",
     "text": [
      "/usr/local/lib/python2.7/site-packages/IPython/core/interactiveshell.py:2821: DtypeWarning: Columns (62) have mixed types. Specify dtype option on import or set low_memory=False.\n",
      "  if self.run_code(code, result):\n"
     ]
    }
   ],
   "source": [
    "raw_posts = load_raw_cleaned()\n",
    "df_network_x = pd.read_csv('../data/voting_network.csv')\n",
    "authors = pd.read_csv(os.path.join(data_directory,'accounts.csv'))"
   ]
  },
  {
   "cell_type": "code",
   "execution_count": 3,
   "metadata": {
    "collapsed": false
   },
   "outputs": [],
   "source": [
    "df_network_x['weight'] = 1/df_network_x['weight']\n",
    "\n"
   ]
  },
  {
   "cell_type": "code",
   "execution_count": null,
   "metadata": {
    "collapsed": true
   },
   "outputs": [],
   "source": []
  },
  {
   "cell_type": "code",
   "execution_count": null,
   "metadata": {
    "collapsed": true
   },
   "outputs": [],
   "source": [
    "# new_string = df_network_x['author'] + ',' + df_network_x['voter']\n",
    "# new_string = new_string.str.split(',').apply(np.sort)\n",
    "# df_network_x['author'] = new_string.str.get(0)\n",
    "# df_network_x['voter'] = new_string.str.get(1)\n",
    "# df_network_x = df_network_x.groupby(['author','voter']).sum().reset_index()\n",
    "# df_network_x.to_csv(os.path.join(output_directory,'votes.csv'))"
   ]
  },
  {
   "cell_type": "markdown",
   "metadata": {},
   "source": [
    "## Shape goes from 5045139 to 4621422 which shows that the differences is how many times  groups have voted for eachother"
   ]
  },
  {
   "cell_type": "code",
   "execution_count": null,
   "metadata": {
    "collapsed": false
   },
   "outputs": [],
   "source": [
    "# G_fb = nx.from_pandas_dataframe(df = df_network_x,source = 'author',\n",
    "#                              target='voter',edge_attr= 'weight',create_using = nx.DiGraph())\n",
    "\n",
    "# joblib.dump(G_fb,os.path.join(output_directory,'directed_graph'))\n",
    "\n",
    "G_fb = joblib.load(os.path.join(output_directory,'directed_graph'))"
   ]
  },
  {
   "cell_type": "code",
   "execution_count": null,
   "metadata": {
    "collapsed": false
   },
   "outputs": [],
   "source": [
    "# parts = community.best_partition(G_fb,weight='weight')\n",
    "# joblib.dump(parts,os.path.join(data_directory,'parts'))\n",
    "\n",
    "# parts = joblib.load(os.path.join(output_directory,'parts'))"
   ]
  },
  {
   "cell_type": "code",
   "execution_count": 4,
   "metadata": {
    "collapsed": false
   },
   "outputs": [],
   "source": [
    "import numpy as np\n",
    "import igraph\n",
    "\n"
   ]
  },
  {
   "cell_type": "code",
   "execution_count": 5,
   "metadata": {
    "collapsed": false
   },
   "outputs": [
    {
     "data": {
      "text/plain": [
       "Index([u'author', u'voter', u'weight'], dtype='object')"
      ]
     },
     "execution_count": 5,
     "metadata": {},
     "output_type": "execute_result"
    }
   ],
   "source": [
    "df_network_x.columns"
   ]
  },
  {
   "cell_type": "code",
   "execution_count": 6,
   "metadata": {
    "collapsed": true
   },
   "outputs": [],
   "source": [
    "tuples = [tuple(x) for x in df_network_x[['author','voter','weight']].values]\n"
   ]
  },
  {
   "cell_type": "code",
   "execution_count": 8,
   "metadata": {
    "collapsed": false
   },
   "outputs": [
    {
     "data": {
      "text/plain": [
       "65681"
      ]
     },
     "execution_count": 8,
     "metadata": {},
     "output_type": "execute_result"
    }
   ],
   "source": [
    "ig.vcount()"
   ]
  },
  {
   "cell_type": "code",
   "execution_count": 9,
   "metadata": {
    "collapsed": false
   },
   "outputs": [
    {
     "data": {
      "text/plain": [
       "5045139"
      ]
     },
     "execution_count": 9,
     "metadata": {},
     "output_type": "execute_result"
    }
   ],
   "source": [
    "ig.ecount()"
   ]
  },
  {
   "cell_type": "code",
   "execution_count": 7,
   "metadata": {
    "collapsed": false
   },
   "outputs": [],
   "source": [
    "ig = igraph.Graph.TupleList(edges=tuples,\n",
    "                            weights = True,\n",
    "                            directed=True)"
   ]
  },
  {
   "cell_type": "code",
   "execution_count": 22,
   "metadata": {
    "collapsed": false
   },
   "outputs": [],
   "source": [
    "k_core = ig.community_infomap(edge_weights='weight',trials= 1)"
   ]
  },
  {
   "cell_type": "code",
   "execution_count": 25,
   "metadata": {
    "collapsed": false
   },
   "outputs": [
    {
     "data": {
      "text/plain": [
       "0       58779\n",
       "1         331\n",
       "2         221\n",
       "3         174\n",
       "5          88\n",
       "4          87\n",
       "6          74\n",
       "7          73\n",
       "10         56\n",
       "17         47\n",
       "26         42\n",
       "9          41\n",
       "20         35\n",
       "19         35\n",
       "29         35\n",
       "13         35\n",
       "31         30\n",
       "24         28\n",
       "23         27\n",
       "16         27\n",
       "21         26\n",
       "33         25\n",
       "14         24\n",
       "57         23\n",
       "28         23\n",
       "76         23\n",
       "50         22\n",
       "54         21\n",
       "44         21\n",
       "43         20\n",
       "        ...  \n",
       "1955        1\n",
       "1060        1\n",
       "1124        1\n",
       "1188        1\n",
       "1252        1\n",
       "1316        1\n",
       "1380        1\n",
       "1444        1\n",
       "1508        1\n",
       "1379        1\n",
       "1315        1\n",
       "1251        1\n",
       "1570        1\n",
       "1122        1\n",
       "1186        1\n",
       "1250        1\n",
       "1314        1\n",
       "1378        1\n",
       "1442        1\n",
       "1506        1\n",
       "1634        1\n",
       "1187        1\n",
       "1698        1\n",
       "1762        1\n",
       "1826        1\n",
       "1890        1\n",
       "1954        1\n",
       "1059        1\n",
       "1123        1\n",
       "1183        1\n",
       "dtype: int64"
      ]
     },
     "execution_count": 25,
     "metadata": {},
     "output_type": "execute_result"
    }
   ],
   "source": [
    "pd.Series(k_core.membership).value_counts()"
   ]
  },
  {
   "cell_type": "code",
   "execution_count": 24,
   "metadata": {
    "collapsed": false
   },
   "outputs": [
    {
     "data": {
      "text/plain": [
       "65681"
      ]
     },
     "execution_count": 24,
     "metadata": {},
     "output_type": "execute_result"
    }
   ],
   "source": [
    "len(k_core.membership)"
   ]
  },
  {
   "cell_type": "code",
   "execution_count": null,
   "metadata": {
    "collapsed": true
   },
   "outputs": [],
   "source": [
    "# community_infomap Maps of random walks on complex networks reveal community structure"
   ]
  },
  {
   "cell_type": "code",
   "execution_count": null,
   "metadata": {
    "collapsed": false
   },
   "outputs": [],
   "source": [
    "node_lookup = {}\n",
    "node_list = []\n",
    "for i,name in enumerate(G_fb.nodes()):\n",
    "    node_lookup[name] = i\n",
    "    node_list.append(i)\n",
    "edge_list = []\n",
    "for tup in G_fb.edges():\n",
    "    edge_list.append((node_lookup[tup[0]],node_lookup[tup[1]]))\n",
    "\n",
    "    \n",
    "edge_lookup = {}\n",
    "\n"
   ]
  },
  {
   "cell_type": "code",
   "execution_count": null,
   "metadata": {
    "collapsed": false
   },
   "outputs": [],
   "source": [
    "weights = df_network_x['weight'].values"
   ]
  },
  {
   "cell_type": "code",
   "execution_count": null,
   "metadata": {
    "collapsed": false
   },
   "outputs": [],
   "source": [
    "ig.add_vertex(node_list)"
   ]
  },
  {
   "cell_type": "code",
   "execution_count": null,
   "metadata": {
    "collapsed": false
   },
   "outputs": [],
   "source": [
    "ig.es[\"weight\"] = 1.0"
   ]
  },
  {
   "cell_type": "code",
   "execution_count": null,
   "metadata": {
    "collapsed": false
   },
   "outputs": [],
   "source": [
    "ig.add_edge(edge_list[720][0],edge_list[300][1])"
   ]
  },
  {
   "cell_type": "code",
   "execution_count": null,
   "metadata": {
    "collapsed": false
   },
   "outputs": [],
   "source": [
    "edge_list[720][0]"
   ]
  },
  {
   "cell_type": "code",
   "execution_count": null,
   "metadata": {
    "collapsed": false
   },
   "outputs": [],
   "source": [
    "edge_list[0]"
   ]
  },
  {
   "cell_type": "code",
   "execution_count": null,
   "metadata": {
    "collapsed": false
   },
   "outputs": [],
   "source": [
    "df_network_x.ix[:,['author','voter','weight']]\n",
    "\n",
    "for i,row in enumerate(df_network_x.index):\n",
    "    author = df_network_x.ix[row,'author']\n",
    "    voter = df_network_x.ix[row,'voter']\n",
    "    weight = df_network_x.ix[row,'weight']    \n",
    "    ig.add_edge(node_lookup[author],\n",
    "                node_lookup[voter],\n",
    "                weight = weight)\n",
    "    if i % 1000 == 0:\n",
    "        break"
   ]
  },
  {
   "cell_type": "code",
   "execution_count": null,
   "metadata": {
    "collapsed": true
   },
   "outputs": [],
   "source": [
    "iG.add_edges(w)"
   ]
  },
  {
   "cell_type": "code",
   "execution_count": null,
   "metadata": {
    "collapsed": false
   },
   "outputs": [],
   "source": [
    "joblib.dump(iG,os.path.join(output_directory,'directed_graph_igraph'))\n",
    "\n"
   ]
  },
  {
   "cell_type": "code",
   "execution_count": null,
   "metadata": {
    "collapsed": false
   },
   "outputs": [],
   "source": [
    "communities = iG.community_edge_betweenness(directed=True)\n",
    "clusters = communities.as_clustering()\n"
   ]
  },
  {
   "cell_type": "code",
   "execution_count": null,
   "metadata": {
    "collapsed": false
   },
   "outputs": [],
   "source": [
    "iG.e"
   ]
  },
  {
   "cell_type": "code",
   "execution_count": null,
   "metadata": {
    "collapsed": false
   },
   "outputs": [],
   "source": [
    "type(vertices)"
   ]
  },
  {
   "cell_type": "code",
   "execution_count": null,
   "metadata": {
    "collapsed": false
   },
   "outputs": [],
   "source": [
    "cluster_output = nx.clustering(G_fb, weight=)"
   ]
  },
  {
   "cell_type": "code",
   "execution_count": null,
   "metadata": {
    "collapsed": false
   },
   "outputs": [],
   "source": [
    "print nx.info(G_fb)"
   ]
  },
  {
   "cell_type": "code",
   "execution_count": null,
   "metadata": {
    "collapsed": false
   },
   "outputs": [],
   "source": [
    "comm_cenetrality = nx.communicability_centrality(G_fb)"
   ]
  },
  {
   "cell_type": "markdown",
   "metadata": {},
   "source": [
    "### Katz Centrality\n",
    "* Katz centrality[21] is a generalization of degree centrality. Degree centrality measures the number of direct neighbors, and Katz centrality measures the number of all nodes that can be connected through a path, while the contributions of distant nodes are penalized. Mathematically, it is defined as "
   ]
  },
  {
   "cell_type": "code",
   "execution_count": null,
   "metadata": {
    "collapsed": true
   },
   "outputs": [],
   "source": [
    "#"
   ]
  },
  {
   "cell_type": "code",
   "execution_count": null,
   "metadata": {
    "collapsed": true
   },
   "outputs": [],
   "source": [
    "adj = nx.adjacency_matrix(G_fb)\n",
    "eigenvalues = np.linalg.eigvals(adj.toarray())\n",
    "max_eig = max(eigenvalues)\n",
    "print 1/max_eig"
   ]
  },
  {
   "cell_type": "markdown",
   "metadata": {},
   "source": [
    "### Katz Centrality"
   ]
  },
  {
   "cell_type": "markdown",
   "metadata": {},
   "source": [
    "This algorithm it uses the power method to find the eigenvector corresponding to the largest eigenvalue of the adjacency matrix of G. The constant alpha should be strictly less than the inverse of largest eigenvalue of the adjacency matrix for the algorithm to converge. The iteration will stop after max_iter iterations or an error tolerance of number_of_nodes(G)*tol has been reached.\n",
    "\n"
   ]
  },
  {
   "cell_type": "code",
   "execution_count": null,
   "metadata": {
    "collapsed": false
   },
   "outputs": [],
   "source": [
    "# # phi = (1+np.sqrt(4991))/2.0\n",
    "# centrality = nx.katz_centrality_numpy(G_fb,0.01, weight = 'weight')\n",
    "# centrality = pd.DataFrame(zip(centrality.keys(),centrality.values()))\n",
    "# centrality.columns = ['user','measure']"
   ]
  },
  {
   "cell_type": "markdown",
   "metadata": {},
   "source": [
    "## Eigenvalue Centrality\n",
    "* Eigenvector centrality (also called eigencentrality) is a measure of the influence of a node in a network. It assigns relative scores to all nodes in the network based on the concept that connections to high-scoring nodes contribute more to the score of the node in question than equal connections to low-scoring nodes. Google's PageRank and the Katz centrality are variants of the eigenvector centrality.[19]\n",
    "\n"
   ]
  },
  {
   "cell_type": "code",
   "execution_count": null,
   "metadata": {
    "collapsed": true
   },
   "outputs": [],
   "source": [
    "eig_cent = nx.eigenvector_centrality_numpy(G_fb, weight = 'weight')"
   ]
  },
  {
   "cell_type": "code",
   "execution_count": null,
   "metadata": {
    "collapsed": true
   },
   "outputs": [],
   "source": [
    "joblib_dump(eig_cent,'eig_cent')"
   ]
  },
  {
   "cell_type": "markdown",
   "metadata": {},
   "source": [
    "### Load Centrality\n",
    "* The load centrality of a node is the fraction of all shortest paths that pass through that node.\n",
    "\n"
   ]
  },
  {
   "cell_type": "code",
   "execution_count": null,
   "metadata": {
    "collapsed": false
   },
   "outputs": [],
   "source": [
    "# load_centrality = nx.load_centrality(G_fb,weight = 'weight')"
   ]
  },
  {
   "cell_type": "markdown",
   "metadata": {},
   "source": [
    "## Betweeness Centrality"
   ]
  },
  {
   "cell_type": "markdown",
   "metadata": {},
   "source": [
    "* Betweenness is a centrality measure of a vertex within a graph (there is also edge betweenness, which is not discussed here). Betweenness centrality quantifies the number of times a node acts as a bridge along the shortest path between two other nodes. It was introduced as a measure for quantifying the control of a human on the communication between other humans in a social network by Linton Freeman[17] In his conception, vertices that have a high probability to occur on a randomly chosen shortest path between two randomly chosen vertices have a high betweenness.\n",
    "\n",
    "\n"
   ]
  },
  {
   "cell_type": "code",
   "execution_count": null,
   "metadata": {
    "collapsed": false
   },
   "outputs": [],
   "source": [
    "# Took too long\n",
    "# betweeness_cen = nx.betweenness_centrality(G_fb, weight = 'weight')"
   ]
  },
  {
   "cell_type": "code",
   "execution_count": null,
   "metadata": {
    "collapsed": false
   },
   "outputs": [],
   "source": [
    "joblib_dump(betweeness_cen,'betweeness_cen')"
   ]
  },
  {
   "cell_type": "code",
   "execution_count": null,
   "metadata": {
    "collapsed": true
   },
   "outputs": [],
   "source": [
    "def joblib_dump(data,filename):\n",
    "    joblib.dump(data,os.path.join(output_directory,filename))"
   ]
  },
  {
   "cell_type": "markdown",
   "metadata": {},
   "source": [
    "# HITS"
   ]
  },
  {
   "cell_type": "code",
   "execution_count": null,
   "metadata": {
    "collapsed": true
   },
   "outputs": [],
   "source": [
    "hits = nx.hits_scipy(G_fb)\n",
    "joblib_dump(hits,'hits')"
   ]
  },
  {
   "cell_type": "code",
   "execution_count": null,
   "metadata": {
    "collapsed": false
   },
   "outputs": [],
   "source": [
    "hubs,authorities = hits"
   ]
  },
  {
   "cell_type": "code",
   "execution_count": null,
   "metadata": {
    "collapsed": false
   },
   "outputs": [],
   "source": [
    "# df_hits = pd.DataFrame([hubs.values(),authorities.values()]).T\n",
    "# df_hits.columns = ['Hubs','Authorities']\n",
    "# sns.regplot(data=df_hits,x = 'Hubs',y = 'Authorities',scatter_kws={\"alpha\": 0.1},)"
   ]
  },
  {
   "cell_type": "code",
   "execution_count": null,
   "metadata": {
    "collapsed": true
   },
   "outputs": [],
   "source": []
  },
  {
   "cell_type": "markdown",
   "metadata": {
    "collapsed": true
   },
   "source": [
    "### Page Rank\n",
    "* PageRank computes a ranking of the nodes in the graph G based on the structure of the incoming links. It was originally designed as an algorithm to rank web pages.\n",
    "\n"
   ]
  },
  {
   "cell_type": "code",
   "execution_count": null,
   "metadata": {
    "collapsed": true
   },
   "outputs": [],
   "source": [
    "prank = nx.pagerank(G_fb,weight = 'weight')"
   ]
  },
  {
   "cell_type": "code",
   "execution_count": null,
   "metadata": {
    "collapsed": true
   },
   "outputs": [],
   "source": [
    "joblib_dump(prank,'prank')"
   ]
  },
  {
   "cell_type": "markdown",
   "metadata": {},
   "source": [
    "### Core Number\n",
    "* Return the core number for each vertex. A k-core is a maximal subgraph that contains nodes of degree k or more. The core number of a node is the largest value k of a k-core containing that node.\n",
    "\n"
   ]
  },
  {
   "cell_type": "code",
   "execution_count": null,
   "metadata": {
    "collapsed": false
   },
   "outputs": [],
   "source": [
    "G_fb.remove_edges_from(G_fb.selfloop_edges())\n",
    "core_k = nx.core_number(G_fb)"
   ]
  },
  {
   "cell_type": "code",
   "execution_count": null,
   "metadata": {
    "collapsed": false
   },
   "outputs": [],
   "source": [
    "core_k"
   ]
  },
  {
   "cell_type": "code",
   "execution_count": null,
   "metadata": {
    "collapsed": true
   },
   "outputs": [],
   "source": [
    "joblib_dump(prank,'core_k')"
   ]
  },
  {
   "cell_type": "code",
   "execution_count": null,
   "metadata": {
    "collapsed": true
   },
   "outputs": [],
   "source": [
    "from scipy.stats import linregress"
   ]
  },
  {
   "cell_type": "code",
   "execution_count": null,
   "metadata": {
    "collapsed": false
   },
   "outputs": [],
   "source": [
    "# pos=nx.spring_layout(G_fb)\n",
    "# nx.draw(G_fb,pos=pos,\n",
    "#     node_size=50, with_labels=False)\n",
    "\n",
    "# for key in pos.keys():\n",
    "#     x,y = pos[key]\n",
    "#     pos[key] = np.array([x,y + .05])\n",
    "\n",
    "\n",
    "\n",
    "# labels=nx.draw_networkx_labels(G_fb,pos=pos)\n",
    "# # labels=nx.draw_networkx_labels(G_fb,pos={'steemsports': pos['steemsports']},font_color='blue')\n",
    "# plt.show()\n"
   ]
  },
  {
   "cell_type": "code",
   "execution_count": null,
   "metadata": {
    "collapsed": false
   },
   "outputs": [],
   "source": [
    "centrality['cluster'] = centrality['user'].map(parts)\n",
    "centrality.to_csv('../data/centrality_lookup/centrality_lookup.csv')"
   ]
  },
  {
   "cell_type": "code",
   "execution_count": null,
   "metadata": {
    "collapsed": false
   },
   "outputs": [],
   "source": [
    "idx = authors['Cluster'] != 'No Group'\n",
    "idx2 = centrality['cluster'].isin(authors['Cluster'].value_counts().index[0:21].values)\n",
    "\n",
    "\n",
    "sns.barplot(x = centrality.ix[idx2,'cluster'], y = centrality.ix[idx2,'measure'], orient = 'v')"
   ]
  },
  {
   "cell_type": "code",
   "execution_count": null,
   "metadata": {
    "collapsed": false
   },
   "outputs": [],
   "source": [
    "authors['Cluster'] = authors['name'].map(parts)\n",
    "authors['Cluster'] = authors['Cluster'].fillna('No Group')\n",
    "# idx = authors['Cluster'] != 'No Group'\n",
    "# authors.ix[idx,'Cluster'] = authors.ix[idx,'Cluster'].astype(int)\n",
    "\n"
   ]
  },
  {
   "cell_type": "code",
   "execution_count": null,
   "metadata": {
    "collapsed": false
   },
   "outputs": [],
   "source": [
    "raw_posts['Cluster'] = raw_posts['author'].map(parts)\n",
    "raw_posts_small = raw_posts[raw_posts['Cluster'].isin(authors['Cluster'].value_counts().index[0:21].values)]"
   ]
  },
  {
   "cell_type": "code",
   "execution_count": null,
   "metadata": {
    "collapsed": false
   },
   "outputs": [],
   "source": [
    "fig,ax = plt.subplots(1,1,figsize = (8,8))\n",
    "# idx = authors['Cluster'] != 'No Group'\n",
    "idx2 = authors['Cluster'].isin(authors['Cluster'].value_counts().index[0:21].values)\n",
    "\n",
    "sns.countplot(y = authors.ix[idx2,'Cluster'], ax =ax)"
   ]
  },
  {
   "cell_type": "code",
   "execution_count": null,
   "metadata": {
    "collapsed": false
   },
   "outputs": [],
   "source": [
    "grouped = raw_posts.groupby('Cluster').sum().reset_index()\n",
    "raw_posts['count'] = 1\n",
    "grouped_count = raw_posts.groupby('Cluster').count().reset_index()"
   ]
  },
  {
   "cell_type": "code",
   "execution_count": null,
   "metadata": {
    "collapsed": false
   },
   "outputs": [],
   "source": [
    "top_20_clusters = authors['Cluster'].value_counts().index[0:21].values\n",
    "idx = raw_posts['Cluster'].isin(top_20_clusters)\n",
    "raw_posts_plot = raw_posts[:]\n",
    "sns.barplot(x = 'Cluster',y = 'total_payout_value',\n",
    "            data = raw_posts_plot)\n",
    "            # plt.savefig('bar_chart.png')"
   ]
  },
  {
   "cell_type": "code",
   "execution_count": null,
   "metadata": {
    "collapsed": false
   },
   "outputs": [],
   "source": [
    "idx = raw_posts['Cluster'].isin(top_20_clusters)\n",
    "raw_posts_plot = raw_posts[idx]\n",
    "\n",
    "idx = grouped_count['Cluster'].isin(top_20_clusters)\n",
    "bar_plot_data = grouped_count.ix[idx,['Cluster','count']]\n",
    "bar_plot_data['Cluster'] = bar_plot_data['Cluster'].astype(int)\n",
    "fig,ax = plt.subplots(1,1,figsize = (10,10))\n",
    "\n",
    "sns.barplot(x = 'count',y = 'Cluster',data=bar_plot_data, orient='h',ax = ax)"
   ]
  },
  {
   "cell_type": "code",
   "execution_count": null,
   "metadata": {
    "collapsed": false
   },
   "outputs": [],
   "source": []
  },
  {
   "cell_type": "code",
   "execution_count": null,
   "metadata": {
    "collapsed": false
   },
   "outputs": [],
   "source": [
    "idx = raw_posts['Cluster'].isin(top_20_clusters)\n",
    "raw_posts_plot = raw_posts[idx]\n",
    "\n",
    "idx = grouped['Cluster'].isin(top_20_clusters)\n",
    "bar_plot_data = grouped.ix[idx,['Cluster','total_payout_value']]\n",
    "bar_plot_data['Cluster'] = bar_plot_data['Cluster'].astype(int)\n",
    "fig,ax = plt.subplots(1,1,figsize = (10,10))\n",
    "\n",
    "sns.barplot(x = 'total_payout_value',y = 'Cluster',data=bar_plot_data, orient='h',ax = ax)"
   ]
  },
  {
   "cell_type": "code",
   "execution_count": null,
   "metadata": {
    "collapsed": false
   },
   "outputs": [],
   "source": [
    "top_20_clusters = authors['Cluster'].value_counts().index[0:21].values\n",
    "idx = raw_posts['Cluster'].isin(top_20_clusters)\n",
    "raw_posts_plot = raw_posts[:]\n",
    "sns.barplot(x = 'Cluster',y = 'total_payout_value',\n",
    "            data = raw_posts_plot)\n",
    "            # plt.savefig('bar_chart.png')"
   ]
  },
  {
   "cell_type": "code",
   "execution_count": null,
   "metadata": {
    "collapsed": false
   },
   "outputs": [],
   "source": [
    "top_20_clusters = authors['Cluster'].value_counts().index[0:21].values\n",
    "idx = raw_posts['Cluster'].isin(top_20_clusters)\n",
    "raw_posts_plot = raw_posts[:]\n",
    "sns.barplot(x = 'Cluster',y = 'number of body tags',\n",
    "            data = raw_posts_plot)\n",
    "            # plt.savefig('bar_chart.png')\n",
    "    \n",
    "plt.title('Cluster with Average Number of Body Tags')"
   ]
  },
  {
   "cell_type": "code",
   "execution_count": null,
   "metadata": {
    "collapsed": false
   },
   "outputs": [],
   "source": [
    "top_20_clusters = authors['Cluster'].value_counts().index[0:21].values\n",
    "idx = raw_posts['Cluster'].isin(top_20_clusters)\n",
    "raw_posts_plot = raw_posts[:]\n",
    "sns.barplot(x = 'Cluster',y = 'number of body urls',\n",
    "            data = raw_posts_plot)\n",
    "            # plt.savefig('bar_chart.png')\n",
    "    \n",
    "plt.title('Cluster with Average Number of Body URls')"
   ]
  },
  {
   "cell_type": "code",
   "execution_count": null,
   "metadata": {
    "collapsed": false
   },
   "outputs": [],
   "source": [
    "top_20_clusters = authors['Cluster'].value_counts().index[0:21].values\n",
    "idx = raw_posts['Cluster'].isin(top_20_clusters)\n",
    "raw_posts_plot = raw_posts[:]\n",
    "sns.barplot(x = 'Cluster',y = 'number of youtube urls',\n",
    "            data = raw_posts_plot)\n",
    "            # plt.savefig('bar_chart.png')\n",
    "    \n",
    "plt.title('Cluster with Average Number of Video URls')"
   ]
  },
  {
   "cell_type": "code",
   "execution_count": null,
   "metadata": {
    "collapsed": false
   },
   "outputs": [],
   "source": [
    "top_20_clusters = authors['Cluster'].value_counts().index[0:21].values\n",
    "idx = raw_posts['Cluster'].isin(top_20_clusters)\n",
    "raw_posts_plot = raw_posts[:]\n",
    "sns.barplot(x = 'Cluster',y = 'number of body tags',\n",
    "            data = raw_posts_plot)\n",
    "            # plt.savefig('bar_chart.png')\n",
    "    \n",
    "plt.title('Cluster with Average Number of Body Tags')"
   ]
  },
  {
   "cell_type": "code",
   "execution_count": null,
   "metadata": {
    "collapsed": true
   },
   "outputs": [],
   "source": []
  }
 ],
 "metadata": {
  "kernelspec": {
   "display_name": "Python 2",
   "language": "python",
   "name": "python2"
  },
  "language_info": {
   "codemirror_mode": {
    "name": "ipython",
    "version": 2
   },
   "file_extension": ".py",
   "mimetype": "text/x-python",
   "name": "python",
   "nbconvert_exporter": "python",
   "pygments_lexer": "ipython2",
   "version": "2.7.13"
  }
 },
 "nbformat": 4,
 "nbformat_minor": 1
}
