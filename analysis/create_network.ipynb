{
 "cells": [
  {
   "cell_type": "code",
   "execution_count": null,
   "metadata": {},
   "outputs": [],
   "source": [
    "import pymssql\n",
    "import pandas as pd\n",
    "import numpy as np\n",
    "import os\n",
    "import re\n",
    "import joblib\n",
    "import sys \n",
    "import DSI_Capstone_Steemit\n",
    "# from DSI_Capstone_Steemit.utils.utils import(\n",
    "#     load_data_and_description,\n",
    "#     load_raw\n",
    "# )\n",
    "\n",
    "# load_data_and_description(data_type = 'tfidf')\n",
    "data_directory = '../data/'\n",
    "import seaborn as sns\n",
    "import matplotlib.pylab as plt\n",
    "%matplotlib inline"
   ]
  },
  {
   "cell_type": "code",
   "execution_count": null,
   "metadata": {},
   "outputs": [],
   "source": [
    "authors = pd.read_csv(os.path.join(data_directory,'accounts.csv'))"
   ]
  },
  {
   "cell_type": "code",
   "execution_count": null,
   "metadata": {},
   "outputs": [],
   "source": [
    "from sklearn.preprocessing import FunctionTransformer\n",
    "transformer = FunctionTransformer(np.log1p)\n",
    "reputation_scaled = transformer.fit_transform(authors['reputation'])[0]\n",
    "reputation_scaled = reputation_scaled - min(reputation_scaled) + 0.5\n",
    "\n",
    "authors['reputation scaled'] = reputation_scaled"
   ]
  },
  {
   "cell_type": "code",
   "execution_count": null,
   "metadata": {},
   "outputs": [],
   "source": [
    "def load_raw_cleaned():\n",
    "    posts_path = os.path.join(data_directory, 'posts_raw_cleaned',\n",
    "                              'posts_raw_cleaned.csv')\n",
    "    df_posts = pd.read_csv(posts_path)\n",
    "    return df_posts\n",
    "\n",
    "raw = load_raw_cleaned()"
   ]
  },
  {
   "cell_type": "code",
   "execution_count": null,
   "metadata": {},
   "outputs": [],
   "source": [
    "raw = raw[(raw['depth'] == 0)]"
   ]
  },
  {
   "cell_type": "code",
   "execution_count": null,
   "metadata": {},
   "outputs": [],
   "source": [
    "idx_popular_athors = raw['author'].isin(authors['name'].str.lower().values)"
   ]
  },
  {
   "cell_type": "code",
   "execution_count": null,
   "metadata": {},
   "outputs": [],
   "source": [
    "authors = authors.ix[0:5000,:]"
   ]
  },
  {
   "cell_type": "code",
   "execution_count": null,
   "metadata": {},
   "outputs": [],
   "source": [
    "connections_list = []\n",
    "for i,name in enumerate(authors.ix[:,'name'].values):\n",
    "    idx_name = raw['body mentions'].str.count(name) > 0\n",
    "    connections = raw.ix[idx_name,'author'].value_counts().reset_index()\n",
    "    connections.columns = ['target','weight']\n",
    "    connections['source'] = name\n",
    "    connections_list.append(connections)\n"
   ]
  },
  {
   "cell_type": "code",
   "execution_count": null,
   "metadata": {},
   "outputs": [],
   "source": [
    "# Node size can be the "
   ]
  },
  {
   "cell_type": "code",
   "execution_count": null,
   "metadata": {},
   "outputs": [],
   "source": [
    "df_network_x = pd.concat(connections_list)"
   ]
  },
  {
   "cell_type": "code",
   "execution_count": null,
   "metadata": {},
   "outputs": [],
   "source": [
    "from sklearn.preprocessing import MinMaxScaler"
   ]
  },
  {
   "cell_type": "code",
   "execution_count": null,
   "metadata": {},
   "outputs": [],
   "source": [
    "mm = MinMaxScaler(feature_range=(0,15))"
   ]
  },
  {
   "cell_type": "code",
   "execution_count": null,
   "metadata": {},
   "outputs": [],
   "source": [
    "scaled_lookup = authors.set_index('name').to_dict()['reputation scaled']"
   ]
  },
  {
   "cell_type": "code",
   "execution_count": null,
   "metadata": {},
   "outputs": [],
   "source": [
    "df_network_x['node_size'] = df_network_x['source'].replace(scaled_lookup)"
   ]
  },
  {
   "cell_type": "code",
   "execution_count": null,
   "metadata": {},
   "outputs": [],
   "source": [
    "import seaborn as sns\n",
    "%matplotlib inline"
   ]
  },
  {
   "cell_type": "code",
   "execution_count": null,
   "metadata": {},
   "outputs": [],
   "source": [
    "df_network_x.to_csv('../data/networkx/df_network.csv')"
   ]
  }
 ],
 "metadata": {
  "kernelspec": {
   "display_name": "Python 2",
   "language": "python",
   "name": "python2"
  },
  "language_info": {
   "codemirror_mode": {
    "name": "ipython",
    "version": 2
   },
   "file_extension": ".py",
   "mimetype": "text/x-python",
   "name": "python",
   "nbconvert_exporter": "python",
   "pygments_lexer": "ipython2"
  }
 },
 "nbformat": 4,
 "nbformat_minor": 1
}
