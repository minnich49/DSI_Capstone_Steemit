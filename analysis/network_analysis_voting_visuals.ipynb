{
 "cells": [
  {
   "cell_type": "code",
   "execution_count": null,
   "metadata": {},
   "outputs": [],
   "source": [
    "import pymssql\n",
    "import pandas as pd\n",
    "import numpy as np\n",
    "import os\n",
    "import re\n",
    "import joblib\n",
    "import sys \n",
    "import DSI_Capstone_Steemit\n",
    "from DSI_Capstone_Steemit.utils.utils import(\n",
    "    load_data_and_description,\n",
    "    load_raw_cleaned\n",
    ")\n",
    "import networkx as nx\n",
    "# load_data_and_description(data_type = 'tfidf')\n",
    "data_directory = '../data/'\n",
    "\n",
    "%matplotlib inline\n",
    "\n",
    "import seaborn as sns\n",
    "import community\n",
    "import networkx as nx\n",
    "import matplotlib.pyplot as plt\n",
    "import matplotlib.pylab as plt\n",
    "import community_louvain as community\n",
    "input_directory = os.path.join(data_directory,'networkx_votes')\n",
    "\n",
    "def load_joblib(filename):\n",
    "    return joblib.load(os.path.join(input_directory,filename))"
   ]
  },
  {
   "cell_type": "code",
   "execution_count": null,
   "metadata": {},
   "outputs": [],
   "source": [
    "authors = pd.read_csv(os.path.join(data_directory,'accounts.csv'))"
   ]
  },
  {
   "cell_type": "code",
   "execution_count": null,
   "metadata": {},
   "outputs": [],
   "source": [
    "raw_posts = load_raw_cleaned()\n",
    "\n"
   ]
  },
  {
   "cell_type": "code",
   "execution_count": null,
   "metadata": {},
   "outputs": [],
   "source": [
    "raw_posts = raw_posts[raw_posts['depth'] == 0]"
   ]
  },
  {
   "cell_type": "code",
   "execution_count": null,
   "metadata": {},
   "outputs": [],
   "source": [
    "hubs,authorities = load_joblib('hits')\n",
    "cluster = load_joblib('parts')\n",
    "pagerank = load_joblib('prank') \n",
    "eig_cent = load_joblib('eig_cent') \n",
    "core_k = load_joblib('core_k') \n",
    "\n",
    "\n"
   ]
  },
  {
   "cell_type": "code",
   "execution_count": null,
   "metadata": {},
   "outputs": [],
   "source": [
    "\n",
    "\n",
    "raw_posts['Cluster'] = raw_posts['author'].map(cluster)\n",
    "raw_posts.loc[:,'Cluster Condense'] = raw_posts['Cluster']\n",
    "raw_posts.loc[~raw_posts['Cluster'].isin([1,3,0,2,5,4]),'Cluster Condense'] = 'Other'\n",
    "raw_posts['Hubs'] = raw_posts['author'].map(hubs) * 10000\n",
    "raw_posts['Authorities'] = raw_posts['author'].map(authorities) * 10000\n",
    "raw_posts['Page Rank'] = raw_posts['author'].map(pagerank) * 10000\n",
    "raw_posts['Eigen Centrality'] = raw_posts['author'].map(eig_cent)* 10000\n",
    "raw_posts['Core K'] = raw_posts['author'].map(core_k)*10000\n",
    "\n",
    "\n",
    "authors['Hubs'] = authors['name'].map(hubs) * 10000\n",
    "authors['Authorities'] = authors['name'].map(authorities) * 10000\n",
    "authors['Cluster'] = authors['name'].map(cluster)\n",
    "authors.loc[:,'Cluster Condense'] = authors['Cluster']\n",
    "authors.loc[~authors['Cluster'].isin([1,3,0,2,5,4]),'Cluster Condense'] = 'Other'\n",
    "\n",
    "\n",
    "authors['Page Rank'] = authors['name'].map(pagerank) * 10000\n",
    "authors['Eigen Centrality'] = authors['name'].map(eig_cent)* 10000\n",
    "authors['Core K'] = authors['name'].map(core_k)*10000"
   ]
  },
  {
   "cell_type": "code",
   "execution_count": null,
   "metadata": {},
   "outputs": [],
   "source": [
    "posts_author_mean = raw_posts.groupby('author').mean()\n",
    "posts_author_sum = raw_posts.groupby('author').sum()\n",
    "\n",
    "\n",
    "\n",
    "\n",
    "\n",
    "posts_cluster_mean = raw_posts.groupby(['Cluster Condense']).mean().ix[:,['total_payout_value']].reset_index()\n",
    "posts_cluster_mean.columns = ['Cluster','Mean Payout Value']\n",
    "posts_cluster_sum = raw_posts.groupby(['Cluster Condense']).sum().ix[:,['total_payout_value']].reset_index()\n",
    "posts_cluster_sum.columns = ['Cluster','Summed Payout Value']\n",
    "\n",
    "posts_cluster_author_mean = authors.groupby(['Cluster Condense']).mean().ix[:,['reputation']].reset_index()\n",
    "posts_cluster_author_mean.columns = ['Cluster','Average Author Reputation']\n",
    "\n",
    "posts_cluster_author_sum = authors.groupby(['Cluster Condense']).mean().ix[:,['reputation']].reset_index()\n",
    "posts_cluster_author_sum.columns = ['Cluster','Summed Author Reputation']\n",
    "\n"
   ]
  },
  {
   "cell_type": "code",
   "execution_count": null,
   "metadata": {},
   "outputs": [],
   "source": [
    "fig,axs = plt.subplots(2,2,figsize = (8,20))\n",
    "\n",
    "ax1 = plt.subplot2grid((7,4), (0,0), colspan=4)\n",
    "ax2 = plt.subplot2grid((7,4), (1,0), colspan=2)\n",
    "ax3 = plt.subplot2grid((7,4), (1, 2), colspan=2)\n",
    "ax4 = plt.subplot2grid((7,4), (2, 0), colspan=2)\n",
    "ax5 = plt.subplot2grid((7,4), (2, 2), colspan=2)\n",
    "ax6 = plt.subplot2grid((7,4), (3, 0), colspan=2)\n",
    "ax7 = plt.subplot2grid((7,4), (3, 2), colspan=2)\n",
    "ax8 = plt.subplot2grid((7,4), (4, 0), colspan=2)\n",
    "ax9 = plt.subplot2grid((7,4), (4, 2), colspan=2)\n",
    "ax10 = plt.subplot2grid((7,4), (5, 0), colspan=2)\n",
    "ax11 = plt.subplot2grid((7,4), (5, 2), colspan=2)\n",
    "\n",
    "\n",
    "\n",
    "\n",
    "ax_it =iter([ax1,ax2,ax3,ax4,ax5,ax6,ax7,ax8,ax9,ax10,ax11])\n",
    "\n",
    "alpha = 0.4\n",
    "ax = ax_it.next()\n",
    "order = np.sort(raw_posts['Cluster Condense'].unique())\n",
    "sns.countplot(y = 'Cluster Condense',data=raw_posts,order=order,ax=ax)\n",
    "\n",
    "\n",
    "ax = ax_it.next()\n",
    "\n",
    "\n",
    "sns.barplot(y = 'Cluster',\n",
    "            x = 'Summed Payout Value',\n",
    "            ax = ax,\n",
    "            data=posts_cluster_sum)\n",
    "ax.set_xlabel('Summed Payout Value')\n",
    "\n",
    "\n",
    "ax = ax_it.next()\n",
    "sns.barplot(y = 'Cluster Condense',x = 'total_payout_value',ax = ax,order=order,\n",
    "            data=raw_posts)\n",
    "ax.set_xlabel('Mean Payout Value')\n",
    "\n",
    "\n",
    "\n",
    "ax = ax_it.next()\n",
    "sns.barplot(y = 'Cluster',\n",
    "            x = 'Summed Author Reputation',order=order,\n",
    "            ax = ax,\n",
    "            data=posts_cluster_author_sum)\n",
    "ax.set_xlabel('Summed Author Reputation')\n",
    "ax = ax_it.next()\n",
    "sns.barplot(y = 'Cluster Condense',\n",
    "            x = 'reputation',\n",
    "            ax = ax,order=order,\n",
    "            data=authors)\n",
    "ax.set_xlabel('Average Author Reputation')\n",
    "\n",
    "\n",
    "\n",
    "ax = ax_it.next()\n",
    "sns.barplot(y = 'Cluster Condense',\n",
    "            x = 'Page Rank',\n",
    "            ax = ax,order=order,\n",
    "            data=authors)\n",
    "ax.set_xlabel('Average Eigen Centrality')\n",
    "\n",
    "\n",
    "\n",
    "ax = ax_it.next()\n",
    "sns.barplot(y = 'Cluster Condense',\n",
    "            x = 'Eigen Centrality',\n",
    "            ax = ax,order=order,\n",
    "            data=authors)\n",
    "ax.set_xlabel('Average Page Rank')\n",
    "\n",
    "ax = ax_it.next()\n",
    "sns.barplot(y = 'Cluster Condense',\n",
    "            x = 'Authorities',\n",
    "            ax = ax,order=order,\n",
    "            data=authors)\n",
    "ax.set_xlabel('Authorities')\n",
    "\n",
    "ax = ax_it.next()\n",
    "sns.barplot(y = 'Cluster Condense',\n",
    "            x = 'Hubs',\n",
    "            ax = ax,order=order,\n",
    "            data=authors)\n",
    "ax.set_xlabel('Hubs')\n",
    "\n",
    "ax = ax_it.next()\n",
    "sns.barplot(y = 'Cluster Condense',\n",
    "            x = 'Core K',\n",
    "            ax = ax,order=order,\n",
    "            data=authors)\n",
    "ax.set_xlabel('Average Core K')\n",
    "\n",
    "\n",
    "\n",
    "plt.tight_layout()"
   ]
  },
  {
   "cell_type": "markdown",
   "metadata": {},
   "source": [
    "# Relationships between Measurements\n"
   ]
  },
  {
   "cell_type": "code",
   "execution_count": null,
   "metadata": {},
   "outputs": [],
   "source": [
    "cols = ['Hubs','Authorities','Page Rank','Eigen Centrality','Core K','reputation']\n",
    "sns.pairplot(authors,vars = cols,diag_kind=\"kde\",plot_kws = {'alpha':0.1})"
   ]
  },
  {
   "cell_type": "markdown",
   "metadata": {},
   "source": [
    "# Relationship between Measurements and Author Reputation"
   ]
  },
  {
   "cell_type": "code",
   "execution_count": null,
   "metadata": {},
   "outputs": [],
   "source": [
    "fig,axs = plt.subplots(4,2,figsize = (20,20))\n",
    "ax_it =iter(axs.flatten())\n",
    "\n",
    "alpha = 0.4\n",
    "\n",
    "for col in ['Hubs','Authorities','Page Rank','Eigen Centrality','Core K']:\n",
    "    ax = ax_it.next()\n",
    "    sns.regplot(data=authors,x = col,y = 'reputation',ax = ax,scatter_kws={\"alpha\": alpha})\n"
   ]
  },
  {
   "cell_type": "markdown",
   "metadata": {},
   "source": [
    "# Relationship between Measurements and Post Value"
   ]
  },
  {
   "cell_type": "code",
   "execution_count": null,
   "metadata": {},
   "outputs": [],
   "source": [
    "fig,axs = plt.subplots(4,2,figsize = (20,20))\n",
    "ax_it =iter(axs.flatten())\n",
    "\n",
    "alpha = 0.4\n",
    "\n",
    "for col in ['Hubs','Authorities','Page Rank','Eigen Centrality','Core K','author_reputation_scaled']:\n",
    "    ax = ax_it.next()\n",
    "    sns.regplot(data=raw_posts,x = col,y = 'total_payout_value',ax = ax,scatter_kws={\"alpha\": alpha})\n"
   ]
  },
  {
   "cell_type": "code",
   "execution_count": null,
   "metadata": {},
   "outputs": [],
   "source": [
    "raw_posts.groupby('author')"
   ]
  },
  {
   "cell_type": "code",
   "execution_count": null,
   "metadata": {},
   "outputs": [],
   "source": [
    "fig,axs = plt.subplots(4,2,figsize = (20,20))\n",
    "ax_it =iter(axs.flatten())\n",
    "\n",
    "alpha = 0.4\n",
    "\n",
    "for col in ['Hubs','Authorities','Page Rank','Eigen Centrality','Core K','author_reputation']:\n",
    "    ax = ax_it.next()\n",
    "    sns.regplot(data=posts_author_mean,x = col,y = 'total_payout_value',ax = ax,scatter_kws={\"alpha\": alpha})\n",
    "\n"
   ]
  },
  {
   "cell_type": "code",
   "execution_count": null,
   "metadata": {},
   "outputs": [],
   "source": [
    "posts_author_mean_cluster"
   ]
  },
  {
   "cell_type": "code",
   "execution_count": null,
   "metadata": {},
   "outputs": [],
   "source": [
    "fig,axs = plt.subplots(4,2,figsize = (20,20))\n",
    "ax_it =iter(axs.flatten())\n",
    "mcmap = plt.cm.get_cmap('Vega20')\n",
    "\n",
    "\n",
    "alpha = 1\n",
    "\n",
    "posts_author_mean_cluster = raw_posts.groupby(['Cluster Condense']).mean().reset_index()\n",
    "\n",
    "\n",
    "def regplot_hue(data,x,y,hue,ax):\n",
    "    for i,hue_value in enumerate(np.sort(data[hue].unique())):\n",
    "        color = mcmap(i)\n",
    "        idx = data[hue] == hue_value\n",
    "        df_plot = data[idx]\n",
    "        sns.regplot(data=df_plot,\n",
    "                    x = x,\n",
    "                    y = y,\n",
    "                    ax = ax,\n",
    "                    scatter_kws={\"alpha\": alpha},fit_reg = False,\n",
    "                    label=str(hue_value), color = color)\n",
    "\n",
    "\n",
    "for col in ['Hubs','Authorities','Page Rank','Eigen Centrality','Core K','author_reputation']:\n",
    "    ax = ax_it.next()\n",
    "    regplot_hue(data=posts_author_mean_cluster,x = col,y = 'total_payout_value',ax = ax,hue = 'Cluster Condense')\n",
    "    ax.legend()\n"
   ]
  },
  {
   "cell_type": "code",
   "execution_count": null,
   "metadata": {},
   "outputs": [],
   "source": [
    "fig,axs = plt.subplots(4,2,figsize = (20,20))\n",
    "ax_it =iter(axs.flatten())\n",
    "mcmap = plt.cm.get_cmap('Vega20')\n",
    "\n",
    "\n",
    "alpha = 0.4\n",
    "\n",
    "posts_author_mean_cluster = raw_posts.groupby(['Cluster Condense','author']).mean().reset_index()\n",
    "\n",
    "\n",
    "def regplot_hue(data,x,y,hue,ax):\n",
    "    for i,hue_value in enumerate(np.sort(data[hue].unique())):\n",
    "        color = mcmap(i)\n",
    "        idx = data[hue] == hue_value\n",
    "        df_plot = data[idx]\n",
    "        sns.regplot(data=df_plot,\n",
    "                    x = x,\n",
    "                    y = y,\n",
    "                    ax = ax,\n",
    "                    scatter_kws={\"alpha\": alpha},fit_reg = False,\n",
    "                    label=str(hue_value), color = color)\n",
    "\n",
    "\n",
    "for col in ['Hubs','Authorities','Page Rank','Eigen Centrality','Core K','author_reputation']:\n",
    "    ax = ax_it.next()\n",
    "    regplot_hue(data=posts_author_mean_cluster,x = col,y = 'total_payout_value',ax = ax,hue = 'Cluster Condense')\n",
    "    ax.legend(loc = 'best')\n",
    "    \n"
   ]
  },
  {
   "cell_type": "code",
   "execution_count": null,
   "metadata": {},
   "outputs": [],
   "source": [
    "posts_author_mean.head()"
   ]
  },
  {
   "cell_type": "markdown",
   "metadata": {},
   "source": [
    "## Cluster Exploration"
   ]
  },
  {
   "cell_type": "code",
   "execution_count": null,
   "metadata": {},
   "outputs": [],
   "source": []
  },
  {
   "cell_type": "code",
   "execution_count": null,
   "metadata": {},
   "outputs": [],
   "source": [
    "# fig,axs = plt.subplots(3,2,figsize = (20,20))\n",
    "# ax_it =iter(axs.flatten())\n",
    "\n",
    "# def regplot_hue(data,x,y,hue,ax):\n",
    "#     for i,hue_value in enumerate(np.sort(data[hue].unique())):\n",
    "#         color = mcmap(i)\n",
    "#         idx = data[hue] == hue_value\n",
    "#         df_plot = data[idx]\n",
    "#         sns.regplot(data=df_plot,x = x,y = y,ax = ax,scatter_kws={\"alpha\": alpha},label=str(i), color = color)\n",
    "\n",
    "\n",
    "# alpha = 0.4\n",
    "# ax = ax_it.next()\n",
    "# # sns.regplot(data=authors,x = 'Hubs',y = 'Authorities',ax = ax,scatter_kws={\"alpha\": alpha})\n",
    "# regplot_hue(data=authors,x = 'Hubs',y = 'Authorities',ax = ax,hue = 'Cluster Condense')\n",
    "# ax.legend(loc= 'best')\n",
    "\n",
    "# ax = ax_it.next()\n",
    "# regplot_hue(data=authors,x = 'Page Rank',y = 'Eigen Centrality',ax = ax,hue = 'Cluster Condense')\n",
    "# ax.legend(loc= 'best')\n",
    "\n",
    "# ax = ax_it.next()\n",
    "# regplot_hue(data=authors,x = 'Hubs',y = 'Page Rank',ax = ax,hue = 'Cluster Condense')\n",
    "# ax.legend(loc= 'best')\n",
    "\n",
    "# ax = ax_it.next()\n",
    "# regplot_hue(data=authors,x = 'Hubs',y = 'Eigen Centrality',ax = ax,hue = 'Cluster Condense')\n",
    "# ax.legend(loc= 'best')\n",
    "\n",
    "# ax = ax_it.next()\n",
    "# regplot_hue(data=authors,x = 'Authorities',y = 'Page Rank',ax = ax,hue = 'Cluster Condense')\n",
    "\n",
    "# ax.legend(loc= 'best')\n",
    "\n",
    "\n",
    "# ax = ax_it.next()\n",
    "# regplot_hue(data=authors,x = 'Authorities',y = 'Eigen Centrality',ax = ax,hue = 'Cluster Condense')\n",
    "# ax.legend(loc= 'best')\n",
    "\n",
    "\n"
   ]
  },
  {
   "cell_type": "code",
   "execution_count": null,
   "metadata": {},
   "outputs": [],
   "source": []
  }
 ],
 "metadata": {
  "kernelspec": {
   "display_name": "Python 2",
   "language": "python",
   "name": "python2"
  },
  "language_info": {
   "codemirror_mode": {
    "name": "ipython",
    "version": 2
   },
   "file_extension": ".py",
   "mimetype": "text/x-python",
   "name": "python",
   "nbconvert_exporter": "python",
   "pygments_lexer": "ipython2"
  }
 },
 "nbformat": 4,
 "nbformat_minor": 1
}
