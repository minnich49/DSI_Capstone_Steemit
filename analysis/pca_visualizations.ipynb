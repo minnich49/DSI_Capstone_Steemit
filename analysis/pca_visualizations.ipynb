{
 "cells": [
  {
   "cell_type": "code",
   "execution_count": null,
   "metadata": {},
   "outputs": [],
   "source": [
    "import pymssql\n",
    "import pandas as pd\n",
    "import numpy as np\n",
    "import os\n",
    "import re\n",
    "import joblib\n",
    "%matplotlib inline\n",
    "import seaborn as sns\n",
    "import matplotlib.pylab as plt\n",
    "\n",
    "from sklearn.decomposition import PCA\n",
    "from sklearn.manifold import TSNE\n",
    "\n",
    "from DSI_Capstone_Steemit.utils.utils import(\n",
    "    load_data_and_description,\n",
    "    \n",
    ")\n",
    "\n",
    "\n"
   ]
  },
  {
   "cell_type": "code",
   "execution_count": null,
   "metadata": {},
   "outputs": [],
   "source": [
    "data,feature_names,data_desc = load_data_and_description(data_type='posts_tfidf')"
   ]
  },
  {
   "cell_type": "code",
   "execution_count": null,
   "metadata": {},
   "outputs": [],
   "source": [
    "import scipy.sparse as ssp\n",
    "\n",
    "\n",
    "train_features = data_desc.ix[:,['number of body tags',\n",
    "                                   'number of body urls',\n",
    "                                   'number of image urls',\n",
    "                                   'number of body mentions',\n",
    "                                   'number of image urls',\n",
    "                                   'number of youtube urls',\n",
    "                                   'language',\n",
    "                                   'author_reputation_scaled',\n",
    "                                   'number of steem counts']]\n",
    "\n",
    "\n"
   ]
  },
  {
   "cell_type": "code",
   "execution_count": null,
   "metadata": {},
   "outputs": [],
   "source": [
    "data_desc['number of steem counts'] = data_desc['number of steem counts'].fillna(0)"
   ]
  },
  {
   "cell_type": "code",
   "execution_count": null,
   "metadata": {},
   "outputs": [],
   "source": [
    "train = pd.get_dummies(train_features)\n",
    "\n",
    "num_image_urls = train['number of image urls'].values[:,0]\n",
    "train.fillna(0).drop('number of image urls',axis = 1, inplace=True)\n",
    "\n",
    "train['number of image urls'] = num_image_urls\n",
    "train_sparse = ssp.csr_matrix(train)\n",
    "\n"
   ]
  },
  {
   "cell_type": "code",
   "execution_count": null,
   "metadata": {},
   "outputs": [],
   "source": [
    "\n",
    "new_data = ssp.hstack([data,train_sparse])\n",
    "train = new_data.tocsr()"
   ]
  },
  {
   "cell_type": "code",
   "execution_count": null,
   "metadata": {},
   "outputs": [],
   "source": [
    "new_data"
   ]
  },
  {
   "cell_type": "code",
   "execution_count": null,
   "metadata": {},
   "outputs": [],
   "source": [
    "from sklearn.cluster import MeanShift,AgglomerativeClustering\n",
    "from sklearn.decomposition import PCA,TruncatedSVD"
   ]
  },
  {
   "cell_type": "code",
   "execution_count": null,
   "metadata": {},
   "outputs": [],
   "source": [
    "pca = TruncatedSVD(n_components=3)"
   ]
  },
  {
   "cell_type": "code",
   "execution_count": null,
   "metadata": {},
   "outputs": [],
   "source": [
    "pca_output = pca.fit_transform(data)"
   ]
  },
  {
   "cell_type": "code",
   "execution_count": null,
   "metadata": {},
   "outputs": [],
   "source": [
    "data_desc['pca1'] = pca_output[:,0]\n",
    "data_desc['pca2'] = pca_output[:,1]"
   ]
  },
  {
   "cell_type": "code",
   "execution_count": null,
   "metadata": {},
   "outputs": [],
   "source": [
    "top_categories = data_desc['category'].value_counts()[data_desc['category'].value_counts() > 200].index"
   ]
  },
  {
   "cell_type": "code",
   "execution_count": null,
   "metadata": {},
   "outputs": [],
   "source": [
    "len(data_desc['language'].unique())"
   ]
  },
  {
   "cell_type": "code",
   "execution_count": null,
   "metadata": {},
   "outputs": [],
   "source": [
    "df_plot = data_desc.ix[data_desc['category'].isin(top_categories),'category']\n",
    "\n"
   ]
  },
  {
   "cell_type": "code",
   "execution_count": null,
   "metadata": {},
   "outputs": [],
   "source": []
  },
  {
   "cell_type": "code",
   "execution_count": null,
   "metadata": {},
   "outputs": [],
   "source": [
    "fig,ax = plt.subplots(1,1,figsize = (10,10))\n",
    "df_plot = data_desc.ix[data_desc['category'].isin(top_categories),'category']\n",
    "sns.countplot(y = df_plot,ax = ax,order=df_plot.value_counts().index)"
   ]
  },
  {
   "cell_type": "code",
   "execution_count": null,
   "metadata": {},
   "outputs": [],
   "source": [
    "hue = 'category'\n",
    "unique_values = np.sort(data_desc[hue].unique())\n",
    "import colorsys\n",
    "N = len(unique_values)\n",
    "HSV_tuples = [(x*1.0/N, 0.5, 0.5) for x in range(N)]\n",
    "RGB_tuples = map(lambda x: colorsys.hsv_to_rgb(*x), HSV_tuples)\n",
    "\n",
    "\n",
    "for i,value in enumerate(unique_values):\n",
    "    short = data_desc[data_desc[hue] == value]\n",
    "    \n",
    "    x = short['pca1']\n",
    "    y = short['pca2']\n",
    "    plt.plot(x,y, label = hue, color = RGB_tuples[i])\n",
    "\n",
    "plt.legend()"
   ]
  },
  {
   "cell_type": "code",
   "execution_count": null,
   "metadata": {},
   "outputs": [],
   "source": [
    "x"
   ]
  },
  {
   "cell_type": "code",
   "execution_count": null,
   "metadata": {},
   "outputs": [],
   "source": [
    "unique_values"
   ]
  },
  {
   "cell_type": "code",
   "execution_count": null,
   "metadata": {},
   "outputs": [],
   "source": [
    "fig,(ax1,ax2) = plt.subplots(1,2, figsize = (10,5))\n",
    "x = pca_output[:,0]\n",
    "y = pca_output[:,1]\n",
    "ax1.scatter(x,y)\n",
    "\n",
    "x = pca_output[:,0]\n",
    "y = pca_output[:,2]\n",
    "\n",
    "ax2.scatter(x,y)\n"
   ]
  },
  {
   "cell_type": "code",
   "execution_count": null,
   "metadata": {},
   "outputs": [],
   "source": [
    "fig,(ax1) = plt.subplots(1,1, figsize = (5,5))\n",
    "x = pca_output[:,0]\n",
    "y = pca_output[:,1]\n",
    "ax1.scatter(x,y)\n",
    "\n",
    "ax1.set_title('1st and 2nd SVD Components (Similar to PCA)')"
   ]
  },
  {
   "cell_type": "code",
   "execution_count": null,
   "metadata": {},
   "outputs": [],
   "source": []
  }
 ],
 "metadata": {
  "kernelspec": {
   "display_name": "Python 2",
   "language": "python",
   "name": "python2"
  },
  "language_info": {
   "codemirror_mode": {
    "name": "ipython",
    "version": 2
   },
   "file_extension": ".py",
   "mimetype": "text/x-python",
   "name": "python",
   "nbconvert_exporter": "python",
   "pygments_lexer": "ipython2"
  }
 },
 "nbformat": 4,
 "nbformat_minor": 1
}
