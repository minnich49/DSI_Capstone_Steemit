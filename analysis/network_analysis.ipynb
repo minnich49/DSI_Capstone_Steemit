{
 "cells": [
  {
   "cell_type": "code",
   "execution_count": null,
   "metadata": {},
   "outputs": [],
   "source": [
    "import pymssql\n",
    "import pandas as pd\n",
    "import numpy as np\n",
    "import os\n",
    "import re\n",
    "import joblib\n",
    "import sys \n",
    "import DSI_Capstone_Steemit\n",
    "from DSI_Capstone_Steemit.utils.utils import(\n",
    "    load_data_and_description,\n",
    "    load_raw_cleaned\n",
    ")\n",
    "import networkx as nx\n",
    "# load_data_and_description(data_type = 'tfidf')\n",
    "data_directory = '../data/'\n",
    "\n",
    "%matplotlib inline\n",
    "\n",
    "import seaborn as sns\n",
    "import community\n",
    "import networkx as nx\n",
    "import matplotlib.pyplot as plt\n",
    "import matplotlib.pylab as plt\n",
    "import community_louvain as community"
   ]
  },
  {
   "cell_type": "code",
   "execution_count": null,
   "metadata": {},
   "outputs": [],
   "source": [
    "raw_posts = load_raw_cleaned()\n",
    "df_network_x = pd.read_csv('../data/networkx/df_network.csv')\n",
    "authors = pd.read_csv(os.path.join(data_directory,'accounts.csv'))"
   ]
  },
  {
   "cell_type": "code",
   "execution_count": null,
   "metadata": {},
   "outputs": [],
   "source": [
    "df_network_x['weight'] = 1/df_network_x['weight']\n"
   ]
  },
  {
   "cell_type": "code",
   "execution_count": null,
   "metadata": {},
   "outputs": [],
   "source": [
    "# df_network_x = df_network_x[0:20]"
   ]
  },
  {
   "cell_type": "code",
   "execution_count": null,
   "metadata": {},
   "outputs": [],
   "source": [
    "G_fb = nx.from_pandas_dataframe(df = df_network_x,source = 'source',\n",
    "                             target='target',edge_attr= 'weight')\n",
    "parts = community.best_partition(G_fb)\n",
    "values = [parts.get(node) for node in G_fb.nodes()]\n"
   ]
  },
  {
   "cell_type": "code",
   "execution_count": null,
   "metadata": {},
   "outputs": [],
   "source": [
    "print nx.info(G_fb)"
   ]
  },
  {
   "cell_type": "code",
   "execution_count": null,
   "metadata": {},
   "outputs": [],
   "source": [
    "phi = (1+np.sqrt(4991))/2.0\n",
    "centrality = nx.katz_centrality(G_fb,1/phi-0.01,max_iter = 10000)"
   ]
  },
  {
   "cell_type": "code",
   "execution_count": null,
   "metadata": {},
   "outputs": [],
   "source": [
    "# pos=nx.spring_layout(G_fb)\n",
    "# nx.draw(G_fb,pos=pos,\n",
    "#     node_size=50, with_labels=False)\n",
    "\n",
    "# for key in pos.keys():\n",
    "#     x,y = pos[key]\n",
    "#     pos[key] = np.array([x,y + .05])\n",
    "\n",
    "\n",
    "\n",
    "# labels=nx.draw_networkx_labels(G_fb,pos=pos)\n",
    "# # labels=nx.draw_networkx_labels(G_fb,pos={'steemsports': pos['steemsports']},font_color='blue')\n",
    "# plt.show()\n"
   ]
  },
  {
   "cell_type": "code",
   "execution_count": null,
   "metadata": {},
   "outputs": [],
   "source": [
    "authors['Cluster'] = authors['name'].map(parts)\n",
    "authors['Cluster'] = authors['Cluster'].fillna('No Group')\n",
    "idx = authors['Cluster'] != 'No Group'\n",
    "authors.ix[idx,'Cluster'] = authors.ix[idx,'Cluster'].astype(int)\n",
    "\n"
   ]
  },
  {
   "cell_type": "code",
   "execution_count": null,
   "metadata": {},
   "outputs": [],
   "source": [
    "raw_posts['Cluster'] = raw_posts['author'].map(parts)\n",
    "raw_posts_small = raw_posts[raw_posts['Cluster'].isin(authors['Cluster'].value_counts().index[0:21].values)]"
   ]
  },
  {
   "cell_type": "code",
   "execution_count": null,
   "metadata": {},
   "outputs": [],
   "source": [
    "fig,ax = plt.subplots(1,1,figsize = (8,8))\n",
    "idx = authors['Cluster'] != 'No Group'\n",
    "idx2 = authors['Cluster'].isin(authors['Cluster'].value_counts().index[0:21].values)\n",
    "\n",
    "sns.countplot(y = authors.ix[idx&idx2,'Cluster'], ax =ax)"
   ]
  },
  {
   "cell_type": "code",
   "execution_count": null,
   "metadata": {},
   "outputs": [],
   "source": [
    "top_20_authors"
   ]
  },
  {
   "cell_type": "code",
   "execution_count": null,
   "metadata": {},
   "outputs": [],
   "source": [
    "grouped = raw_posts.groupby('Cluster').sum().reset_index()\n",
    "raw_posts['count'] = 1\n",
    "grouped_count = raw_posts.groupby('Cluster').count().reset_index()"
   ]
  },
  {
   "cell_type": "code",
   "execution_count": null,
   "metadata": {},
   "outputs": [],
   "source": [
    "idx = raw_posts['Cluster'].isin(top_20_clusters)\n",
    "raw_posts_plot = raw_posts[idx]\n",
    "\n",
    "idx = grouped_count['Cluster'].isin(top_20_clusters)\n",
    "bar_plot_data = grouped_count.ix[idx,['Cluster','count']]\n",
    "bar_plot_data['Cluster'] = bar_plot_data['Cluster'].astype(int)\n",
    "fig,ax = plt.subplots(1,1,figsize = (10,10))\n",
    "\n",
    "sns.barplot(x = 'count',y = 'Cluster',data=bar_plot_data, orient='h',ax = ax)"
   ]
  },
  {
   "cell_type": "code",
   "execution_count": null,
   "metadata": {},
   "outputs": [],
   "source": [
    "idx = authors['Cluster'] != 'No Group'\n",
    "top_20_clusters = authors['Cluster'].value_counts().index[0:21].values\n",
    "idx = raw_posts['Cluster'].isin(top_20_clusters)\n",
    "raw_posts_plot = raw_posts[idx]\n",
    "sns.barplot(x = 'Cluster',y = 'total_payout_value',\n",
    "            data = raw_posts_plot)\n",
    "            # plt.savefig('bar_chart.png')"
   ]
  },
  {
   "cell_type": "code",
   "execution_count": null,
   "metadata": {},
   "outputs": [],
   "source": [
    "idx = raw_posts['Cluster'].isin(top_20_clusters)\n",
    "raw_posts_plot = raw_posts[idx]\n",
    "\n",
    "idx = grouped['Cluster'].isin(top_20_clusters)\n",
    "bar_plot_data = grouped.ix[idx,['Cluster','total_payout_value']]\n",
    "bar_plot_data['Cluster'] = bar_plot_data['Cluster'].astype(int)\n",
    "fig,ax = plt.subplots(1,1,figsize = (10,10))\n",
    "\n",
    "sns.barplot(x = 'total_payout_value',y = 'Cluster',data=bar_plot_data, orient='h',ax = ax)"
   ]
  },
  {
   "cell_type": "code",
   "execution_count": null,
   "metadata": {},
   "outputs": [],
   "source": [
    "idx = authors['Cluster'] != 'No Group'\n",
    "top_20_clusters = authors['Cluster'].value_counts().index[0:21].values\n",
    "idx = raw_posts['Cluster'].isin(top_20_clusters)\n",
    "raw_posts_plot = raw_posts[idx]\n",
    "sns.barplot(x = 'Cluster',y = 'total_payout_value',\n",
    "            data = raw_posts_plot)\n",
    "            # plt.savefig('bar_chart.png')"
   ]
  },
  {
   "cell_type": "code",
   "execution_count": null,
   "metadata": {},
   "outputs": [],
   "source": [
    "idx = authors['Cluster'] != 'No Group'\n",
    "top_20_clusters = authors['Cluster'].value_counts().index[0:21].values\n",
    "idx = raw_posts['Cluster'].isin(top_20_clusters)\n",
    "raw_posts_plot = raw_posts[idx]\n",
    "sns.barplot(x = 'Cluster',y = 'number of body tags',\n",
    "            data = raw_posts_plot)\n",
    "            # plt.savefig('bar_chart.png')\n",
    "    \n",
    "plt.title('Cluster with Average Number of Body Tags')"
   ]
  },
  {
   "cell_type": "code",
   "execution_count": null,
   "metadata": {},
   "outputs": [],
   "source": [
    "idx = authors['Cluster'] != 'No Group'\n",
    "top_20_clusters = authors['Cluster'].value_counts().index[0:21].values\n",
    "idx = raw_posts['Cluster'].isin(top_20_clusters)\n",
    "raw_posts_plot = raw_posts[idx]\n",
    "sns.barplot(x = 'Cluster',y = 'number of body urls',\n",
    "            data = raw_posts_plot)\n",
    "            # plt.savefig('bar_chart.png')\n",
    "    \n",
    "plt.title('Cluster with Average Number of Body URls')"
   ]
  },
  {
   "cell_type": "code",
   "execution_count": null,
   "metadata": {},
   "outputs": [],
   "source": [
    "idx = authors['Cluster'] != 'No Group'\n",
    "top_20_clusters = authors['Cluster'].value_counts().index[0:21].values\n",
    "idx = raw_posts['Cluster'].isin(top_20_clusters)\n",
    "raw_posts_plot = raw_posts[idx]\n",
    "sns.barplot(x = 'Cluster',y = 'number of youtube urls',\n",
    "            data = raw_posts_plot)\n",
    "            # plt.savefig('bar_chart.png')\n",
    "    \n",
    "plt.title('Cluster with Average Number of Video URls')"
   ]
  },
  {
   "cell_type": "code",
   "execution_count": null,
   "metadata": {},
   "outputs": [],
   "source": [
    "idx = authors['Cluster'] != 'No Group'\n",
    "top_20_clusters = authors['Cluster'].value_counts().index[0:21].values\n",
    "idx = raw_posts['Cluster'].isin(top_20_clusters)\n",
    "raw_posts_plot = raw_posts[idx]\n",
    "sns.barplot(x = 'Cluster',y = 'number of body tags',\n",
    "            data = raw_posts_plot)\n",
    "            # plt.savefig('bar_chart.png')\n",
    "    \n",
    "plt.title('Cluster with Average Number of Body Tags')"
   ]
  },
  {
   "cell_type": "code",
   "execution_count": null,
   "metadata": {},
   "outputs": [],
   "source": [
    "idx = authors['Cluster'] != 'No Group'\n",
    "top_20_clusters = authors['Cluster'].value_counts().index[0:21].values\n",
    "idx = raw_posts['Cluster'].isin(top_20_clusters)\n",
    "raw_posts_plot = raw_posts[idx]\n",
    "sns.barplot(x = 'reward_weight',y = 'curator_payout_value',\n",
    "            data = raw_posts_plot)\n",
    "            # plt.savefig('bar_chart.png')\n",
    "    \n",
    "plt.title('Cluster with Average Number of Body Tags')"
   ]
  },
  {
   "cell_type": "code",
   "execution_count": null,
   "metadata": {},
   "outputs": [],
   "source": [
    "raw_posts_plot.head().columns"
   ]
  },
  {
   "cell_type": "code",
   "execution_count": null,
   "metadata": {},
   "outputs": [],
   "source": [
    "raw_posts['reward_weight']"
   ]
  },
  {
   "cell_type": "code",
   "execution_count": null,
   "metadata": {},
   "outputs": [],
   "source": []
  }
 ],
 "metadata": {
  "kernelspec": {
   "display_name": "Python 2",
   "language": "python",
   "name": "python2"
  },
  "language_info": {
   "codemirror_mode": {
    "name": "ipython",
    "version": 2
   },
   "file_extension": ".py",
   "mimetype": "text/x-python",
   "name": "python",
   "nbconvert_exporter": "python",
   "pygments_lexer": "ipython2"
  }
 },
 "nbformat": 4,
 "nbformat_minor": 1
}
