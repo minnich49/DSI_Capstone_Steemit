{
 "cells": [
  {
   "cell_type": "code",
   "execution_count": 41,
   "metadata": {
    "collapsed": false
   },
   "outputs": [],
   "source": [
    "import pymssql\n",
    "import pandas as pd\n",
    "import numpy as np\n",
    "import os\n",
    "import re\n",
    "import joblib\n",
    "import sys \n",
    "import DSI_Capstone_Steemit\n",
    "from DSI_Capstone_Steemit.utils.utils import(\n",
    "    load_data_and_description,\n",
    "    load_raw_cleaned\n",
    ")\n",
    "import networkx as nx\n",
    "# load_data_and_description(data_type = 'tfidf')\n",
    "data_directory = '../data/'\n",
    "\n",
    "%matplotlib inline\n",
    "\n",
    "import seaborn as sns\n",
    "import community\n",
    "import networkx as nx\n",
    "import matplotlib.pyplot as plt\n",
    "import matplotlib.pylab as plt\n",
    "import community_louvain as community"
   ]
  },
  {
   "cell_type": "code",
   "execution_count": 42,
   "metadata": {
    "collapsed": true
   },
   "outputs": [],
   "source": [
    "raw_posts = load_raw_cleaned()\n",
    "df_network_x = pd.read_csv('../data/networkx/df_network.csv')\n",
    "authors = pd.read_csv(os.path.join(data_directory,'accounts.csv'))"
   ]
  },
  {
   "cell_type": "code",
   "execution_count": 43,
   "metadata": {
    "collapsed": false
   },
   "outputs": [
    {
     "data": {
      "text/plain": [
       "Index([u'ID', u'author', u'permlink', u'category', u'last_update', u'created',\n",
       "       u'active', u'last_payout', u'depth', u'children', u'children_rshares2',\n",
       "       u'net_rshares', u'abs_rshares', u'vote_rshares',\n",
       "       u'children_abs_rshares', u'cashout_time', u'max_cashout_time',\n",
       "       u'total_vote_weight', u'reward_weight', u'total_payout_value',\n",
       "       u'curator_payout_value', u'author_rewards', u'net_votes',\n",
       "       u'root_comment', u'mode', u'max_accepted_payout',\n",
       "       u'percent_steem_dollars', u'allow_replies', u'allow_votes',\n",
       "       u'allow_curation_rewards', u'url', u'root_title',\n",
       "       u'pending_payout_value', u'total_pending_payout_value', u'active_votes',\n",
       "       u'replies', u'author_reputation', u'body_language', u'dirty', u'ID.1',\n",
       "       u'tx_id', u'author.1', u'permlink.1', u'parent_author',\n",
       "       u'parent_permlink', u'title', u'json_metadata', u'body', u'body urls',\n",
       "       u'number of body urls', u'number of youtube urls',\n",
       "       u'number of image urls', u'body tags', u'number of body tags',\n",
       "       u'body mentions', u'number of body mentions', u'number of steem counts',\n",
       "       u'whale', u'body whale mentions', u'language',\n",
       "       u'author_reputation_scaled', u'author centrality', u'cluster'],\n",
       "      dtype='object')"
      ]
     },
     "execution_count": 43,
     "metadata": {},
     "output_type": "execute_result"
    }
   ],
   "source": [
    "raw_posts.columns"
   ]
  },
  {
   "cell_type": "code",
   "execution_count": 4,
   "metadata": {
    "collapsed": false
   },
   "outputs": [],
   "source": [
    "df_network_x['weight'] = 1/df_network_x['weight']\n"
   ]
  },
  {
   "cell_type": "code",
   "execution_count": 5,
   "metadata": {
    "collapsed": false
   },
   "outputs": [],
   "source": [
    "# df_network_x = df_network_x[0:20]"
   ]
  },
  {
   "cell_type": "code",
   "execution_count": 6,
   "metadata": {
    "collapsed": true
   },
   "outputs": [],
   "source": [
    "G_fb = nx.from_pandas_dataframe(df = df_network_x,source = 'source',\n",
    "                             target='target',edge_attr= 'weight')\n",
    "parts = community.best_partition(G_fb)\n",
    "values = [parts.get(node) for node in G_fb.nodes()]\n"
   ]
  },
  {
   "cell_type": "code",
   "execution_count": null,
   "metadata": {
    "collapsed": true
   },
   "outputs": [],
   "source": []
  },
  {
   "cell_type": "code",
   "execution_count": 7,
   "metadata": {
    "collapsed": false
   },
   "outputs": [
    {
     "name": "stdout",
     "output_type": "stream",
     "text": [
      "Name: \n",
      "Type: Graph\n",
      "Number of nodes: 4836\n",
      "Number of edges: 47153\n",
      "Average degree:  19.5008\n"
     ]
    }
   ],
   "source": [
    "print nx.info(G_fb)"
   ]
  },
  {
   "cell_type": "code",
   "execution_count": 8,
   "metadata": {
    "collapsed": true
   },
   "outputs": [],
   "source": [
    "adj = nx.adjacency_matrix(G_fb)"
   ]
  },
  {
   "cell_type": "markdown",
   "metadata": {},
   "source": [
    "This algorithm it uses the power method to find the eigenvector corresponding to the largest eigenvalue of the adjacency matrix of G. The constant alpha should be strictly less than the inverse of largest eigenvalue of the adjacency matrix for the algorithm to converge. The iteration will stop after max_iter iterations or an error tolerance of number_of_nodes(G)*tol has been reached.\n",
    "\n"
   ]
  },
  {
   "cell_type": "code",
   "execution_count": 9,
   "metadata": {
    "collapsed": false
   },
   "outputs": [],
   "source": [
    "eigenvalues = np.linalg.eigvals(adj.toarray())"
   ]
  },
  {
   "cell_type": "code",
   "execution_count": 10,
   "metadata": {
    "collapsed": false
   },
   "outputs": [
    {
     "name": "stdout",
     "output_type": "stream",
     "text": [
      "(0.0127458682236+0j)\n"
     ]
    }
   ],
   "source": [
    "max_eig = max(eigenvalues)\n",
    "print 1/max_eig"
   ]
  },
  {
   "cell_type": "code",
   "execution_count": 12,
   "metadata": {
    "collapsed": false
   },
   "outputs": [],
   "source": [
    "# phi = (1+np.sqrt(4991))/2.0\n",
    "centrality = nx.katz_centrality_numpy(G_fb,0.01)\n",
    "centrality = pd.DataFrame(zip(centrality.keys(),centrality.values()))\n",
    "centrality.columns = ['user','measure']"
   ]
  },
  {
   "cell_type": "code",
   "execution_count": null,
   "metadata": {
    "collapsed": true
   },
   "outputs": [],
   "source": []
  },
  {
   "cell_type": "code",
   "execution_count": 14,
   "metadata": {
    "collapsed": true
   },
   "outputs": [],
   "source": [
    "from scipy.stats import linregress"
   ]
  },
  {
   "cell_type": "code",
   "execution_count": 15,
   "metadata": {
    "collapsed": false
   },
   "outputs": [],
   "source": [
    "# pos=nx.spring_layout(G_fb)\n",
    "# nx.draw(G_fb,pos=pos,\n",
    "#     node_size=50, with_labels=False)\n",
    "\n",
    "# for key in pos.keys():\n",
    "#     x,y = pos[key]\n",
    "#     pos[key] = np.array([x,y + .05])\n",
    "\n",
    "\n",
    "\n",
    "# labels=nx.draw_networkx_labels(G_fb,pos=pos)\n",
    "# # labels=nx.draw_networkx_labels(G_fb,pos={'steemsports': pos['steemsports']},font_color='blue')\n",
    "# plt.show()\n"
   ]
  },
  {
   "cell_type": "code",
   "execution_count": 37,
   "metadata": {
    "collapsed": false
   },
   "outputs": [],
   "source": [
    "centrality['cluster'] = centrality['user'].map(parts)\n",
    "centrality.to_csv('../data/centrality_lookup/centrality_lookup.csv')"
   ]
  },
  {
   "cell_type": "code",
   "execution_count": 30,
   "metadata": {
    "collapsed": false
   },
   "outputs": [
    {
     "data": {
      "text/plain": [
       "<matplotlib.axes._subplots.AxesSubplot at 0x115358590>"
      ]
     },
     "execution_count": 30,
     "metadata": {},
     "output_type": "execute_result"
    },
    {
     "data": {
      "image/png": "[encoded data removed]",
      "text/plain": [
       "<matplotlib.figure.Figure at 0x11530c950>"
      ]
     },
     "metadata": {},
     "output_type": "display_data"
    }
   ],
   "source": [
    "idx = authors['Cluster'] != 'No Group'\n",
    "idx2 = centrality['cluster'].isin(authors['Cluster'].value_counts().index[0:21].values)\n",
    "\n",
    "\n",
    "sns.barplot(x = centrality.ix[idx2,'cluster'], y = centrality.ix[idx2,'measure'], orient = 'v')"
   ]
  },
  {
   "cell_type": "code",
   "execution_count": 16,
   "metadata": {
    "collapsed": true
   },
   "outputs": [],
   "source": [
    "authors['Cluster'] = authors['name'].map(parts)\n",
    "authors['Cluster'] = authors['Cluster'].fillna('No Group')\n",
    "idx = authors['Cluster'] != 'No Group'\n",
    "authors.ix[idx,'Cluster'] = authors.ix[idx,'Cluster'].astype(int)\n",
    "\n"
   ]
  },
  {
   "cell_type": "code",
   "execution_count": 17,
   "metadata": {
    "collapsed": false
   },
   "outputs": [],
   "source": [
    "raw_posts['Cluster'] = raw_posts['author'].map(parts)\n",
    "raw_posts_small = raw_posts[raw_posts['Cluster'].isin(authors['Cluster'].value_counts().index[0:21].values)]"
   ]
  },
  {
   "cell_type": "code",
   "execution_count": 18,
   "metadata": {
    "collapsed": false
   },
   "outputs": [
    {
     "data": {
      "text/plain": [
       "<matplotlib.axes._subplots.AxesSubplot at 0x108d20510>"
      ]
     },
     "execution_count": 18,
     "metadata": {},
     "output_type": "execute_result"
    },
    {
     "data": {
      "image/png": "[encoded data removed]",
      "text/plain": [
       "<matplotlib.figure.Figure at 0x111363d50>"
      ]
     },
     "metadata": {},
     "output_type": "display_data"
    }
   ],
   "source": [
    "fig,ax = plt.subplots(1,1,figsize = (8,8))\n",
    "idx = authors['Cluster'] != 'No Group'\n",
    "idx2 = authors['Cluster'].isin(authors['Cluster'].value_counts().index[0:21].values)\n",
    "\n",
    "sns.countplot(y = authors.ix[idx&idx2,'Cluster'], ax =ax)"
   ]
  },
  {
   "cell_type": "code",
   "execution_count": 31,
   "metadata": {
    "collapsed": false
   },
   "outputs": [
    {
     "ename": "NameError",
     "evalue": "name 'top_20_authors' is not defined",
     "output_type": "error",
     "traceback": [
      "\u001b[0;31m---------------------------------------------------------------------------\u001b[0m",
      "\u001b[0;31mNameError\u001b[0m                                 Traceback (most recent call last)",
      "\u001b[0;32m<ipython-input-31-df75e7329a21>\u001b[0m in \u001b[0;36m<module>\u001b[0;34m()\u001b[0m\n\u001b[0;32m----> 1\u001b[0;31m \u001b[0mtop_20_authors\u001b[0m\u001b[0;34m\u001b[0m\u001b[0m\n\u001b[0m",
      "\u001b[0;31mNameError\u001b[0m: name 'top_20_authors' is not defined"
     ]
    }
   ],
   "source": [
    "top_20_authors"
   ]
  },
  {
   "cell_type": "code",
   "execution_count": 32,
   "metadata": {
    "collapsed": false
   },
   "outputs": [],
   "source": [
    "grouped = raw_posts.groupby('Cluster').sum().reset_index()\n",
    "raw_posts['count'] = 1\n",
    "grouped_count = raw_posts.groupby('Cluster').count().reset_index()"
   ]
  },
  {
   "cell_type": "code",
   "execution_count": 35,
   "metadata": {
    "collapsed": false
   },
   "outputs": [
    {
     "data": {
      "text/plain": [
       "<matplotlib.axes._subplots.AxesSubplot at 0x11666d210>"
      ]
     },
     "execution_count": 35,
     "metadata": {},
     "output_type": "execute_result"
    },
    {
     "data": {
      "image/png": "[encoded data removed]",
      "text/plain": [
       "<matplotlib.figure.Figure at 0x11b288150>"
      ]
     },
     "metadata": {},
     "output_type": "display_data"
    }
   ],
   "source": [
    "idx = raw_posts['Cluster'].isin(top_20_clusters)\n",
    "raw_posts_plot = raw_posts[idx]\n",
    "\n",
    "idx = grouped_count['Cluster'].isin(top_20_clusters)\n",
    "bar_plot_data = grouped_count.ix[idx,['Cluster','count']]\n",
    "bar_plot_data['Cluster'] = bar_plot_data['Cluster'].astype(int)\n",
    "fig,ax = plt.subplots(1,1,figsize = (10,10))\n",
    "\n",
    "sns.barplot(x = 'count',y = 'Cluster',data=bar_plot_data, orient='h',ax = ax)"
   ]
  },
  {
   "cell_type": "code",
   "execution_count": 34,
   "metadata": {
    "collapsed": false
   },
   "outputs": [
    {
     "data": {
      "text/plain": [
       "<matplotlib.axes._subplots.AxesSubplot at 0x1156bf390>"
      ]
     },
     "execution_count": 34,
     "metadata": {},
     "output_type": "execute_result"
    },
    {
     "data": {
      "image/png": "[encoded data removed]",
      "text/plain": [
       "<matplotlib.figure.Figure at 0x1189b8f10>"
      ]
     },
     "metadata": {},
     "output_type": "display_data"
    }
   ],
   "source": [
    "idx = authors['Cluster'] != 'No Group'\n",
    "top_20_clusters = authors['Cluster'].value_counts().index[0:21].values\n",
    "idx = raw_posts['Cluster'].isin(top_20_clusters)\n",
    "raw_posts_plot = raw_posts[idx]\n",
    "sns.barplot(x = 'Cluster',y = 'total_payout_value',\n",
    "            data = raw_posts_plot)\n",
    "            # plt.savefig('bar_chart.png')"
   ]
  },
  {
   "cell_type": "code",
   "execution_count": 36,
   "metadata": {
    "collapsed": false
   },
   "outputs": [
    {
     "data": {
      "text/plain": [
       "<matplotlib.axes._subplots.AxesSubplot at 0x115001410>"
      ]
     },
     "execution_count": 36,
     "metadata": {},
     "output_type": "execute_result"
    },
    {
     "data": {
      "image/png": "[encoded data removed]",
      "text/plain": [
       "<matplotlib.figure.Figure at 0x1150cad50>"
      ]
     },
     "metadata": {},
     "output_type": "display_data"
    }
   ],
   "source": [
    "idx = raw_posts['Cluster'].isin(top_20_clusters)\n",
    "raw_posts_plot = raw_posts[idx]\n",
    "\n",
    "idx = grouped['Cluster'].isin(top_20_clusters)\n",
    "bar_plot_data = grouped.ix[idx,['Cluster','total_payout_value']]\n",
    "bar_plot_data['Cluster'] = bar_plot_data['Cluster'].astype(int)\n",
    "fig,ax = plt.subplots(1,1,figsize = (10,10))\n",
    "\n",
    "sns.barplot(x = 'total_payout_value',y = 'Cluster',data=bar_plot_data, orient='h',ax = ax)"
   ]
  },
  {
   "cell_type": "code",
   "execution_count": null,
   "metadata": {
    "collapsed": false
   },
   "outputs": [],
   "source": [
    "idx = authors['Cluster'] != 'No Group'\n",
    "top_20_clusters = authors['Cluster'].value_counts().index[0:21].values\n",
    "idx = raw_posts['Cluster'].isin(top_20_clusters)\n",
    "raw_posts_plot = raw_posts[idx]\n",
    "sns.barplot(x = 'Cluster',y = 'total_payout_value',\n",
    "            data = raw_posts_plot)\n",
    "            # plt.savefig('bar_chart.png')"
   ]
  },
  {
   "cell_type": "code",
   "execution_count": null,
   "metadata": {
    "collapsed": false
   },
   "outputs": [],
   "source": [
    "idx = authors['Cluster'] != 'No Group'\n",
    "top_20_clusters = authors['Cluster'].value_counts().index[0:21].values\n",
    "idx = raw_posts['Cluster'].isin(top_20_clusters)\n",
    "raw_posts_plot = raw_posts[idx]\n",
    "sns.barplot(x = 'Cluster',y = 'number of body tags',\n",
    "            data = raw_posts_plot)\n",
    "            # plt.savefig('bar_chart.png')\n",
    "    \n",
    "plt.title('Cluster with Average Number of Body Tags')"
   ]
  },
  {
   "cell_type": "code",
   "execution_count": null,
   "metadata": {
    "collapsed": false
   },
   "outputs": [],
   "source": [
    "idx = authors['Cluster'] != 'No Group'\n",
    "top_20_clusters = authors['Cluster'].value_counts().index[0:21].values\n",
    "idx = raw_posts['Cluster'].isin(top_20_clusters)\n",
    "raw_posts_plot = raw_posts[idx]\n",
    "sns.barplot(x = 'Cluster',y = 'number of body urls',\n",
    "            data = raw_posts_plot)\n",
    "            # plt.savefig('bar_chart.png')\n",
    "    \n",
    "plt.title('Cluster with Average Number of Body URls')"
   ]
  },
  {
   "cell_type": "code",
   "execution_count": null,
   "metadata": {
    "collapsed": false
   },
   "outputs": [],
   "source": [
    "idx = authors['Cluster'] != 'No Group'\n",
    "top_20_clusters = authors['Cluster'].value_counts().index[0:21].values\n",
    "idx = raw_posts['Cluster'].isin(top_20_clusters)\n",
    "raw_posts_plot = raw_posts[idx]\n",
    "sns.barplot(x = 'Cluster',y = 'number of youtube urls',\n",
    "            data = raw_posts_plot)\n",
    "            # plt.savefig('bar_chart.png')\n",
    "    \n",
    "plt.title('Cluster with Average Number of Video URls')"
   ]
  },
  {
   "cell_type": "code",
   "execution_count": null,
   "metadata": {
    "collapsed": false
   },
   "outputs": [],
   "source": [
    "idx = authors['Cluster'] != 'No Group'\n",
    "top_20_clusters = authors['Cluster'].value_counts().index[0:21].values\n",
    "idx = raw_posts['Cluster'].isin(top_20_clusters)\n",
    "raw_posts_plot = raw_posts[idx]\n",
    "sns.barplot(x = 'Cluster',y = 'number of body tags',\n",
    "            data = raw_posts_plot)\n",
    "            # plt.savefig('bar_chart.png')\n",
    "    \n",
    "plt.title('Cluster with Average Number of Body Tags')"
   ]
  },
  {
   "cell_type": "code",
   "execution_count": null,
   "metadata": {
    "collapsed": false
   },
   "outputs": [],
   "source": [
    "idx = authors['Cluster'] != 'No Group'\n",
    "top_20_clusters = authors['Cluster'].value_counts().index[0:21].values\n",
    "idx = raw_posts['Cluster'].isin(top_20_clusters)\n",
    "raw_posts_plot = raw_posts[idx]\n",
    "sns.barplot(x = 'reward_weight',y = 'curator_payout_value',\n",
    "            data = raw_posts_plot)\n",
    "            # plt.savefig('bar_chart.png')\n",
    "    \n",
    "plt.title('Cluster with Average Number of Body Tags')"
   ]
  },
  {
   "cell_type": "code",
   "execution_count": null,
   "metadata": {
    "collapsed": false
   },
   "outputs": [],
   "source": [
    "raw_posts_plot.head().columns"
   ]
  },
  {
   "cell_type": "code",
   "execution_count": null,
   "metadata": {
    "collapsed": false
   },
   "outputs": [],
   "source": [
    "raw_posts['reward_weight']"
   ]
  },
  {
   "cell_type": "code",
   "execution_count": null,
   "metadata": {
    "collapsed": true
   },
   "outputs": [],
   "source": []
  }
 ],
 "metadata": {
  "kernelspec": {
   "display_name": "Python 2",
   "language": "python",
   "name": "python2"
  },
  "language_info": {
   "codemirror_mode": {
    "name": "ipython",
    "version": 2
   },
   "file_extension": ".py",
   "mimetype": "text/x-python",
   "name": "python",
   "nbconvert_exporter": "python",
   "pygments_lexer": "ipython2",
   "version": "2.7.12"
  }
 },
 "nbformat": 4,
 "nbformat_minor": 1
}
