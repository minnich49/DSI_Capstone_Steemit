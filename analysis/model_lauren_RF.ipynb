{
 "cells": [
  {
   "cell_type": "code",
   "execution_count": null,
   "metadata": {},
   "outputs": [],
   "source": [
    "import pymssql\n",
    "import pandas as pd\n",
    "import numpy as np\n",
    "import os\n",
    "import re\n",
    "import joblib\n",
    "import sys \n",
    "import sys  \n",
    "from scipy import sparse\n",
    "from scipy.sparse import csr_matrix\n",
    "# sys.path.append(\"../utils/\")\n",
    "\n",
    "# from utils import *\n",
    "data_directory = '../data/'"
   ]
  },
  {
   "cell_type": "code",
   "execution_count": null,
   "metadata": {},
   "outputs": [],
   "source": [
    "def load_data_and_description(data_type = 'tfidf'):\n",
    "    # check_for_dir_python_path()\n",
    "\n",
    "    if data_type == 'tfidf':\n",
    "        directory = 'posts_tfidf'\n",
    "        file_name = 'posts_tfidf.pkl'\n",
    "        feature_names = 'posts_tfidf_feature_names'\n",
    "        desc_file = 'posts_tfidf_desc.csv'\n",
    "\n",
    "    elif data_type == 'word2vec':\n",
    "        file_name = 'word2vec_doc_matrix_avg'\n",
    "        feature_names = 'word2vec_doc_matrix_avg_feature_names'\n",
    "        desc_file = 'word2vec_doc_matrix_avg_desc.csv'\n",
    "    else:\n",
    "        directory = 'posts_counts'\n",
    "        file_name = 'posts_counts.pkl'\n",
    "        feature_names = 'posts_counts_feature_names'\n",
    "        desc_file = 'posts_counts_desc.csv'\n",
    "\n",
    "    data_path = os.path.join(data_directory,directory,file_name)\n",
    "    feature_path = os.path.join(data_directory,directory,feature_names)\n",
    "    desc_path = os.path.join(data_directory, directory,desc_file)\n",
    "\n",
    "    data = joblib.load(data_path)\n",
    "    data_desc = pd.read_csv(desc_path)\n",
    "\n",
    "    # Do not have feature names for word2vec matrices\n",
    "    if data_type == 'word2vec':\n",
    "        feature_names = None\n",
    "    else:\n",
    "        feature_names = joblib.load(feature_path)\n",
    "\n",
    "    return data,feature_names,data_desc"
   ]
  },
  {
   "cell_type": "markdown",
   "metadata": {},
   "source": [
    "**load data**"
   ]
  },
  {
   "cell_type": "code",
   "execution_count": null,
   "metadata": {},
   "outputs": [],
   "source": [
    "data,feature_names,data_desc = load_data_and_description(data_type='posts_tfidf')"
   ]
  },
  {
   "cell_type": "code",
   "execution_count": null,
   "metadata": {},
   "outputs": [],
   "source": [
    "data.shape"
   ]
  },
  {
   "cell_type": "markdown",
   "metadata": {},
   "source": [
    "**load in **"
   ]
  },
  {
   "cell_type": "code",
   "execution_count": null,
   "metadata": {},
   "outputs": [],
   "source": [
    "from sklearn.feature_extraction.text import CountVectorizer\n",
    "from sklearn.ensemble import RandomForestRegressor, RandomForestClassifier\n",
    "from sklearn.cross_validation import train_test_split"
   ]
  },
  {
   "cell_type": "code",
   "execution_count": null,
   "metadata": {},
   "outputs": [],
   "source": [
    "data"
   ]
  },
  {
   "cell_type": "code",
   "execution_count": null,
   "metadata": {},
   "outputs": [],
   "source": [
    "data.shape"
   ]
  },
  {
   "cell_type": "code",
   "execution_count": null,
   "metadata": {},
   "outputs": [],
   "source": [
    "rfc = RandomForestClassifier()"
   ]
  },
  {
   "cell_type": "markdown",
   "metadata": {},
   "source": [
    "**create labels**"
   ]
  },
  {
   "cell_type": "code",
   "execution_count": null,
   "metadata": {},
   "outputs": [],
   "source": [
    "labels = data_desc['total_payout_value']\n",
    "labels = (data_desc['total_payout_value'] >  np.median(data_desc['total_payout_value'])).astype(int)"
   ]
  },
  {
   "cell_type": "code",
   "execution_count": null,
   "metadata": {},
   "outputs": [],
   "source": [
    "#double check to make sure they have the same number of records\n",
    "l, w = data.shape\n",
    "len(labels) == l"
   ]
  },
  {
   "cell_type": "code",
   "execution_count": null,
   "metadata": {},
   "outputs": [],
   "source": [
    "X_train, X_test, y_train, y_test = train_test_split(data, labels, test_size=0.33, random_state=42)"
   ]
  },
  {
   "cell_type": "markdown",
   "metadata": {},
   "source": [
    "**Run Model**"
   ]
  },
  {
   "cell_type": "code",
   "execution_count": null,
   "metadata": {},
   "outputs": [],
   "source": [
    "rfc.fit(X_train, y_train)"
   ]
  },
  {
   "cell_type": "code",
   "execution_count": null,
   "metadata": {},
   "outputs": [],
   "source": [
    "train_score = rfc.score(X_train, y_train)\n",
    "test_score = rfc.score(X_test, y_test)"
   ]
  },
  {
   "cell_type": "code",
   "execution_count": null,
   "metadata": {},
   "outputs": [],
   "source": [
    "train_score"
   ]
  },
  {
   "cell_type": "code",
   "execution_count": null,
   "metadata": {},
   "outputs": [],
   "source": [
    "test_score"
   ]
  },
  {
   "cell_type": "code",
   "execution_count": null,
   "metadata": {},
   "outputs": [],
   "source": [
    "weights = rfc.feature_importances_"
   ]
  },
  {
   "cell_type": "code",
   "execution_count": null,
   "metadata": {},
   "outputs": [],
   "source": [
    "len(weights)"
   ]
  },
  {
   "cell_type": "code",
   "execution_count": null,
   "metadata": {},
   "outputs": [],
   "source": [
    "len(feature_names)"
   ]
  },
  {
   "cell_type": "code",
   "execution_count": null,
   "metadata": {},
   "outputs": [],
   "source": [
    "sorted(weights)"
   ]
  },
  {
   "cell_type": "code",
   "execution_count": null,
   "metadata": {},
   "outputs": [],
   "source": [
    "weights_sorted, feature_sorted = zip(*sorted(zip(weights,feature_names),reverse=True))"
   ]
  },
  {
   "cell_type": "code",
   "execution_count": null,
   "metadata": {},
   "outputs": [],
   "source": [
    "for i in xrange(25):\n",
    "    print feature_sorted[i]"
   ]
  },
  {
   "cell_type": "code",
   "execution_count": null,
   "metadata": {},
   "outputs": [],
   "source": []
  }
 ],
 "metadata": {
  "anaconda-cloud": {},
  "kernelspec": {
   "display_name": "Python [Root]",
   "language": "python",
   "name": "Python [Root]"
  },
  "language_info": {
   "codemirror_mode": {
    "name": "ipython",
    "version": 2
   },
   "file_extension": ".py",
   "mimetype": "text/x-python",
   "name": "python",
   "nbconvert_exporter": "python",
   "pygments_lexer": "ipython2"
  }
 },
 "nbformat": 4,
 "nbformat_minor": 0
}
