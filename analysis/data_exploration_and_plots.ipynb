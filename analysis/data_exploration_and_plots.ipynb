{
 "cells": [
  {
   "cell_type": "code",
   "execution_count": null,
   "metadata": {},
   "outputs": [],
   "source": [
    "import pymssql\n",
    "import pandas as pd\n",
    "import numpy as np\n",
    "import os\n",
    "import re\n",
    "import joblib\n",
    "import sys \n",
    "import DSI_Capstone_Steemit\n",
    "# from DSI_Capstone_Steemit.utils.utils import(\n",
    "#     load_data_and_description,\n",
    "#     load_raw\n",
    "# )\n",
    "\n",
    "# load_data_and_description(data_type = 'tfidf')\n",
    "data_directory = '../data/'\n",
    "import seaborn as sns\n",
    "import matplotlib.pylab as plt\n",
    "%matplotlib inline"
   ]
  },
  {
   "cell_type": "code",
   "execution_count": null,
   "metadata": {},
   "outputs": [],
   "source": [
    "authors = pd.read_csv(os.path.join(data_directory,'accounts.csv'))"
   ]
  },
  {
   "cell_type": "code",
   "execution_count": null,
   "metadata": {},
   "outputs": [],
   "source": [
    "from sklearn.preprocessing import FunctionTransformer\n",
    "transformer = FunctionTransformer(np.log1p)\n",
    "reputation_scaled = transformer.fit_transform(authors['reputation'])[0]\n",
    "reputation_scaled = reputation_scaled - min(reputation_scaled) + 0.5\n",
    "\n",
    "authors['reputation scaled'] = reputation_scaled"
   ]
  },
  {
   "cell_type": "code",
   "execution_count": null,
   "metadata": {},
   "outputs": [],
   "source": [
    "sns.distplot(np.log(authors['reputation']))\n",
    "plt.xlabel('Log of Author Reputation')\n",
    "plt.title('Author Reputation Distribution')"
   ]
  },
  {
   "cell_type": "code",
   "execution_count": null,
   "metadata": {},
   "outputs": [],
   "source": [
    "def load_raw_cleaned():\n",
    "    posts_path = os.path.join(data_directory, 'posts_raw_cleaned',\n",
    "                              'posts_raw_cleaned.csv')\n",
    "    df_posts = pd.read_csv(posts_path)\n",
    "    return df_posts\n",
    "\n",
    "raw = load_raw_cleaned()"
   ]
  },
  {
   "cell_type": "code",
   "execution_count": null,
   "metadata": {},
   "outputs": [],
   "source": [
    "# raw = raw.set_index('created')"
   ]
  },
  {
   "cell_type": "code",
   "execution_count": null,
   "metadata": {},
   "outputs": [],
   "source": [
    "# raw.index = pd.to_datetime(raw.index)"
   ]
  },
  {
   "cell_type": "code",
   "execution_count": null,
   "metadata": {},
   "outputs": [],
   "source": [
    "raw2 = raw.ix[:,['category','created']]\n",
    "raw2.loc[:,'count'] = 1\n",
    "raw2.index = pd.to_datetime(raw2['created'])\n",
    "grouped = raw2.groupby([pd.TimeGrouper(\"M\"),'category']).count()\n",
    "grouped2 = grouped.reset_index('category')\n",
    "grouped3 = grouped2.pivot(columns='category', values='count')\n",
    "idx  = grouped3.sum(axis = 0) > 300\n",
    "grouped4 = grouped3.ix[:,idx]\n",
    "column_order = grouped4.sum(axis = 0).sort_values(ascending = False).index\n",
    "\n",
    "raw2 = raw.ix[:,['category','created']]\n",
    "idx = raw2['category'].str.contains(r'^steem').fillna(False)\n",
    "raw2.ix[idx,'category'] = 'steem'\n",
    "raw2.loc[:,'count'] = 1\n",
    "raw2.index = pd.to_datetime(raw2['created'])\n",
    "grouped = raw2.groupby([pd.TimeGrouper(\"M\"),'category']).count()\n",
    "grouped2 = grouped.reset_index('category')\n",
    "grouped3 = grouped2.pivot(columns='category', values='count')\n",
    "idx  = grouped3.sum(axis = 0) > 300\n",
    "grouped_combined_terms = grouped3.ix[:,idx]\n",
    "column_order = grouped_combined_terms.sum(axis = 0).sort_values(ascending = False).index\n",
    "\n",
    "\n",
    "fig,(ax1,ax2) = plt.subplots(2,1,figsize = (10,10))\n",
    "top = 15\n",
    "grouped4.ix[:,column_order[0:top]].plot(colormap='Vega20', ax = ax1)\n",
    "ax1.legend(loc = (1,0))\n",
    "ax1.set_title('Counts of top 15 Categories of Posts')\n",
    "ax1.set_ylabel('Counts')\n",
    "ax1.set_xlabel('')\n",
    "\n",
    "\n",
    "\n",
    "top = 15\n",
    "grouped_combined_terms.ix[:,column_order[0:top]].plot(colormap='Vega20', ax = ax2)\n",
    "ax2.legend(loc = (1,0))\n",
    "ax2.set_title('Counts of top 15 Categories of Posts, combining Steem related')\n",
    "ax2.set_ylabel('Counts')\n",
    "\n",
    "ax2.set_xlabel('Post Creation Date')\n",
    "\n",
    "# fig.tight_layout()\n",
    "\n"
   ]
  },
  {
   "cell_type": "code",
   "execution_count": null,
   "metadata": {},
   "outputs": [],
   "source": [
    "idx_cols = raw.columns.str.contains('number')"
   ]
  },
  {
   "cell_type": "code",
   "execution_count": null,
   "metadata": {},
   "outputs": [],
   "source": [
    "sns.barplot(y = 'variable',x = 'value',data = pd.melt(raw.ix[:,idx_cols]))\n",
    "plt.xlabel('Average Count per Post')\n",
    "plt.title('Average Number of Feature Counts per Post')\n",
    "plt.ylabel('')"
   ]
  },
  {
   "cell_type": "code",
   "execution_count": null,
   "metadata": {},
   "outputs": [],
   "source": [
    "post_lengths = raw['body'].fillna('').str.split(' ').apply(len)\n",
    "# post_lengths = post_lengths[post_lengths > 10]"
   ]
  },
  {
   "cell_type": "code",
   "execution_count": null,
   "metadata": {},
   "outputs": [],
   "source": [
    "raw = raw[(raw['depth'] == 0)]"
   ]
  },
  {
   "cell_type": "code",
   "execution_count": null,
   "metadata": {},
   "outputs": [],
   "source": [
    "sns.distplot(np.log(raw['total_payout_value']),label = 'Top Author Reputations')\n",
    "plt.xlabel('Log Total Payout Value')\n",
    "plt.title('Log Distribution of Total Payout Value')\n"
   ]
  },
  {
   "cell_type": "code",
   "execution_count": null,
   "metadata": {},
   "outputs": [],
   "source": [
    "sns.distplot(np.log(raw.ix[raw['author'].duplicated(),'author_reputation']).dropna(), label = 'Authors of Posts Reputation')\n",
    "\n",
    "sns.distplot(np.log(authors['reputation']),label = 'Top Author Reputations')\n",
    "plt.xlabel('Log of Reputation')\n",
    "plt.title('Author Reputation Distribution')\n",
    "\n",
    "plt.legend(loc = 'best')\n"
   ]
  },
  {
   "cell_type": "code",
   "execution_count": null,
   "metadata": {},
   "outputs": [],
   "source": [
    "fig,(ax1,ax2) = plt.subplots(1,2,figsize = (10,5))\n",
    "sns.barplot((post_lengths), ax = ax1, orient='v')\n",
    "ax1.set_xlabel('Word Count')\n",
    "ax1.set_ylabel('Average Word Count')\n",
    "\n",
    "\n",
    "ax1.set_title('Article Length, Word Count')\n",
    "\n",
    "sns.distplot(np.log(post_lengths), ax = ax2)\n",
    "ax2.set_title('Article Length, Log of Word Count')\n",
    "ax2.set_xlabel('Log of Word Count')\n",
    "\n",
    "# plt.ylim(0,0.000003)"
   ]
  }
 ],
 "metadata": {
  "kernelspec": {
   "display_name": "Python 2",
   "language": "python",
   "name": "python2"
  },
  "language_info": {
   "codemirror_mode": {
    "name": "ipython",
    "version": 2
   },
   "file_extension": ".py",
   "mimetype": "text/x-python",
   "name": "python",
   "nbconvert_exporter": "python",
   "pygments_lexer": "ipython2"
  }
 },
 "nbformat": 4,
 "nbformat_minor": 1
}
