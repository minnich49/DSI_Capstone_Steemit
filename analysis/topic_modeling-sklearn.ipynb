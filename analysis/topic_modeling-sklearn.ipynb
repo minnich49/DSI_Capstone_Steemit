{
 "cells": [
  {
   "cell_type": "code",
   "execution_count": null,
   "metadata": {},
   "outputs": [],
   "source": [
    "import textacy\n",
    "import gensim\n",
    "from DSI_Capstone_Steemit.utils.utils import(\n",
    "    load_data_and_description,\n",
    "    load_raw_cleaned\n",
    ")\n",
    "\n",
    "from sklearn.decomposition import NMF, LatentDirichletAllocation\n"
   ]
  },
  {
   "cell_type": "code",
   "execution_count": null,
   "metadata": {},
   "outputs": [],
   "source": [
    "sparse,names,df_posts = load_data_and_description()\n",
    "df_posts = df_posts[df_posts['body'].notnull()]"
   ]
  },
  {
   "cell_type": "code",
   "execution_count": null,
   "metadata": {},
   "outputs": [],
   "source": [
    "def print_top_words(model, feature_names, n_top_words):\n",
    "    for topic_idx, topic in enumerate(model.components_):\n",
    "        print(\"Topic #%d:\" % topic_idx)\n",
    "        print(\" \".join([feature_names[i]\n",
    "                        for i in topic.argsort()[:-n_top_words - 1:-1]]))\n",
    "    print()\n",
    "    \n",
    "\n",
    "    "
   ]
  },
  {
   "cell_type": "code",
   "execution_count": null,
   "metadata": {},
   "outputs": [],
   "source": [
    "sparse.shape"
   ]
  },
  {
   "cell_type": "markdown",
   "metadata": {},
   "source": [
    "# NMF Exploration"
   ]
  },
  {
   "cell_type": "code",
   "execution_count": null,
   "metadata": {},
   "outputs": [],
   "source": [
    "for number_of_topics in [2,3,4,5]:\n",
    "    nmf = NMF(n_components=number_of_topics, random_state=1,\n",
    "              alpha=.1, l1_ratio=.5).fit(sparse)\n",
    "\n",
    "\n",
    "    n_top_words = 50\n",
    "    print '##############'\n",
    "    print(\"%i Topics in NMF model:\" % number_of_topics)\n",
    "    tfidf_feature_names = names\n",
    "    print_top_words(nmf, tfidf_feature_names, n_top_words)\n"
   ]
  },
  {
   "cell_type": "code",
   "execution_count": null,
   "metadata": {},
   "outputs": [],
   "source": [
    "import pandas as pd"
   ]
  },
  {
   "cell_type": "code",
   "execution_count": null,
   "metadata": {},
   "outputs": [],
   "source": [
    "nmf = NMF(n_components=4, random_state=1,\n",
    "              alpha=.1, l1_ratio=.5).fit(sparse)\n",
    "\n",
    "\n",
    "\n",
    "topic_probabilities = pd.DataFrame(nmf.transform(sparse))"
   ]
  },
  {
   "cell_type": "code",
   "execution_count": null,
   "metadata": {},
   "outputs": [],
   "source": [
    "n_top_words = 20\n",
    "print '##############'\n",
    "print(\"%i Topics in NMF model:\" % number_of_topics)\n",
    "tfidf_feature_names = names\n",
    "print_top_words(nmf, tfidf_feature_names, n_top_words)\n",
    "\n"
   ]
  },
  {
   "cell_type": "code",
   "execution_count": null,
   "metadata": {},
   "outputs": [],
   "source": [
    "topic_probabilities.columns = ['Personal','Spanish','Steem','Voting']"
   ]
  },
  {
   "cell_type": "markdown",
   "metadata": {},
   "source": [
    "## LDA Exploration"
   ]
  },
  {
   "cell_type": "code",
   "execution_count": null,
   "metadata": {},
   "outputs": [],
   "source": [
    "sparse,names,df_posts_counts = load_data_and_description(data_type='posts_counts')\n",
    "df_posts = df_posts[df_posts['body'].notnull()]"
   ]
  },
  {
   "cell_type": "code",
   "execution_count": null,
   "metadata": {},
   "outputs": [],
   "source": [
    "for number_of_topics in [2,3,4,5]:\n",
    "    nmf = NMF(n_components=number_of_topics, random_state=1,\n",
    "              alpha=.1, l1_ratio=.5).fit(sparse)\n",
    "\n",
    "\n",
    "    lda = LatentDirichletAllocation(n_topics=number_of_topics, max_iter=5,\n",
    "                                    learning_method='online',\n",
    "                                    learning_offset=50.,\n",
    "                                    random_state=0).fit(sparse)\n",
    "    \n",
    "    n_top_words = 20\n",
    "    print '##############'\n",
    "    print(\"%i Topics in NMF model:\" % number_of_topics)\n",
    "    tfidf_feature_names = names\n",
    "    print_top_words(lda, tfidf_feature_names, n_top_words)\n",
    "\n"
   ]
  },
  {
   "cell_type": "code",
   "execution_count": null,
   "metadata": {},
   "outputs": [],
   "source": []
  }
 ],
 "metadata": {
  "kernelspec": {
   "display_name": "Python 2",
   "language": "python",
   "name": "python2"
  },
  "language_info": {
   "codemirror_mode": {
    "name": "ipython",
    "version": 2
   },
   "file_extension": ".py",
   "mimetype": "text/x-python",
   "name": "python",
   "nbconvert_exporter": "python",
   "pygments_lexer": "ipython2"
  }
 },
 "nbformat": 4,
 "nbformat_minor": 1
}
