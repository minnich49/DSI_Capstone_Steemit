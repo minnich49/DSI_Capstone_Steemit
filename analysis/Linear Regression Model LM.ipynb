{
 "cells": [
  {
   "cell_type": "code",
   "execution_count": 17,
   "metadata": {
    "collapsed": false
   },
   "outputs": [],
   "source": [
    "import pymssql\n",
    "import pandas as pd\n",
    "import numpy as np\n",
    "import os\n",
    "import re\n",
    "import joblib\n",
    "import sys \n",
    "import sys  \n",
    "from scipy import sparse\n",
    "from scipy.sparse import csr_matrix\n",
    "import matplotlib.pyplot as plt\n",
    "%matplotlib inline  \n",
    "from lauren_function import *\n",
    "\n",
    "data_directory = '../data/'"
   ]
  },
  {
   "cell_type": "code",
   "execution_count": 18,
   "metadata": {
    "collapsed": false
   },
   "outputs": [],
   "source": [
    "data,feature_names,data_desc = load_data_and_description(data_type='posts_tfidf')"
   ]
  },
  {
   "cell_type": "code",
   "execution_count": 19,
   "metadata": {
    "collapsed": true
   },
   "outputs": [],
   "source": [
    "value_counts = data_desc['category'].value_counts()\n",
    "top_categories = value_counts.index[value_counts > np.percentile(data_desc['category'].value_counts(),97)]\n",
    "idx = data_desc['category'].isin(top_categories)\n",
    "data_desc['top category'] = idx.astype(int)\n",
    "\n",
    "data_desc['top category listed'] = data_desc.ix[data_desc['top category'].values.astype(bool) ,'category']\n",
    "\n",
    "data_desc['top category listed'] = data_desc['top category listed'].fillna('Other')\n"
   ]
  },
  {
   "cell_type": "code",
   "execution_count": 20,
   "metadata": {
    "collapsed": false
   },
   "outputs": [
    {
     "data": {
      "text/plain": [
       "Index([u'ID', u'author', u'permlink', u'category', u'last_update', u'created',\n",
       "       u'active', u'last_payout', u'depth', u'children', u'children_rshares2',\n",
       "       u'net_rshares', u'abs_rshares', u'vote_rshares',\n",
       "       u'children_abs_rshares', u'cashout_time', u'max_cashout_time',\n",
       "       u'total_vote_weight', u'reward_weight', u'total_payout_value',\n",
       "       u'curator_payout_value', u'author_rewards', u'net_votes',\n",
       "       u'root_comment', u'mode', u'max_accepted_payout',\n",
       "       u'percent_steem_dollars', u'allow_replies', u'allow_votes',\n",
       "       u'allow_curation_rewards', u'url', u'root_title',\n",
       "       u'pending_payout_value', u'total_pending_payout_value', u'active_votes',\n",
       "       u'replies', u'author_reputation', u'body_language', u'dirty', u'ID.1',\n",
       "       u'tx_id', u'author.1', u'permlink.1', u'parent_author',\n",
       "       u'parent_permlink', u'title', u'json_metadata', u'body', u'body urls',\n",
       "       u'number of body urls', u'number of youtube urls',\n",
       "       u'number of image urls', u'body tags', u'number of body tags',\n",
       "       u'body mentions', u'number of body mentions', u'number of steem counts',\n",
       "       u'whale', u'body whale mentions', u'language',\n",
       "       u'author_reputation_scaled', u'top category', u'top category listed'],\n",
       "      dtype='object')"
      ]
     },
     "execution_count": 20,
     "metadata": {},
     "output_type": "execute_result"
    }
   ],
   "source": [
    "data_desc.columns"
   ]
  },
  {
   "cell_type": "code",
   "execution_count": 21,
   "metadata": {
    "collapsed": false
   },
   "outputs": [
    {
     "data": {
      "text/plain": [
       "0                                                       NaN\n",
       "1         {\"tags\":[\"beauty\"],\"links\":[\"https://youtu.be/...\n",
       "2         {\"tags\":[\"steemit\",\"steemit-community\",\"steem\"...\n",
       "3         {\"tags\":[\"money\",\"cryptotrading\",\"business\",\"c...\n",
       "4         {\"tags\":[\"steem\",\"\",\"introduceyourself\",\"steem...\n",
       "5         {\"tags\":[\"introduceyourself\",\"blockchain\",\"bit...\n",
       "6         {\"tags\":[\"introduceyourself\"],\"users\":[\"rok-si...\n",
       "7         {\"tags\":[\"photography\",\"steemit\",\"girls\",\"fash...\n",
       "8         {\"tags\":[\"introduceyourself\",\"helloworld\"],\"im...\n",
       "9         {\"tags\":[\"steemit\"],\"links\":[\"https://youtu.be...\n",
       "10                             {\"tags\":[\"steem\",\"steemit\"]}\n",
       "11        {\"tags\":[\"steemit\",\"steem\"],\"image\":[\"https://...\n",
       "12        {\"tags\":[\"introduceyourself\",\"steemit\",\"steem\"...\n",
       "13        {\"tags\":[\"news\",\"steemit\",\"steem\",\"investing\"]...\n",
       "14        {\"tags\":[\"introduceyourself\",\"helloworld\"],\"im...\n",
       "15        {\"tags\":[\"anarchism\",\"cryptocurrency\",\"mathema...\n",
       "16        {\"tags\":[\"introduceyourself\",\"federicopistono\"...\n",
       "17        {\"tags\":[\"marketing\"],\"users\":[\"steemitblog\"],...\n",
       "18        {\"tags\":[\"introduceyourself\",\"steem\"],\"links\":...\n",
       "19        {\"tags\":[\"steemit\",\"steemitchat\",\"steemit-news\"]}\n",
       "20        {\"tags\":[\"travel\",\"photography\",\"writing\",\"ste...\n",
       "21        {\"tags\":[\"steemfest\",\"steemit\",\"steem\",\"confer...\n",
       "22        {\"tags\":[\"steemit\",\"journalism\"],\"links\":[\"htt...\n",
       "23        {\"tags\":[\"introduceyourself\",\"blockchain\",\"imm...\n",
       "24        {\"tags\":[\"introduceyourself\",\"steemit\",\"writin...\n",
       "25        {\"tags\":[\"steemit\"],\"users\":[\"donkeypong\",\"ste...\n",
       "26        {\"tags\":[\"introduceyourself\",\"passion\",\"writin...\n",
       "27        {\"tags\":[\"steem\",\"steemfairytales\",\"steemhack\"...\n",
       "28        {\"tags\":[\"steemit\"],\"image\":[\"http://i.imgsafe...\n",
       "29        {\"tags\":[\"github\",\"opensource\",\"software\",\"dev...\n",
       "                                ...                        \n",
       "111148    {\"tags\":[\"pokemon-go\",\"pokemon\",\"mobilegame\",\"...\n",
       "111149    {\"tags\":[\"photography\",\"nature\",\"life\",\"health...\n",
       "111150                                {\"tags\":[\"steememe\"]}\n",
       "111151    {\"tags\":[\"confession\",\"gamblingbad\",\"true\",\"ev...\n",
       "111152    {\"tags\":[\"mma\",\"martialarts\",\"brazilian\",\"juji...\n",
       "111153    {\"tags\":[\"steemfest\",\"travel\"],\"image\":[\"http:...\n",
       "111154    {\"tags\":[\"food\",\"cooking\",\"recipes\"],\"image\":[...\n",
       "111155    {\"tags\":[\"crypto-news\"],\"image\":[\"https://coin...\n",
       "111156    {\"tags\":[\"christmas\",\"life\",\"steem\",\"art\",\"giv...\n",
       "111157    {\"tags\":[\"steemit\"],\"image\":[\"https://img1.ste...\n",
       "111158    {\"tags\":[\"science\",\"kissing\",\"evolution\",\"anth...\n",
       "111159                                    {\"tags\":[\"life\"]}\n",
       "111160                           {\"tags\":[\"secret-writer\"]}\n",
       "111161            {\"tags\":[\"stats\"],\"users\":[\"masteryoda\"]}\n",
       "111162                                 {\"tags\":[\"cartoon\"]}\n",
       "111163                                  {\"tags\":[\"health\"]}\n",
       "111164          {\"tags\":[\"cartoon\"],\"users\":[\"fyrstikken\"]}\n",
       "111165                                 {\"tags\":[\"steemit\"]}\n",
       "111166                                 {\"tags\":[\"steemit\"]}\n",
       "111167    {\"tags\":[\"travel\",\"life\",\"photography\",\"steemi...\n",
       "111168                                {\"tags\":[\"boutique\"]}\n",
       "111169                                {\"tags\":[\"boutique\"]}\n",
       "111170    {\"tags\":[\"art\",\"mypaint\",\"steemit\",\"steempower...\n",
       "111171                                 {\"tags\":[\"bitcoin\"]}\n",
       "111172                                                   {}\n",
       "111173                                                   {}\n",
       "111174                                                   {}\n",
       "111175                                                   {}\n",
       "111176                                                   {}\n",
       "111177    {\"tags\":[\"circlejerk\",\"steemit\",\"steem\",\"steem...\n",
       "Name: json_metadata, dtype: object"
      ]
     },
     "execution_count": 21,
     "metadata": {},
     "output_type": "execute_result"
    }
   ],
   "source": [
    "data_desc['json_metadata']"
   ]
  },
  {
   "cell_type": "code",
   "execution_count": 22,
   "metadata": {
    "collapsed": false
   },
   "outputs": [
    {
     "data": {
      "text/plain": [
       "0                                                       NaN\n",
       "1         {\"tags\":[\"beauty\"],\"links\":[\"https://youtu.be/...\n",
       "2         {\"tags\":[\"steemit\",\"steemit-community\",\"steem\"...\n",
       "3         {\"tags\":[\"money\",\"cryptotrading\",\"business\",\"c...\n",
       "4         {\"tags\":[\"steem\",\"\",\"introduceyourself\",\"steem...\n",
       "5         {\"tags\":[\"introduceyourself\",\"blockchain\",\"bit...\n",
       "6         {\"tags\":[\"introduceyourself\"],\"users\":[\"rok-si...\n",
       "7         {\"tags\":[\"photography\",\"steemit\",\"girls\",\"fash...\n",
       "8         {\"tags\":[\"introduceyourself\",\"helloworld\"],\"im...\n",
       "9         {\"tags\":[\"steemit\"],\"links\":[\"https://youtu.be...\n",
       "10                             {\"tags\":[\"steem\",\"steemit\"]}\n",
       "11        {\"tags\":[\"steemit\",\"steem\"],\"image\":[\"https://...\n",
       "12        {\"tags\":[\"introduceyourself\",\"steemit\",\"steem\"...\n",
       "13        {\"tags\":[\"news\",\"steemit\",\"steem\",\"investing\"]...\n",
       "14        {\"tags\":[\"introduceyourself\",\"helloworld\"],\"im...\n",
       "15        {\"tags\":[\"anarchism\",\"cryptocurrency\",\"mathema...\n",
       "16        {\"tags\":[\"introduceyourself\",\"federicopistono\"...\n",
       "17        {\"tags\":[\"marketing\"],\"users\":[\"steemitblog\"],...\n",
       "18        {\"tags\":[\"introduceyourself\",\"steem\"],\"links\":...\n",
       "19        {\"tags\":[\"steemit\",\"steemitchat\",\"steemit-news\"]}\n",
       "20        {\"tags\":[\"travel\",\"photography\",\"writing\",\"ste...\n",
       "21        {\"tags\":[\"steemfest\",\"steemit\",\"steem\",\"confer...\n",
       "22        {\"tags\":[\"steemit\",\"journalism\"],\"links\":[\"htt...\n",
       "23        {\"tags\":[\"introduceyourself\",\"blockchain\",\"imm...\n",
       "24        {\"tags\":[\"introduceyourself\",\"steemit\",\"writin...\n",
       "25        {\"tags\":[\"steemit\"],\"users\":[\"donkeypong\",\"ste...\n",
       "26        {\"tags\":[\"introduceyourself\",\"passion\",\"writin...\n",
       "27        {\"tags\":[\"steem\",\"steemfairytales\",\"steemhack\"...\n",
       "28        {\"tags\":[\"steemit\"],\"image\":[\"http://i.imgsafe...\n",
       "29        {\"tags\":[\"github\",\"opensource\",\"software\",\"dev...\n",
       "                                ...                        \n",
       "111148    {\"tags\":[\"pokemon-go\",\"pokemon\",\"mobilegame\",\"...\n",
       "111149    {\"tags\":[\"photography\",\"nature\",\"life\",\"health...\n",
       "111150                                {\"tags\":[\"steememe\"]}\n",
       "111151    {\"tags\":[\"confession\",\"gamblingbad\",\"true\",\"ev...\n",
       "111152    {\"tags\":[\"mma\",\"martialarts\",\"brazilian\",\"juji...\n",
       "111153    {\"tags\":[\"steemfest\",\"travel\"],\"image\":[\"http:...\n",
       "111154    {\"tags\":[\"food\",\"cooking\",\"recipes\"],\"image\":[...\n",
       "111155    {\"tags\":[\"crypto-news\"],\"image\":[\"https://coin...\n",
       "111156    {\"tags\":[\"christmas\",\"life\",\"steem\",\"art\",\"giv...\n",
       "111157    {\"tags\":[\"steemit\"],\"image\":[\"https://img1.ste...\n",
       "111158    {\"tags\":[\"science\",\"kissing\",\"evolution\",\"anth...\n",
       "111159                                    {\"tags\":[\"life\"]}\n",
       "111160                           {\"tags\":[\"secret-writer\"]}\n",
       "111161            {\"tags\":[\"stats\"],\"users\":[\"masteryoda\"]}\n",
       "111162                                 {\"tags\":[\"cartoon\"]}\n",
       "111163                                  {\"tags\":[\"health\"]}\n",
       "111164          {\"tags\":[\"cartoon\"],\"users\":[\"fyrstikken\"]}\n",
       "111165                                 {\"tags\":[\"steemit\"]}\n",
       "111166                                 {\"tags\":[\"steemit\"]}\n",
       "111167    {\"tags\":[\"travel\",\"life\",\"photography\",\"steemi...\n",
       "111168                                {\"tags\":[\"boutique\"]}\n",
       "111169                                {\"tags\":[\"boutique\"]}\n",
       "111170    {\"tags\":[\"art\",\"mypaint\",\"steemit\",\"steempower...\n",
       "111171                                 {\"tags\":[\"bitcoin\"]}\n",
       "111172                                                   {}\n",
       "111173                                                   {}\n",
       "111174                                                   {}\n",
       "111175                                                   {}\n",
       "111176                                                   {}\n",
       "111177    {\"tags\":[\"circlejerk\",\"steemit\",\"steem\",\"steem...\n",
       "Name: json_metadata, dtype: object"
      ]
     },
     "execution_count": 22,
     "metadata": {},
     "output_type": "execute_result"
    }
   ],
   "source": [
    "data_desc['json_metadata']"
   ]
  },
  {
   "cell_type": "code",
   "execution_count": 12,
   "metadata": {
    "collapsed": false
   },
   "outputs": [
    {
     "data": {
      "text/plain": [
       "0                                                          \n",
       "1         {\"tags\":[\"beauty\"],\"links\":[\"https://youtu.be/...\n",
       "2         {\"tags\":[\"steemit\",\"steemit-community\",\"steem\"...\n",
       "3         {\"tags\":[\"money\",\"cryptotrading\",\"business\",\"c...\n",
       "4         {\"tags\":[\"steem\",\"\",\"introduceyourself\",\"steem...\n",
       "5         {\"tags\":[\"introduceyourself\",\"blockchain\",\"bit...\n",
       "6         {\"tags\":[\"introduceyourself\"],\"users\":[\"rok-si...\n",
       "7         {\"tags\":[\"photography\",\"steemit\",\"girls\",\"fash...\n",
       "8         {\"tags\":[\"introduceyourself\",\"helloworld\"],\"im...\n",
       "9         {\"tags\":[\"steemit\"],\"links\":[\"https://youtu.be...\n",
       "10                             {\"tags\":[\"steem\",\"steemit\"]}\n",
       "11        {\"tags\":[\"steemit\",\"steem\"],\"image\":[\"https://...\n",
       "12        {\"tags\":[\"introduceyourself\",\"steemit\",\"steem\"...\n",
       "13        {\"tags\":[\"news\",\"steemit\",\"steem\",\"investing\"]...\n",
       "14        {\"tags\":[\"introduceyourself\",\"helloworld\"],\"im...\n",
       "15        {\"tags\":[\"anarchism\",\"cryptocurrency\",\"mathema...\n",
       "16        {\"tags\":[\"introduceyourself\",\"federicopistono\"...\n",
       "17        {\"tags\":[\"marketing\"],\"users\":[\"steemitblog\"],...\n",
       "18        {\"tags\":[\"introduceyourself\",\"steem\"],\"links\":...\n",
       "19        {\"tags\":[\"steemit\",\"steemitchat\",\"steemit-news\"]}\n",
       "20        {\"tags\":[\"travel\",\"photography\",\"writing\",\"ste...\n",
       "21        {\"tags\":[\"steemfest\",\"steemit\",\"steem\",\"confer...\n",
       "22        {\"tags\":[\"steemit\",\"journalism\"],\"links\":[\"htt...\n",
       "23        {\"tags\":[\"introduceyourself\",\"blockchain\",\"imm...\n",
       "24        {\"tags\":[\"introduceyourself\",\"steemit\",\"writin...\n",
       "25        {\"tags\":[\"steemit\"],\"users\":[\"donkeypong\",\"ste...\n",
       "26        {\"tags\":[\"introduceyourself\",\"passion\",\"writin...\n",
       "27        {\"tags\":[\"steem\",\"steemfairytales\",\"steemhack\"...\n",
       "28        {\"tags\":[\"steemit\"],\"image\":[\"http://i.imgsafe...\n",
       "29        {\"tags\":[\"github\",\"opensource\",\"software\",\"dev...\n",
       "                                ...                        \n",
       "111148    {\"tags\":[\"pokemon-go\",\"pokemon\",\"mobilegame\",\"...\n",
       "111149    {\"tags\":[\"photography\",\"nature\",\"life\",\"health...\n",
       "111150                                {\"tags\":[\"steememe\"]}\n",
       "111151    {\"tags\":[\"confession\",\"gamblingbad\",\"true\",\"ev...\n",
       "111152    {\"tags\":[\"mma\",\"martialarts\",\"brazilian\",\"juji...\n",
       "111153    {\"tags\":[\"steemfest\",\"travel\"],\"image\":[\"http:...\n",
       "111154    {\"tags\":[\"food\",\"cooking\",\"recipes\"],\"image\":[...\n",
       "111155    {\"tags\":[\"crypto-news\"],\"image\":[\"https://coin...\n",
       "111156    {\"tags\":[\"christmas\",\"life\",\"steem\",\"art\",\"giv...\n",
       "111157    {\"tags\":[\"steemit\"],\"image\":[\"https://img1.ste...\n",
       "111158    {\"tags\":[\"science\",\"kissing\",\"evolution\",\"anth...\n",
       "111159                                    {\"tags\":[\"life\"]}\n",
       "111160                           {\"tags\":[\"secret-writer\"]}\n",
       "111161            {\"tags\":[\"stats\"],\"users\":[\"masteryoda\"]}\n",
       "111162                                 {\"tags\":[\"cartoon\"]}\n",
       "111163                                  {\"tags\":[\"health\"]}\n",
       "111164          {\"tags\":[\"cartoon\"],\"users\":[\"fyrstikken\"]}\n",
       "111165                                 {\"tags\":[\"steemit\"]}\n",
       "111166                                 {\"tags\":[\"steemit\"]}\n",
       "111167    {\"tags\":[\"travel\",\"life\",\"photography\",\"steemi...\n",
       "111168                                {\"tags\":[\"boutique\"]}\n",
       "111169                                {\"tags\":[\"boutique\"]}\n",
       "111170    {\"tags\":[\"art\",\"mypaint\",\"steemit\",\"steempower...\n",
       "111171                                 {\"tags\":[\"bitcoin\"]}\n",
       "111172                                                   {}\n",
       "111173                                                   {}\n",
       "111174                                                   {}\n",
       "111175                                                   {}\n",
       "111176                                                   {}\n",
       "111177    {\"tags\":[\"circlejerk\",\"steemit\",\"steem\",\"steem...\n",
       "Name: json_metadata, dtype: object"
      ]
     },
     "execution_count": 12,
     "metadata": {},
     "output_type": "execute_result"
    }
   ],
   "source": [
    "data_desc['json_metadata']"
   ]
  },
  {
   "cell_type": "code",
   "execution_count": 83,
   "metadata": {
    "collapsed": false
   },
   "outputs": [],
   "source": [
    "def create_tfidf(x):\n",
    "    try:\n",
    "        tags = json.loads(x)['tags']\n",
    "        tags = ','.join(tags)\n",
    "    except:\n",
    "        tags = np.nan\n",
    "        \n",
    "    return tags"
   ]
  },
  {
   "cell_type": "code",
   "execution_count": 84,
   "metadata": {
    "collapsed": false
   },
   "outputs": [
    {
     "name": "stdout",
     "output_type": "stream",
     "text": [
      "val {\"image\":[\"https://i.imgur.com/MpxbWe4.jpg\"],\"links\":[\"http://robotswillstealyourjob.com/read\",\"http://amzn.to/XJoHO4\",\"https://itunes.apple.com/gb/book/robots-will-steal-your-job/id576524472?mt=11\",\"https://sellfy.com/p/sxEG\",\"https://sellfy.com/p/Emz2/\"]} <type 'str'>\n"
     ]
    }
   ],
   "source": [
    "val = data_desc['json_metadata'][597]\n",
    "print 'val', val, type(val)"
   ]
  },
  {
   "cell_type": "code",
   "execution_count": 85,
   "metadata": {
    "collapsed": false
   },
   "outputs": [
    {
     "data": {
      "text/plain": [
       "nan"
      ]
     },
     "execution_count": 85,
     "metadata": {},
     "output_type": "execute_result"
    }
   ],
   "source": [
    "create_tfidf(val)"
   ]
  },
  {
   "cell_type": "code",
   "execution_count": 86,
   "metadata": {
    "collapsed": false
   },
   "outputs": [],
   "source": [
    "data_desc['tags'] = data_desc.apply(lambda x: create_tfidf(x['json_metadata']), axis=1)"
   ]
  },
  {
   "cell_type": "code",
   "execution_count": 87,
   "metadata": {
    "collapsed": true
   },
   "outputs": [],
   "source": [
    "data_desc['tags'].fillna(' ', inplace=True)"
   ]
  },
  {
   "cell_type": "code",
   "execution_count": 88,
   "metadata": {
    "collapsed": false
   },
   "outputs": [
    {
     "data": {
      "text/plain": [
       "0                                                          \n",
       "1                                                    beauty\n",
       "2                      steemit,steemit-community,steem,chat\n",
       "3         money,cryptotrading,business,crypto,fintech,po...\n",
       "4         steem,,introduceyourself,steemit,bitcoin,life,...\n",
       "5         introduceyourself,blockchain,bitcoin,networkin...\n",
       "6                                         introduceyourself\n",
       "7                        photography,steemit,girls,fashion,\n",
       "8                              introduceyourself,helloworld\n",
       "9                                                   steemit\n",
       "10                                            steem,steemit\n",
       "11                                            steemit,steem\n",
       "12            introduceyourself,steemit,steem,bitcoin,music\n",
       "13                             news,steemit,steem,investing\n",
       "14                             introduceyourself,helloworld\n",
       "15        anarchism,cryptocurrency,mathematics,steemit,w...\n",
       "16        introduceyourself,federicopistono,elonmusk,xpr...\n",
       "17                                                marketing\n",
       "18                                  introduceyourself,steem\n",
       "19                         steemit,steemitchat,steemit-news\n",
       "20                       travel,photography,writing,steemit\n",
       "21             steemfest,steemit,steem,conference,amsterdam\n",
       "22                                       steemit,journalism\n",
       "23        introduceyourself,blockchain,immortality,model...\n",
       "24                        introduceyourself,steemit,writing\n",
       "25                                                  steemit\n",
       "26        introduceyourself,passion,writing,journalism,b...\n",
       "27           steem,steemfairytales,steemhack,steemplagarism\n",
       "28                                                  steemit\n",
       "29        github,opensource,software,developers,steem,os...\n",
       "                                ...                        \n",
       "111148            pokemon-go,pokemon,mobilegame,game,social\n",
       "111149                photography,nature,life,health,beauty\n",
       "111150                                             steememe\n",
       "111151                   confession,gamblingbad,true,event,\n",
       "111152                    mma,martialarts,brazilian,jujitsu\n",
       "111153                                     steemfest,travel\n",
       "111154                                 food,cooking,recipes\n",
       "111155                                          crypto-news\n",
       "111156                    christmas,life,steem,art,giveaway\n",
       "111157                                              steemit\n",
       "111158    science,kissing,evolution,anthropology,philema...\n",
       "111159                                                 life\n",
       "111160                                        secret-writer\n",
       "111161                                                stats\n",
       "111162                                              cartoon\n",
       "111163                                               health\n",
       "111164                                              cartoon\n",
       "111165                                              steemit\n",
       "111166                                              steemit\n",
       "111167            travel,life,photography,steemit,craigrant\n",
       "111168                                             boutique\n",
       "111169                                             boutique\n",
       "111170    art,mypaint,steemit,steempower,steem,experimen...\n",
       "111171                                              bitcoin\n",
       "111172                                                     \n",
       "111173                                                     \n",
       "111174                                                     \n",
       "111175                                                     \n",
       "111176                                                     \n",
       "111177           circlejerk,steemit,steem,steempower,whales\n",
       "Name: tags, dtype: object"
      ]
     },
     "execution_count": 88,
     "metadata": {},
     "output_type": "execute_result"
    }
   ],
   "source": [
    "data_desc['tags']"
   ]
  },
  {
   "cell_type": "code",
   "execution_count": 89,
   "metadata": {
    "collapsed": false
   },
   "outputs": [],
   "source": [
    "from sklearn.feature_extraction.text import CountVectorizer,TfidfVectorizer\n",
    "from nltk.stem.wordnet import WordNetLemmatizer\n",
    "from nltk.tokenize import word_tokenize\n",
    "from nltk.stem import PorterStemmer\n",
    "from nltk import word_tokenize \n",
    "from nltk.corpus import stopwords\n",
    "\n",
    "lmtzr = WordNetLemmatizer()\n",
    "class WordNetLemmatizer(object):\n",
    "    def __init__(self):\n",
    "        self.lmtzr = lmtzr.lemmatize    \n",
    "    def __call__(self, doc):\n",
    "        return [self.lmtzr(t) for t in word_tokenize(doc)]\n",
    "    \n",
    "tfidfvect = TfidfVectorizer(\n",
    "    encoding = 'utf-8',\n",
    "    tokenizer = WordNetLemmatizer(),\n",
    "    # tokenizer = PorterTokenizer(),\n",
    "    stop_words = stopwords.words('english'),\n",
    "    lowercase = True\n",
    "    \n",
    ")\n",
    "\n",
    "posts_tfidf = tfidfvect.fit_transform(data_desc['tags'])"
   ]
  },
  {
   "cell_type": "code",
   "execution_count": 90,
   "metadata": {
    "collapsed": false
   },
   "outputs": [
    {
     "data": {
      "text/plain": [
       "<111178x21370 sparse matrix of type '<type 'numpy.float64'>'\n",
       "\twith 463417 stored elements in Compressed Sparse Row format>"
      ]
     },
     "execution_count": 90,
     "metadata": {},
     "output_type": "execute_result"
    }
   ],
   "source": [
    "posts_tfidf"
   ]
  },
  {
   "cell_type": "code",
   "execution_count": 9,
   "metadata": {
    "collapsed": false
   },
   "outputs": [
    {
     "name": "stdout",
     "output_type": "stream",
     "text": [
      "[u'beauty']\n",
      "[u'steemit', u'steemit-community', u'steem', u'chat']\n",
      "[u'money', u'cryptotrading', u'business', u'crypto', u'fintech', u'politics', u'upvoting', u'disruptive', u'social-media', u'steemenomics', u'financial', u'interest', u'steem', u'great', u'venture-capital', u'steemit-adoption', u'beyondbitcoin', u'crowdfunding', u'cryptocurrencies', u'cryptocurrency', u'investment', u'blockchain', u'cryptonews', u'venturecapital', u'steemit', u'thecryptodrive', u'daily', u'introduction', u'thoughts', u'travel', u'finance', u'market', u'steemitsocool', u'blogging', u'introduceyourself', u'bitcoin', u'introduceemyself', u'economics', u'steemdrive', u'crypto-news', u'competition']\n",
      "[u'steem', u'', u'introduceyourself', u'steemit', u'bitcoin', u'life', u'steem-ideas']\n",
      "[u'introduceyourself', u'blockchain', u'bitcoin', u'networking', u'iguana', u'supernet', u'bitcoindark', u'']\n",
      "[u'introduceyourself']\n",
      "[u'photography', u'steemit', u'girls', u'fashion', u'']\n",
      "[u'introduceyourself', u'helloworld']\n",
      "[u'steemit']\n",
      "[u'steem', u'steemit']\n",
      "[u'steemit', u'steem']\n",
      "[u'introduceyourself', u'steemit', u'steem', u'bitcoin', u'music']\n",
      "[u'news', u'steemit', u'steem', u'investing']\n",
      "[u'introduceyourself', u'helloworld']\n",
      "[u'anarchism', u'cryptocurrency', u'mathematics', u'steemit', u'writing', u'introduceyourself', u'bitcoin', u'career', u'blockchains']\n",
      "[u'introduceyourself', u'federicopistono', u'elonmusk', u'xprize', u'singularityuniversity', u'robotswillstealyourjob', u'SteemTubeExperiment']\n",
      "[u'marketing']\n",
      "[u'introduceyourself', u'steem']\n",
      "[u'steemit', u'steemitchat', u'steemit-news']\n",
      "[u'travel', u'photography', u'writing', u'steemit']\n",
      "[u'steemfest', u'steemit', u'steem', u'conference', u'amsterdam']\n",
      "[u'steemit', u'journalism']\n",
      "[u'introduceyourself', u'blockchain', u'immortality', u'model', u'blockchaingirl']\n",
      "[u'introduceyourself', u'steemit', u'writing']\n",
      "[u'steemit']\n",
      "[u'introduceyourself', u'passion', u'writing', u'journalism', u'bookclub']\n",
      "[u'steem', u'steemfairytales', u'steemhack', u'steemplagarism']\n",
      "[u'steemit']\n",
      "[u'github', u'opensource', u'software', u'developers', u'steem', u'oss', u'bitbucket', u'steemit', u'programming']\n",
      "[u'steem']\n",
      "[u'travel', u'photography', u'adventure', u'writing', u'girls', u'']\n",
      "[u'steemstats', u'steem', u'steemit', u'technology']\n",
      "[u'blockchain', u'security', u'steem', u'steemit', u'hack']\n",
      "[u'steemwatch', u'humor', u'marketing', u'makeup', u'steem', u'taraisback', u'roelandpisback', u'mac', u'steemit', u'boypower', u'video', u'beauty', u'impersonation', u'tara', u'roelandp', u'tutorial', u'fun']\n",
      "[u'steem', u'steemit', u'security']\n",
      "[u'introduceyourself', u'steemit', u'steem', u'bitcoin', u'dogecoin']\n",
      "[u'introduceyourself', u'helloworld']\n",
      "[u'introduce', u'yourself', u'music', u'life']\n",
      "[u'steemitgame', u'steem', u'steemtools', u'game', u'8bit', u'steemit', u'steempower', u'streetfighter', u'steemapps']\n",
      "[u'steem', u'steemit']\n",
      "[u'steem', u'steemit', u'cryptocurrency', u'bitcoin']\n",
      "[u'life', u'challenge', u'new', u'']\n",
      "[u'blockchain', u'steem', u'steemit', u'codeislaw', u'dao']\n",
      "[u'homeless']\n",
      "[u'journey', u'goals', u'photos', u'hockey', u'dreams', u'changedlife', u'crytocurrencies', u'lifetips', u'lifestyle', u'quotes', u'steemit', u'me', u'travel', u'life', u'introduceyourself', u'sports']\n",
      "[u'steemit', u'bitcoin', u'ethereum', u'cryptocurrency', u'anarcho-capitalism']\n",
      "[u'littlebitsandbigdeals', u'selfimprovement', u'appalachiantrail', u'katecloud', u'adventure', u'steemit', u'hiking', u'travel', u'life']\n",
      "[u'steemit', u'identitytheft', u'steemitabuse', u'doyourpart', u'moderation']\n",
      "[u'steemit', u'steem', u'motocross', u'sponsorship', u'factorysteemit', u'airtime', u'introduceyourself', u'crypto']\n",
      "[u'introduceyourself', u'steemit', u'travel', u'photography', u'life', u'steempower', u'']\n",
      "[u'music', u'funny', u'personal']\n",
      "[u'steemit', u'steem', u'steemy', u'steemapp', u'']\n",
      "[u'steemit', u'steem', u'design', u'introduceyourself']\n",
      "[u'steemit', u'chicana', u'balloons', u'']\n",
      "[u'steemitx', u'followers', u'search', u'steemstream', u'roelandp']\n",
      "[u'food', u'amsterdam', u'beyonce', u'burritomaker', u'texmex', u'introduceyourself', u'burrito']\n",
      "[u'steemit', u'steem', u'stats', u'analysis']\n",
      "[u'travel', u'photography', u'adventure', u'writing', u'heiditravels']\n",
      "[u'steem', u'steemit', u'security', u'tools', u'steempressure']\n",
      "[u'introduceyourself', u'lifeofatruckdriver']\n",
      "[u'photography', u'ccminer', u'sgminer', u'birding', u'djm34']\n",
      "[u'steempay', u'steemit', u'steem', u'steempayments', u'development']\n",
      "[u'witness-category', u'witness', u'witness-update']\n",
      "[u'steemmag', u'']\n",
      "[u'lyrics', u'harmonium', u'beauty', u'writing', u'firori', u'heptade', u'lifechanging']\n",
      "[u'steemit', u'steem', u'antispam', u'steemabuse', u'steemitabuse', u'doyourpart', u'moderation', u'cheetah']\n",
      "[u'crypto-news', u'steemit', u'steem', u'darkai']\n",
      "[u'howto', u'vlog', u'yoga', u'video', u'writing', u'health', u'meditation', u'tutorial', u'spirituality']\n",
      "[u'', u'sweets', u'sweet', u'love', u'baking', u'STEEMIT', u'steemit', u'cake', u'goodies', u'cooking', u'life']\n",
      "[u'travel', u'writing', u'steemit', u'photography']\n",
      "[u'bitcoin', u'steemit', u'blockchain', u'crypto-news', u'life']\n",
      "[u'liberty', u'anarchy', u'capitalism', u'blockchain']\n",
      "[u'SpreadSteemit', u'advertising', u'marketing', u'seattle', u'SteemitBillboards', u'steem', u'SeattleForSteemit', u'steemit', u'pnw', u'billboard']\n",
      "[u'life', u'work', u'steem', u'creative']\n",
      "[u'steemit']\n",
      "[u'market', u'liquidity-reward', u'liquidity-war', u'algo-trading', u'market-making']\n",
      "[u'anarchy', u'philosophy', u'politics', u'economics', u'money']\n",
      "[u'academia', u'phd', u'life', u'writing', u'philosophy', u'theoretical', u'science', u'']\n",
      "[u'money', u'satoshisteem', u'satoshipie', u'steem', u'satoshifund', u'blockchain', u'invest', u'steemit', u'cyberfund']\n",
      "[u'backpacking', u'random', u'madeforsteemit', u'nature', u'originalcontent', u'wilderness', u'writing', u'health', u'life', u'photography', u'photojournalism']\n",
      "[u'steemit', u'travel', u'adventure', u'']\n",
      "[u'steemit', u'introduceyourself', u'life', u'beyondbitcoin', u'gaming', u'']\n",
      "[u'steem', u'steemit', u'live', u'video', u'responses']\n",
      "[u'steemit', u'steem', u'news', u'life', u'crypto-news']\n",
      "[u'introduceyourself', u'bio', u'life', u'']\n",
      "[u'trending-votes', u'steemit-downvote', u'voting-politics', u'steem-voting', u'steem-votes', u'downvoting', u'downvote', u'down-voting', u'steemit-votes', u'down-vote', u'steemit-politics', u'steemit', u'steemit-voting', u'trending-downvotes']\n",
      "[u'writing', u'translation', u'jobs', u'language']\n",
      "[u'story', u'life', u'bitcoin']\n",
      "[u'introduceyourself', u'steem', u'steemit', u'success', u'story', u'security', u'audit', u'bugs']\n",
      "[u'introduceyourself', u'introduction', u'']\n",
      "[u'steemit', u'bitcoin', u'ponzi', u'steem', u'crypto-news']\n",
      "[u'crypto-news', u'blockpay', u'bitcoin', u'steem', u'smartcoins']\n",
      "[u'the-hack']\n",
      "[u'steemit', u'self-improvement', u'']\n",
      "[u'steem', u'steemit', u'beyondbitcoin', u'bitshares', u'peerplays']\n",
      "[u'steem', u'security', u'steemit', u'']\n",
      "[u'steemit', u'hack', u'steem', u'steemdollars', u'whitehat']\n",
      "[u'steemit']\n",
      "[u'philosophy', u'life', u'education', u'university', u'school']\n",
      "[u'financial', u'market', u'steem']\n",
      "[u'market', u'steemit', u'liquidity-reward', u'market-making', u'firstblood-io']\n",
      "[u'steemit', u'opensource', u'']\n",
      "[u'steem', u'steemit', u'security', u'passwords']\n",
      "[u'steemit', u'steem', u'news', u'life', u'crypto-news']\n",
      "[u'the-hack']\n",
      "[u'motivational', u'blog', u'whining', u'expertise', u'steemit', u'travel', u'life', u'tutorial', u'newbie']\n",
      "[u'steemit']\n",
      "[u'housedecor']\n",
      "[u'steem', u'steemit', u'photography', u'singularityu', u'introduceyourself']\n",
      "[u'steemit', u'content', u'self-policing']\n",
      "[u'whales']\n",
      "[u'travel', u'gardening', u'garden', u'health', u'permaculture', u'life', u'writing', u'photography']\n",
      "[u'crypto-news']\n",
      "[u'steem', u'tapos', u'ethereum', u'security', u'bitfinex']\n",
      "[u'steem-help', u'steemit', u'steem', u'howto']\n",
      "[u'introduceyourself', u'life', u'family', u'down-syndrome']\n",
      "[u'steemws', u'steemapi', u'steem']\n",
      "[u'steemit', u'steem-tutorial', u'steem', u'creativity', u'life']\n",
      "[u'introduceyourself', u'steemit', u'steem', u'media', u'television']\n",
      "[u'steem', u'steemit', u'bitcoin']\n",
      "[u'travel', u'life', u'spiritual', u'mountains', u'hiking']\n",
      "[u'art', u'illustration', u'philosophy', u'life', u'books', u'story', u'accomplishment']\n",
      "[u'life', u'family', u'personal', u'']\n",
      "[u'steem', u'steemit', u'steemit-marketing', u'marketing', u'beyondbitcoin']\n",
      "[u'wallpaper', u'graphic', u'funny', u'cass']\n",
      "[u'steem', u'steemshare', u'steemit', u'steemapps', u'']\n",
      "[u'projectsteemcar', u'steem', u'steemit', u'news', u'']\n",
      "[u'introduceyourself', u'bitcoin', u'crypto-news', u'blockchain', u'']\n",
      "[u'steemmag']\n",
      "[u'introduceyourself', u'helloworld']\n",
      "[u'steem']\n",
      "[u'introduceyourself', u'steemit', u'steem', u'']\n",
      "[u'steemit', u'writing', u'marketing', u'steem']\n",
      "[u'steemq', u'steem']\n",
      "[u'steemit']\n",
      "[u'backpacking', u'random', u'madeforsteemit', u'nature', u'originalcontent', u'wilderness', u'writing', u'health', u'life', u'photography', u'photojournalism']\n",
      "[u'resistance', u'voluntaryism', u'anarchism', u'authority', u'tyranny']\n",
      "[u'steemit', u'time', u'management', u'budgeting']\n",
      "[u'steemit', u'privacy', u'censorship', u'steem', u'crypto', u'LongLiveSteemit', u'CensorshopResistance', u'SeeYaUncleSam']\n",
      "[u'business', u'life', u'philosophy', u'writing']\n",
      "[u'money', u'cash', u'atm', u'dollar', u'euro']\n",
      "[u'steemit']\n",
      "[u'steemwatch', u'steem', u'steemit']\n",
      "[u'steemit', u'bots', u'censorship']\n",
      "[u'steemit', u'steem', u'development', u'notifications', u'Steemit']\n",
      "[u'blog', u'england', u'steem', u'adventure', u'outdoors', u'steemit', u'dover', u'wordpress', u'travel', u'blogging', u'introduceyourself']\n",
      "[u'steemit', u'steem', u'cryptocurrency', u'socialmedia', u'evolution']\n",
      "[u'travel']\n",
      "[u'steemdb', u'steemstats', u'steem']\n",
      "[u'steem', u'life', u'bitcoin']\n",
      "[u'steem', u'technical-analysis', u'oz', u'trading', u'charting']\n",
      "[u'money', u'business', u'crypto', u'disruptive', u'social-media', u'steemenomics', u'facebook', u'psychology', u'steem', u'steemit-adoption', u'beyondbitcoin', u'circle-jerk', u'cryptocurrency', u'blockchain', u'cryptonews', u'steemit', u'steempower', u'thoughts', u'market', u'writing', u'steemitsocool', u'bitcoin', u'ponzi', u'economics']\n",
      "[u'crypto-news', u'blockpay', u'bitcoin', u'steem', u'smartcoins']\n",
      "[u'academia', u'mathematics', u'conferences']\n",
      "[u'investigative-journalism']\n",
      "[u'motivational', u'brain-development', u'steemit-neurohack', u'psychology', u'transformation', u'steemit-testimonial', u'steem-psychology', u'steemit-testimonials', u'steemit-success', u'giving', u'value', u'testimonials', u'steemit', u'steemit-value', u'steemit-neurohacking', u'testimonial', u'steemit-psychology']\n",
      "[u'marketing']\n",
      "[u'witness']\n",
      "[u'introduceyourself', u'art', u'travel', u'life']\n",
      "[u'travel', u'adventure', u'photography', u'writing', u'heiditravels', u'femaletraveler']\n",
      "[u'stats', u'steemit', u'steem']\n",
      "[u'hack-alert', u'warning', u'']\n",
      "[u'voting', u'steemit', u'newusers', u'minnows', u'rewards', u'beyondbitcoin']\n",
      "[u'steemit', u'steem', u'whales', u'crypto-news', u'cryptocurrency']\n",
      "[u'programming', u'steemit', u'stats', u'analysis']\n",
      "[u'introduceyourself', u'tinyhouse', u'permaculture', u'photography', u'ecobuilding', u'steemit', u'windturbine', u'diy']\n",
      "[u'introduceyourself', u'intro']\n",
      "[u'steemit', u'money']\n",
      "[u'exchange', u'eitcoin', u'ethereum', u'litecoin', u'euro', u'tradingplatform', u'spacebtc']\n",
      "[u'disaster', u'tornado', u'photography']\n",
      "[u'radiosteem', u'music', u'steemtools', u'radio', u'mp3']\n",
      "[u'introduceyourself']\n",
      "[u'steem', u'steemit', u'bitcoin', u'blockchain', u'steempoweredfreedom', u'realtime', u'cryptocurrency']\n",
      "[u'steemit', u'steem', u'mining', u'life']\n",
      "[u'secret-writer']\n",
      "[u'steemit', u'marketing']\n",
      "[u'steemit', u'cookit']\n",
      "[u'steemevents', u'steem', u'steemit', u'life', u'teamsteem']\n",
      "[u'steem', u'steemit', u'bitcoin', u'blockchain', u'steempoweredfreedom', u'realtime', u'cryptocurrency', u'steemstream']\n",
      "[u'steemit', u'antispam', u'piston', u'steemabuse', u'steemitabuse', u'doyourpart', u'moderation', u'cheetah']\n",
      "[u'humansofsteemit', u'life', u'stories', u'writing', u'steemit']\n",
      "[u'steem']\n",
      "[u'academia', u'mathematics', u'work', u'']\n",
      "[u'steemit', u'steem', u'endthefed', u'anarchy']\n",
      "[u'steemit', u'', u'adventure', u'steem']\n",
      "[u'account-security', u'security', u'steem-help', u'newcomers', u'lastpass', u'attack', u'steem', u'2FA', u'steemit', u'password', u'phishing', u'duo']\n",
      "[u'steemit', u'steem', u'writing', u'life', u'introduceyourself', u'introduction', u'goodnews', u'money']\n",
      "[u'steem', u'introduceyourself']\n",
      "[u'food', u'life', u'introduction']\n",
      "[u'mediachain', u'steem', u'attribution', u'meme', u'media', u'art']\n",
      "[u'machinelearning', u'science', u'programming', u'development', u'crypto']\n",
      "[u'mathematics', u'banking', u'money']\n",
      "[u'bitcoin', u'blockchain', u'crypto-news', u'business', u'freedom']\n",
      "[u'steemit', u'anarchy', u'anarchism', u'steem', u'audio']\n",
      "[u'introduceyourself', u'introducemyself', u'mining']\n",
      "[u'life', u'journey', u'']\n",
      "[u'introduceyourself', u'steemit', u'travel', u'new', u'introduce', u'photography']\n",
      "[u'steemit', u'steem', u'help', u'']\n",
      "[u'steem', u'life', u'bitcoin']\n",
      "[u'nevergetbusted', u'barry', u'cooper', u'ayahuasca', u'ibogaine']\n",
      "[u'inspiration', u'homeless', u'reflection']\n",
      "[u'travel', u'vacation', u'health', u'sailing', u'']\n",
      "[u'introduceyourself', u'photography', u'academia', u'science', u'blockchain']\n",
      "[u'introduceyourself', u'bitcoin', u'panama', u'marketing', u'crypto']\n",
      "[u'introduceyourself', u'travel', u'video', u'introducemyself', u'lifestyle', u'sailing', u'']\n",
      "[u'steemmag', u'']\n",
      "[u'story', u'life', u'bitcoin']\n",
      "[u'steem', u'steemit', u'']\n",
      "[u'steemit']\n",
      "[u'travel', u'journey', u'photography', u'steemit', u'adventure']\n",
      "[u'beyondbitcoin', u'cryptonews', u'blockchain', u'bitshares', u'bitcoin']\n",
      "[u'introduceyourself', u'academia', u'science']\n",
      "[u'chess', u'apartheid', u'change', u'racism', u'sport']\n",
      "[u'introduceyourself']\n",
      "[u'the-hack', u'steemit', u'steemit-hack', u'steemit-hacker', u'steemithack', u'steemithacker', u'steemhack', u'steem-hack']\n",
      "[u'philosophy', u'society', u'decriminalization', u'life', u'writing']\n",
      "[u'bitshares', u'steem', u'peerplays', u'crypto-news', u'trading']\n",
      "[u'steem', u'steemit', u'beauty', u'']\n",
      "[u'steemit', u'steem']\n",
      "[u'steemit']\n",
      "[u'steemitabuse', u'bots', u'cheetah']\n",
      "[u'marijuana']\n",
      "[u'programming', u'livecoding', u'python', u'java', u'javascript']\n",
      "[u'steem']\n",
      "[u'steemtools', u'steem', u'steemit', u'tools', u'apps']\n",
      "[u'ama']\n",
      "[u'food', u'science', u'whiskey']\n",
      "[u'steemfest', u'steem', u'steemit', u'amsterdam', u'meetup']\n",
      "[u'steem', u'money']\n",
      "[u'film']\n",
      "[u'steemit']\n",
      "[u'money', u'incentives', u'education', u'incentive', u'steemitschool', u'steem', u'groupthink', u'gametheory', u'steemit', u'writing', u'economics']\n",
      "[u'introduceyourself']\n",
      "[u'introduceyourself']\n",
      "[u'steemit', u'security', u'steemscifi', u'steembots', u'steemfantasy']\n",
      "[u'travel']\n",
      "[u'steem', u'economics', u'gametheory']\n",
      "[u'steem-stats', u'steemit', u'steem', u'steam-help', u'anarchism']\n",
      "[u'life', u'self-improvement', u'']\n",
      "[u'steemit', u'steem', u'analytics', u'analysis', u'data', u'comparison', u'']\n",
      "[u'steemit', u'steem', u'economics']\n",
      "[u'steem', u'steemit', u'sidechain', u'subchain', u'childchain', u'developement']\n",
      "[u'houdini', u'art', u'video', u'steemit', u'introduceyourself']\n",
      "[u'music', u'life', u'writing', u'motivation']\n",
      "[u'vacation', u'steemit-hq']\n",
      "[u'timeforachange', u'fulltimesteem']\n",
      "[u'life', u'bitcoin', u'twentyquestions', u'money', u'blockchain']\n",
      "[u'writing', u'life', u'china', u'memoir', u'photography']\n",
      "[u'photography', u'travel', u'life', u'nature']\n",
      "[u'food', u'tacos', u'tctacotour', u'pfunkblog']\n",
      "[u'steemstats', u'patch-notes']\n",
      "[u'shortstories']\n",
      "[u'secret-writer']\n",
      "[u'life', u'motivational', u'inspiration', u'writing', u'blog']\n",
      "[u'steemit', u'liberty']\n",
      "[u'steemdollars', u'exchange', u'kraken', u'steemit', u'withdrawal']\n",
      "[u'politcs', u'philosophy', u'extropia-dasilva', u'work']\n",
      "[u'steem', u'steemit', u'evangelist', u'']\n",
      "[u'steemit-guide', u'steemit-newbie', u'steemit-pro', u'steemit-awesome', u'teamsteem']\n",
      "[u'motocross', u'steemitfunded', u'steemit', u'steem', u'factorysteemit']\n",
      "[u'steemit']\n",
      "[u'steem', u'coindesk']\n",
      "[u'steemit', u'steem', u'community']\n",
      "[u'steemit', u'cn', u'chinese', u'whitepaper']\n",
      "[u'steemit', u'steem', u'writing', u'life', u'travel', u'introduceyourself']\n",
      "[u'introduceyourself', u'steemit', u'bitcoin', u'noregrets', u'thisphotoneedspuppies']\n",
      "[u'reintroducemyself', u'introducemyself', u'helloworld', u'steemit']\n",
      "[u'steem', u'security', u'paperwallet']\n",
      "[u'steemit', u'hacking', u'security', u'protection', u'passwords', u'hacked']\n",
      "[u'steemhelp', u'help', u'steem', u'steemit', u'basic']\n",
      "[u'introduceyourself', u'security', u'life', u'crypto-news', u'introduction']\n",
      "[u'steemit', u'promotion', u'germany', u'']\n",
      "[u'anwen-meditates', u'health', u'yoga', u'meditation', u'life']\n",
      "[u'life', u'technology', u'economics']\n",
      "[u'introduceyourself']\n",
      "[u'life', u'dating', u'relationships', u'psychology', u'self-improvement']\n",
      "[u'philosophy', u'spirituality', u'life']\n",
      "[u'review', u'budget', u'software']\n",
      "[u'scam', u'money', u'steemit', u'steem', u'news']\n",
      "[u'steemit', u'steem']\n",
      "[u'music', u'life', u'photography', u'love']\n",
      "[u'funny', u'comedy', u'steemit', u'song', u'entertainment', u'steem', u'trading', u'bitcoin']\n",
      "[u'food', u'cuisine', u'gourmet', u'asia']\n",
      "[u'life', u'writing', u'steemit', u'creativity', u'addiction']\n",
      "[u'money', u'citizenship', u'taxes', u'freedom', u'anarcho-capitalism']\n",
      "[u'introduceyourself', u'art']\n",
      "[u'challenge', u'steemit', u'couple', u'video', u'funny', u'food', u'spanish', u'']\n",
      "[u'introduceyourself', u'funny', u'satire', u'marijuana', u'photography']\n",
      "[u'steemcleaners', u'steemitabuse', u'steemit']\n",
      "[u'steemit']\n",
      "[u'introduceyourself']\n",
      "[u'steem-help', u'steem-power', u'steempower', u'steem', u'money']\n",
      "[u'art', u'tutorial', u'drawing']\n",
      "[u'philosophy', u'crypto-news', u'silk-road', u'bitcoin', u'drugs']\n",
      "[u'steemit', u'steem', u'anarchy']\n",
      "[u'life', u'money', u'food', u'politics', u'blockpay']\n",
      "[u'steemit', u'steem', u'marijuana', u'funny']\n",
      "[u'photography']\n",
      "[u'life', u'inspiration', u'personal', u'']\n",
      "[u'security', u'privacy', u'sdr']\n",
      "[u'steemit', u'introduceyourself', u'marijuana', u'photography', u'life', u'blog', u'funny']\n",
      "[u'introduceyourself', u'steemit', u'photography', u'art', u'craigrant']\n",
      "[u'ama', u'introduction', u'ethereum', u'bitshares']\n",
      "[u'introduceyourself']\n",
      "[u'', u'steem-valuation', u'steemit-insight', u'circlejerk', u'facebook-addiction', u'steem-addiction', u'steemit-addict', u'steemit-insights', u'steem-insight', u'steemit-hack', u'steemit', u'steemit-addiction', u'steem-addict', u'steem-insights', u'the-hack']\n",
      "[u'yoga']\n",
      "[u'photography', u'art', u'photos', u'nature', u'life']\n",
      "[u'steemit', u'steem', u'money', u'publishing']\n",
      "[u'photography', u'steemychicken1', u'']\n",
      "[u'art', u'steemart', u'pyrography', u'', u'OriginalContent']\n",
      "[u'steemit-thanks', u'steemit', u'whales']\n",
      "[u'crypto-news', u'ethereum', u'dao', u'hacker', u'etc']\n",
      "[u'i-love-steemit', u'howtosucceedonsteemit', u'steem-success', u'postpromotion', u'steem-rewards', u'steem-testimony', u'steemitsuccesstips', u'circlejerk', u'testimony', u'steemitrockstars', u'value-psychology', u'steemit-rockstars', u'how-to-succeed-on-steemit', u'steemit-testimonial', u'value-formula', u'steemitsuccess', u'steemit-success', u'steemit-rockstar', u'steemitrockstar', u'steemit-testimony', u'steemit-rewards', u'steemit-tips', u'steemittips', u'value', u'steem-story', u'succeed-on-steemit', u'i-love-steem', u'succeedonsteemit', u'post-promotion', u'steemit-help', u'steemit', u'steemit-success-tips', u'steem-testimonial', u'testimonial', u'steemit-story']\n",
      "[u'introduceyourself']\n",
      "[u'story', u'life', u'bitcoin']\n",
      "[u'privacy', u'civil', u'rights']\n",
      "[u'voluntaryism', u'anarchism', u'government', u'liberty', u'freedom']\n",
      "[u'beyondbitcoin', u'steem', u'cryptonews', u'cryptocurrency', u'hangouts']\n",
      "[u'steem', u'steem-dollar']\n",
      "[u'steemit', u'steemit-success', u'steemit-help', u'steemit-culture']\n",
      "[u'steemit', u'scam', u'censorship', u'whyistilllovesteemit']\n",
      "[u'challenge', u'funny', u'steemit', u'fun', u'makeup']\n",
      "[u'money', u'gold', u'stocks', u'centralbanks', u'jubilee']\n",
      "[u'steem', u'steemit']\n",
      "[u'life']\n",
      "[u'secret-writer', u'lgbtq']\n",
      "[u'introduceyourself', u'introduction', u'anarchism', u'anarchy']\n",
      "[u'crypto-news', u'blocktrades', u'bitcoin']\n",
      "[u'steemit']\n",
      "[u'steemit']\n",
      "[u'beyondbitcoin', u'peerplays', u'dollarvigilante', u'blockpay', u'gridcoin']\n",
      "[u'steemit', u'work', u'beyondbitcoin', u'writing']\n",
      "[u'money', u'gold', u'finance', u'stocks', u'globalists']\n",
      "[u'steemit', u'dollarvigilante', u'worries']\n",
      "[u'photography']\n",
      "[u'steemit', u'anarchism', u'steem', u'anarchy', u'audio']\n",
      "[u'steemit', u'bitcoin', u'anarchy', u'steemit-future', u'blockchain']\n",
      "[u'life', u'future', u'technology', u'movies']\n",
      "[u'academia', u'introduceyourself', u'steemit', u'steem', u'machinelearning']\n",
      "[u'marijuana', u'life', u'thoughts', u'personal']\n",
      "[u'steemit']\n",
      "[u'blockpay']\n",
      "[u'bitshares', u'steemit', u'history', u'cryptonomex', u'investment']\n",
      "[u'bitcoin', u'bitfinex', u'bitshares', u'trading', u'steemit']\n",
      "[u'life', u'money', u'investing']\n",
      "[u'travel', u'shopping', u'art']\n",
      "[u'steemit', u'network-effect', u'economics', u'steem', u'analysis']\n",
      "[u'investments', u'money', u'new', u'blog', u'art', u'steemitcuritariae', u'whales', u'steemart', u'steemit', u'dolphincurator', u'writing']\n",
      "[u'liberty', u'anarchy', u'capitalism', u'policy', u'taxless']\n",
      "[u'art', u'photography', u'steemit', u'life', u'ru']\n",
      "[u'steemit']\n",
      "[u'steemit', u'steem', u'steem-help', u'ponzi', u'scam']\n",
      "[u'beyondbitcoin', u'bitshares', u'PeerPlays', u'Blockpay', u'Gridcoin']\n",
      "[u'secret-writer']\n",
      "[u'video', u'norge', u'norway', u'nature', u'movie', u'scandinavia', u'']\n",
      "[u'steemit', u'steem', u'dns']\n",
      "[u'blockchains']\n",
      "[u'bitshares', u'graphene']\n",
      "[u'steemit', u'life', u'stories', u'military', u'craigrant']\n",
      "[u'photography', u'pfunkphotos']\n",
      "[u'steemit', u'solution', u'steemitabuse', u'writing', u'money']\n",
      "[u'philosophy', u'consciousness', u'freedom', u'determinism', u'spirituality']\n",
      "[u'video']\n",
      "[u'secret-writer']\n",
      "[u'story', u'life', u'bitcoin']\n",
      "[u'hacker']\n",
      "[u'photography', u'family']\n",
      "[u'steemit', u'steem', u'crypto-news', u'blockchain', u'life']\n",
      "[u'excuses', u'hard', u'smart', u'trolling']\n",
      "[u'steemit', u'steem', u'money', u'trading', u'investing']\n",
      "[u'steem', u'technical-analysis', u'ozchartart', u'oz', u'trading', u'altcoins', u'STEEM']\n",
      "[u'steemmag']\n",
      "[u'life', u'motivational', u'inspiration', u'writing', u'changedlife']\n",
      "[u'steem', u'steemit', u'beyondbitcoin', u'opensource']\n",
      "[u'steemit']\n",
      "[u'money', u'cash', u'atm', u'steemit', u'steem']\n",
      "[u'bitshares', u'openledger', u'steem', u'muse']\n",
      "[u'steemit', u'accountrecovery', u'']\n",
      "[u'steem', u'pagerank', u'google', u'weboftrust']\n",
      "[u'steemit', u'steem', u'anarchy', u'censorship', u'privacy']\n",
      "[u'steem', u'steemit', u'faq', u'wikee', u'wiki']\n",
      "[u'life']\n",
      "[u'steemit', u'blockchain', u'economics', u'money', u'video']\n",
      "[u'steemit-news', u'twitter']\n",
      "[u'steemit', u'steem', u'cryptocurrency', u'bitcoin']\n",
      "[u'introduceyourself', u'bitcoin', u'blockchain', u'steemit', u'cryptocurrency']\n",
      "[u'heartgoodnesschallenge', u'charity', u'charitable-giving', u'publicity-stunts', u'tithe', u'tithing', u'steemit-giving', u'steemit-charity']\n",
      "[u'steem', u'steemit', u'trading', u'arbitrage', u'marketmaker', u'market', u'sbd', u'steemdollar']\n",
      "[u'security', u'steem', u'bittrex', u'poloniex']\n",
      "[u'investments', u'facebook', u'technology', u'steem', u'investing', u'blockchain', u'steemit', u'ethereum', u'bitcoin', u'economics']\n",
      "[u'marijuana', u'money', u'law', u'life', u'drugs']\n",
      "[u'philosophy', u'motivation', u'eckharttolle', u'life', u'economics']\n",
      "[u'life']\n",
      "[u'steemit', u'programming', u'dev', u'exchange', u'secretsanta']\n",
      "[u'steem', u'nodejs', u'steemshovel']\n",
      "[u'steemitabuse', u'steemit', u'steem', u'nature', u'steem-help']\n",
      "[u'steem']\n",
      "[u'writing', u'marketing', u'jobs', u'webdesign', u'seo']\n",
      "[u'steem', u'steemit']\n",
      "[u'steem-help', u'news', u'business', u'steemit', u'steem']\n",
      "[u'marijuana', u'health']\n",
      "[u'steem', u'steemit', u'security', u'the-hack', u'money', u'']\n",
      "[u'story', u'travel', u'bitcoin']\n",
      "[u'life', u'love', u'anarchy', u'peace', u'money']\n",
      "[u'steemspot', u'steemit', u'steem', u'steemmap', u'travel']\n",
      "[u'introduceyourself']\n",
      "[u'steemmag']\n",
      "[u'steem', u'steemle', u'search', u'api', u'statistics', u'funding', u'analytics']\n",
      "[u'steemit', u'promote', u'life', u'invest', u'trend']\n",
      "[u'nature', u'backpacking', u'writing', u'photography', u'life']\n",
      "[u'steemit', u'music', u'life']\n",
      "[u'steem']\n",
      "[u'story', u'life', u'bitcoin']\n",
      "[u'introduceyourself', u'bitcoin']\n",
      "[u'racing', u'bikes', u'accident', u'story']\n",
      "[u'steemit', u'steem', u'graph', u'api', u'steemtools']\n",
      "[u'fiction', u'science-fiction', u'cypher-punk']\n",
      "[u'guides', u'tutorials', u'help', u'mining', u'windows']\n",
      "[u'reputation', u'craigrant']\n",
      "[u'steemit']\n",
      "[u'inspiration', u'writing']\n",
      "[u'food', u'cuisine', u'gourmet', u'asia', u'berlin']\n",
      "[u'liberty', u'anarchy', u'capitalism', u'wealth', u'policy']\n",
      "[u'introduceyourself', u'education', u'onlineteaching', u'teachinghighschool', u'educationaltechnology', u'workingfromhome', u'family']\n",
      "[u'relationship', u'infidelity']\n",
      "[u'peerplays', u'bitshares', u'sharedrop', u'snapshot', u'blockchain']\n",
      "[u'free-society', u'cryptocurrency', u'money', u'futurology', u'TANSTAAFL']\n",
      "[u'steem', u'steemit', u'meetup', u'bitcoin', u'crypto-news']\n",
      "[u'steemit', u'steem', u'competition', u'']\n",
      "[u'story', u'fiction', u'life', u'creative', u'writers']\n",
      "[u'steemit']\n",
      "[u'steemit', u'steem', u'revenue']\n",
      "[u'money', u'silver', u'stopupvotingbimbos', u'greatsatanlarimer', u'anonymintwilldisagree', u'smoothdoesntcare', u'altright', u'diebankers']\n",
      "[u'dao', u'ethereum', u'charles', u'hoskinson']\n",
      "[u'poetry', u'steemit', u'art', u'writing', u'nepal']\n",
      "[u'steemitlive', u'steemit-live', u'steemit', u'teamsteem', u'fyrstikken']\n",
      "[u'teaching', u'education', u'life', u'passion']\n",
      "[u'story', u'life', u'fiction', u'writing', u'creativity']\n",
      "[u'bitcoin', u'money', u'cryptocurrency', u'etf']\n",
      "[u'philosophy', u'voting', u'fairness', u'politics']\n",
      "[u'poker', u'gambling', u'money', u'entertainment', u'income']\n",
      "[u'steemit', u'spotlight']\n",
      "[u'beauty', u'makeup', u'steemit', u'steem', u'tara']\n"
     ]
    },
    {
     "ename": "KeyError",
     "evalue": "'tags'",
     "output_type": "error",
     "traceback": [
      "\u001b[0;31m---------------------------------------------------------------------------\u001b[0m",
      "\u001b[0;31mKeyError\u001b[0m                                  Traceback (most recent call last)",
      "\u001b[0;32m<ipython-input-9-ec4dc7894c63>\u001b[0m in \u001b[0;36m<module>\u001b[0;34m()\u001b[0m\n\u001b[1;32m      4\u001b[0m \u001b[0;32mfor\u001b[0m \u001b[0midx\u001b[0m\u001b[0;34m,\u001b[0m \u001b[0mrow\u001b[0m \u001b[0;32min\u001b[0m \u001b[0menumerate\u001b[0m\u001b[0;34m(\u001b[0m\u001b[0mdata_desc\u001b[0m\u001b[0;34m[\u001b[0m\u001b[0;34m'json_metadata'\u001b[0m\u001b[0;34m]\u001b[0m\u001b[0;34m)\u001b[0m\u001b[0;34m:\u001b[0m\u001b[0;34m\u001b[0m\u001b[0m\n\u001b[1;32m      5\u001b[0m     \u001b[0;32mif\u001b[0m \u001b[0;34m(\u001b[0m\u001b[0mrow\u001b[0m \u001b[0;34m!=\u001b[0m \u001b[0;34m'[]'\u001b[0m\u001b[0;34m)\u001b[0m \u001b[0;34m&\u001b[0m \u001b[0mpd\u001b[0m\u001b[0;34m.\u001b[0m\u001b[0mnotnull\u001b[0m\u001b[0;34m(\u001b[0m\u001b[0mrow\u001b[0m\u001b[0;34m)\u001b[0m\u001b[0;34m:\u001b[0m\u001b[0;34m\u001b[0m\u001b[0m\n\u001b[0;32m----> 6\u001b[0;31m         \u001b[0;32mprint\u001b[0m \u001b[0mjson\u001b[0m\u001b[0;34m.\u001b[0m\u001b[0mloads\u001b[0m\u001b[0;34m(\u001b[0m\u001b[0mrow\u001b[0m\u001b[0;34m)\u001b[0m\u001b[0;34m[\u001b[0m\u001b[0;34m'tags'\u001b[0m\u001b[0;34m]\u001b[0m\u001b[0;34m\u001b[0m\u001b[0m\n\u001b[0m",
      "\u001b[0;31mKeyError\u001b[0m: 'tags'"
     ]
    }
   ],
   "source": [
    "import json\n",
    "\n",
    "topics = []\n",
    "for idx, row in enumerate(data_desc['json_metadata']):\n",
    "    if (row != '[]') & pd.notnull(row):\n",
    "        print json.loads(row)['tags']"
   ]
  },
  {
   "cell_type": "code",
   "execution_count": null,
   "metadata": {
    "collapsed": true
   },
   "outputs": [],
   "source": [
    "def create_tags(x):\n",
    "    if (x != '[]') & pd.notnull(x):\n",
    "        return json.loads(row)['tags']"
   ]
  },
  {
   "cell_type": "code",
   "execution_count": null,
   "metadata": {
    "collapsed": false
   },
   "outputs": [],
   "source": [
    "data_desc[['number of body tags',\n",
    "                                   'number of body urls',\n",
    "                                   'number of image urls',\n",
    "                                   'number of body mentions',\n",
    "                                   'number of image urls',\n",
    "                                   'number of youtube urls',\n",
    "                                   'language',\n",
    "                                   'author_reputation_scaled',\n",
    "                                   'number of steem counts',\n",
    "           'top category']].isnull().values.any()"
   ]
  },
  {
   "cell_type": "code",
   "execution_count": null,
   "metadata": {
    "collapsed": false
   },
   "outputs": [],
   "source": [
    "y = data_desc['total_payout_value']"
   ]
  },
  {
   "cell_type": "code",
   "execution_count": null,
   "metadata": {
    "collapsed": false
   },
   "outputs": [],
   "source": [
    "data_desc['number of steem counts'] = data_desc['number of steem counts'].fillna(0)"
   ]
  },
  {
   "cell_type": "code",
   "execution_count": null,
   "metadata": {
    "collapsed": false
   },
   "outputs": [],
   "source": [
    "data_desc['number of steem counts'].isnull().values.any()"
   ]
  },
  {
   "cell_type": "code",
   "execution_count": null,
   "metadata": {
    "collapsed": true
   },
   "outputs": [],
   "source": [
    "columns = ['number of body tags',\n",
    "           'number of body urls',\n",
    "           'number of image urls',\n",
    "           'number of body mentions',\n",
    "           'number of image urls',\n",
    "           'number of youtube urls',\n",
    "           'language',\n",
    "           'author_reputation_scaled',\n",
    "           'number of steem counts',\n",
    "           'top category listed']"
   ]
  },
  {
   "cell_type": "code",
   "execution_count": null,
   "metadata": {
    "collapsed": false
   },
   "outputs": [],
   "source": [
    "data_desc[columns]"
   ]
  },
  {
   "cell_type": "code",
   "execution_count": null,
   "metadata": {
    "collapsed": false
   },
   "outputs": [],
   "source": [
    "numberofrecords = data_desc.shape[0]\n",
    "print 'numberofrecords', numberofrecords"
   ]
  },
  {
   "cell_type": "code",
   "execution_count": null,
   "metadata": {
    "collapsed": false
   },
   "outputs": [],
   "source": [
    "unique_set_of_authors = set(data_desc['author'])\n",
    "authors = data_desc[['author']].groupby(['author']).size().nlargest(25).reset_index(name='top25')\n",
    "print 'aurthors', authors\n",
    "print 'number of unique authors', len(unique_set_of_authors)"
   ]
  },
  {
   "cell_type": "code",
   "execution_count": null,
   "metadata": {
    "collapsed": false
   },
   "outputs": [],
   "source": [
    "categories = data_desc[['category']].groupby(['category']).size().nlargest(10).reset_index(name='top10')\n",
    "print 'categories', categories              "
   ]
  },
  {
   "cell_type": "code",
   "execution_count": null,
   "metadata": {
    "collapsed": false
   },
   "outputs": [],
   "source": [
    "plt.plot(np.log(y))"
   ]
  },
  {
   "cell_type": "code",
   "execution_count": null,
   "metadata": {
    "collapsed": false
   },
   "outputs": [],
   "source": [
    "data_desc[['top category']].isnull().values.any()"
   ]
  },
  {
   "cell_type": "code",
   "execution_count": null,
   "metadata": {
    "collapsed": false
   },
   "outputs": [],
   "source": [
    "data_desc[['author','author_reputation']].sort(['author_reputation'], ascending=False).head()\n",
    "#test = df.sort(['one'], ascending=[False])#"
   ]
  },
  {
   "cell_type": "code",
   "execution_count": null,
   "metadata": {
    "collapsed": false
   },
   "outputs": [],
   "source": [
    "data_desc.columns"
   ]
  },
  {
   "cell_type": "code",
   "execution_count": null,
   "metadata": {
    "collapsed": true
   },
   "outputs": [],
   "source": [
    "value_counts = data_desc['category'].value_counts()\n",
    "top_categories = value_counts.index[value_counts > np.percentile(data_desc['category'].value_counts(),97)]\n",
    "idx = data_desc['category'].isin(top_categories)\n",
    "data_desc['top category'] = idx.astype(int)\n",
    "data_desc['top category listed'] = data_desc.ix[data_desc['top category'].values.astype(bool) ,'category']\n",
    "# data_desc['top category listed'] = data_desc['top category listed'].fillna('Other')\n"
   ]
  },
  {
   "cell_type": "code",
   "execution_count": null,
   "metadata": {
    "collapsed": false
   },
   "outputs": [],
   "source": [
    "data_desc['top category'].isnull().values.any()"
   ]
  },
  {
   "cell_type": "code",
   "execution_count": null,
   "metadata": {
    "collapsed": false
   },
   "outputs": [],
   "source": [
    "data_desc['top category listed'].isnull().values.any()"
   ]
  },
  {
   "cell_type": "code",
   "execution_count": null,
   "metadata": {
    "collapsed": false
   },
   "outputs": [],
   "source": [
    "data_desc['language']"
   ]
  },
  {
   "cell_type": "code",
   "execution_count": null,
   "metadata": {
    "collapsed": true
   },
   "outputs": [],
   "source": [
    "train_features = data_desc.ix[:,['number of body tags',\n",
    "                                   'number of body urls',\n",
    "                                   'number of image urls',\n",
    "                                   'number of body mentions',\n",
    "                                   'number of image urls',\n",
    "                                   'number of youtube urls',\n",
    "                                   'language',\n",
    "                                   'author_reputation_scaled',\n",
    "                                   'number of steem counts',\n",
    "                                'top category']]"
   ]
  },
  {
   "cell_type": "code",
   "execution_count": null,
   "metadata": {
    "collapsed": false
   },
   "outputs": [],
   "source": [
    "train_features.isnull().values.any()"
   ]
  },
  {
   "cell_type": "code",
   "execution_count": null,
   "metadata": {
    "collapsed": false
   },
   "outputs": [],
   "source": [
    "train_features['language']"
   ]
  },
  {
   "cell_type": "code",
   "execution_count": null,
   "metadata": {
    "collapsed": false
   },
   "outputs": [],
   "source": [
    "data_desc.columns"
   ]
  },
  {
   "cell_type": "code",
   "execution_count": null,
   "metadata": {
    "collapsed": true
   },
   "outputs": [],
   "source": []
  }
 ],
 "metadata": {
  "anaconda-cloud": {},
  "kernelspec": {
   "display_name": "Python [Root]",
   "language": "python",
   "name": "Python [Root]"
  },
  "language_info": {
   "codemirror_mode": {
    "name": "ipython",
    "version": 2
   },
   "file_extension": ".py",
   "mimetype": "text/x-python",
   "name": "python",
   "nbconvert_exporter": "python",
   "pygments_lexer": "ipython2",
   "version": "2.7.12"
  }
 },
 "nbformat": 4,
 "nbformat_minor": 0
}
