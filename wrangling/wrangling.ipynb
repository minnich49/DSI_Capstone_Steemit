{
 "cells": [
  {
   "cell_type": "code",
   "execution_count": null,
   "metadata": {},
   "outputs": [],
   "source": [
    "# module_directory = os.path.join(os.getcwd().split('DSI_Capstone_Steemit')[0],'DSI_Capstone_Steemit')\n",
    "# sys.path\n",
    "# sys.path.insert(1,module_directory)\n",
    "\n",
    "import os\n",
    "\n",
    "# Check for directory and if not there, create one\n",
    "def ensure_directory(directory):\n",
    "    directory = '../data/' + directory \n",
    "    print directory\n",
    "    if not os.path.exists(directory):\n",
    "        os.makedirs(directory)\n",
    "\n",
    "# Check for each directory in the directory list\n",
    "def ensure_directories(dir_list):\n",
    "    for directory in dir_list:\n",
    "        ensure_directory(directory)\n",
    "\n",
    "\n",
    "dir_list = ['word2vec_doc_matrix','word2vec_doc_matrix_desc','posts_tfidf',\n",
    "            'posts_counts','word2vec_doc_matrix_avg',\n",
    "            'word2vec_doc_matrix_avg_tfidf']\n",
    "ensure_directories(dir_list)"
   ]
  },
  {
   "cell_type": "code",
   "execution_count": null,
   "metadata": {},
   "outputs": [],
   "source": [
    "import pymssql\n",
    "import pandas as pd\n",
    "import numpy as np\n",
    "import os\n",
    "import re\n",
    "import joblib\n",
    "import nltk\n",
    "from nltk.tokenize import word_tokenize\n",
    "pd.set_option('display.max_rows', 500)\n",
    "pd.set_option('display.max_columns', 500)\n",
    "\n",
    "data_directory = '../data/'\n",
    "\n",
    "posts_path = os.path.join(data_directory,'sample_data.csv')"
   ]
  },
  {
   "cell_type": "markdown",
   "metadata": {},
   "source": [
    "### Load Data"
   ]
  },
  {
   "cell_type": "code",
   "execution_count": null,
   "metadata": {},
   "outputs": [],
   "source": [
    "df_posts = pd.read_csv(posts_path)"
   ]
  },
  {
   "cell_type": "markdown",
   "metadata": {},
   "source": [
    "### Text Cleaning"
   ]
  },
  {
   "cell_type": "code",
   "execution_count": null,
   "metadata": {},
   "outputs": [],
   "source": [
    "expression = r'http\\S+'\n",
    "\n",
    "# Extract all Links\n",
    "df_posts['body urls'] = df_posts['body'].str.findall(expression)\n",
    "\n",
    "# Remove all Links\n",
    "df_posts['body'] = df_posts['body'].str.replace(expression,'')\n",
    "\n",
    "# Remove all non alpha numeric\n",
    "expression = '[^A-Za-z0-9 ]+'\n",
    "df_posts['body'] = df_posts['body'].str.replace(expression,'')\n",
    "\n",
    "\n",
    "# Remove double spaces\n",
    "expression = ' +'\n",
    "df_posts['body'] = df_posts['body'].str.replace(expression,' ')\n"
   ]
  },
  {
   "cell_type": "markdown",
   "metadata": {},
   "source": [
    "### Create and save Word Counts, TFIDF"
   ]
  },
  {
   "cell_type": "code",
   "execution_count": null,
   "metadata": {},
   "outputs": [],
   "source": [
    "from nltk.stem import PorterStemmer\n",
    "from nltk import word_tokenize \n",
    "from nltk.corpus import stopwords\n",
    "from sklearn.feature_extraction.text import CountVectorizer,TfidfVectorizer\n",
    "\n",
    "porter =  PorterStemmer()\n",
    "class PorterTokenizer(object):\n",
    "    def __init__(self):\n",
    "        self.porter = porter.stem\n",
    "    def __call__(self, doc):\n",
    "        return [self.porter(t) for t in word_tokenize(doc)]\n",
    "\n",
    "    \n",
    "    \n",
    "countvect = CountVectorizer(\n",
    "    encoding = 'utf-8',\n",
    "    tokenizer = PorterTokenizer(),\n",
    "    stop_words = stopwords.words('english'),\n",
    "    lowercase = False\n",
    "    \n",
    ")\n",
    "\n",
    "tfidfvect = TfidfVectorizer(\n",
    "    encoding = 'utf-8',\n",
    "    tokenizer = PorterTokenizer(),\n",
    "    stop_words = stopwords.words('english'),\n",
    "    lowercase = False\n",
    "    \n",
    ")"
   ]
  },
  {
   "cell_type": "code",
   "execution_count": null,
   "metadata": {},
   "outputs": [],
   "source": [
    "posts_counts = countvect.fit_transform(df_posts['body'])\n",
    "posts_tfidf = tfidfvect.fit_transform(df_posts['body'])"
   ]
  },
  {
   "cell_type": "code",
   "execution_count": null,
   "metadata": {},
   "outputs": [],
   "source": [
    "posts_counts_path = os.path.join(data_directory,'posts_counts', 'posts_counts')\n",
    "posts_tfidf_path = os.path.join(data_directory,'posts_tfidf', 'posts_tfidf')\n",
    "\n",
    "\n",
    "joblib.dump(posts_counts,posts_counts_path)\n",
    "joblib.dump(countvect.get_feature_names(),posts_counts_path+'_feature_names')\n",
    "\n",
    "\n",
    "\n",
    "joblib.dump(posts_tfidf,posts_tfidf_path)\n",
    "joblib.dump(tfidfvect.get_feature_names(),posts_tfidf_path+'_feature_names')\n",
    "\n"
   ]
  }
 ],
 "metadata": {
  "kernelspec": {
   "display_name": "Python 2",
   "language": "python",
   "name": "python2"
  },
  "language_info": {
   "codemirror_mode": {
    "name": "ipython",
    "version": 2
   },
   "file_extension": ".py",
   "mimetype": "text/x-python",
   "name": "python",
   "nbconvert_exporter": "python",
   "pygments_lexer": "ipython2"
  }
 },
 "nbformat": 4,
 "nbformat_minor": 1
}
