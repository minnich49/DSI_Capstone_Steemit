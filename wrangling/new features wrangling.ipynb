{
 "cells": [
  {
   "cell_type": "code",
   "execution_count": null,
   "metadata": {},
   "outputs": [],
   "source": [
    "import pymssql\n",
    "import pandas as pd\n",
    "import numpy as np\n",
    "import os\n",
    "import re\n",
    "import joblib\n",
    "import sys \n",
    "import sys  \n",
    "# sys.path.append(\"../utils/\")\n",
    "\n",
    "# from utils import *\n",
    "data_directory = '../data/'"
   ]
  },
  {
   "cell_type": "code",
   "execution_count": null,
   "metadata": {},
   "outputs": [],
   "source": [
    "def load_data_and_description(data_type = 'tfidf'):\n",
    "    # check_for_dir_python_path()\n",
    "\n",
    "    if data_type == 'tfidf':\n",
    "        directory = 'posts_tfidf'\n",
    "        file_name = 'posts_tfidf.pkl'\n",
    "        feature_names = 'posts_tfidf_feature_names'\n",
    "        desc_file = 'posts_tfidf_desc.csv'\n",
    "\n",
    "    elif data_type == 'word2vec':\n",
    "        file_name = 'word2vec_doc_matrix_avg'\n",
    "        feature_names = 'word2vec_doc_matrix_avg_feature_names'\n",
    "        desc_file = 'word2vec_doc_matrix_avg_desc.csv'\n",
    "    else:\n",
    "        directory = 'posts_counts'\n",
    "        file_name = 'posts_counts.pkl'\n",
    "        feature_names = 'posts_counts_feature_names'\n",
    "        desc_file = 'posts_counts_desc.csv'\n",
    "\n",
    "    data_path = os.path.join(data_directory,directory,file_name)\n",
    "    feature_path = os.path.join(data_directory,directory,feature_names)\n",
    "    desc_path = os.path.join(data_directory, directory,desc_file)\n",
    "\n",
    "    data = joblib.load(data_path)\n",
    "    data_desc = pd.read_csv(desc_path)\n",
    "\n",
    "    # Do not have feature names for word2vec matrices\n",
    "    if data_type == 'word2vec':\n",
    "        feature_names = None\n",
    "    else:\n",
    "        feature_names = joblib.load(feature_path)\n",
    "\n",
    "    return data,feature_names,data_desc"
   ]
  },
  {
   "cell_type": "code",
   "execution_count": null,
   "metadata": {},
   "outputs": [],
   "source": [
    "data,feature_names,data_desc = load_data_and_description(data_type='posts_tfidf')"
   ]
  },
  {
   "cell_type": "code",
   "execution_count": null,
   "metadata": {},
   "outputs": [],
   "source": [
    "data_desc.columns"
   ]
  },
  {
   "cell_type": "code",
   "execution_count": null,
   "metadata": {},
   "outputs": [],
   "source": [
    "# discuss together all the features.\n",
    "featurestoadd = ['author_reputation','number of body urls', u'number of youtube urls','number of image urls', 'number of body tags', 'number of body mentions']"
   ]
  },
  {
   "cell_type": "code",
   "execution_count": null,
   "metadata": {},
   "outputs": [],
   "source": [
    "new_features = data_desc[featurestoadd].as_matrix()"
   ]
  },
  {
   "cell_type": "markdown",
   "metadata": {},
   "source": [
    "**Check to make sure they are still same shape**"
   ]
  },
  {
   "cell_type": "code",
   "execution_count": null,
   "metadata": {},
   "outputs": [],
   "source": [
    "data.shape"
   ]
  },
  {
   "cell_type": "code",
   "execution_count": null,
   "metadata": {},
   "outputs": [],
   "source": [
    "data = data.todense()"
   ]
  },
  {
   "cell_type": "code",
   "execution_count": null,
   "metadata": {},
   "outputs": [],
   "source": [
    "data_desc.shape"
   ]
  },
  {
   "cell_type": "code",
   "execution_count": null,
   "metadata": {},
   "outputs": [],
   "source": [
    "featurestoadd = ['author_reputation','number of body urls', u'number of youtube urls','number of image urls', 'number of body tags', 'number of body mentions']"
   ]
  },
  {
   "cell_type": "code",
   "execution_count": null,
   "metadata": {},
   "outputs": [],
   "source": [
    "new_features = data_desc[featurestoadd].as_matrix()"
   ]
  },
  {
   "cell_type": "code",
   "execution_count": null,
   "metadata": {},
   "outputs": [],
   "source": [
    "new_data = np.column_stack((data, new_features))"
   ]
  },
  {
   "cell_type": "code",
   "execution_count": null,
   "metadata": {},
   "outputs": [],
   "source": [
    "# need to save this file, and also discuss clean up all the features"
   ]
  }
 ],
 "metadata": {
  "anaconda-cloud": {},
  "kernelspec": {
   "display_name": "Python [Root]",
   "language": "python",
   "name": "Python [Root]"
  },
  "language_info": {
   "codemirror_mode": {
    "name": "ipython",
    "version": 2
   },
   "file_extension": ".py",
   "mimetype": "text/x-python",
   "name": "python",
   "nbconvert_exporter": "python",
   "pygments_lexer": "ipython2"
  }
 },
 "nbformat": 4,
 "nbformat_minor": 0
}
