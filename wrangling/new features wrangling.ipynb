{
 "cells": [
  {
   "cell_type": "code",
<<<<<<< HEAD
   "execution_count": null,
   "metadata": {},
=======
   "execution_count": 1,
   "metadata": {
    "collapsed": true
   },
>>>>>>> c0df26e8a3d8edbd1516486dd4d6510d7a22f41b
   "outputs": [],
   "source": [
    "import pymssql\n",
    "import pandas as pd\n",
    "import numpy as np\n",
    "import os\n",
    "import re\n",
    "import joblib\n",
    "import sys \n",
    "import sys  \n",
    "# sys.path.append(\"../utils/\")\n",
    "\n",
    "# from utils import *\n",
    "data_directory = '../data/'"
   ]
  },
  {
   "cell_type": "code",
<<<<<<< HEAD
   "execution_count": null,
   "metadata": {},
=======
   "execution_count": 2,
   "metadata": {
    "collapsed": true
   },
>>>>>>> c0df26e8a3d8edbd1516486dd4d6510d7a22f41b
   "outputs": [],
   "source": [
    "def load_data_and_description(data_type = 'tfidf'):\n",
    "    # check_for_dir_python_path()\n",
    "\n",
    "    if data_type == 'tfidf':\n",
    "        directory = 'posts_tfidf'\n",
    "        file_name = 'posts_tfidf.pkl'\n",
    "        feature_names = 'posts_tfidf_feature_names'\n",
    "        desc_file = 'posts_tfidf_desc.csv'\n",
    "\n",
    "    elif data_type == 'word2vec':\n",
    "        file_name = 'word2vec_doc_matrix_avg'\n",
    "        feature_names = 'word2vec_doc_matrix_avg_feature_names'\n",
    "        desc_file = 'word2vec_doc_matrix_avg_desc.csv'\n",
    "    else:\n",
    "        directory = 'posts_counts'\n",
    "        file_name = 'posts_counts.pkl'\n",
    "        feature_names = 'posts_counts_feature_names'\n",
    "        desc_file = 'posts_counts_desc.csv'\n",
    "\n",
    "    data_path = os.path.join(data_directory,directory,file_name)\n",
    "    feature_path = os.path.join(data_directory,directory,feature_names)\n",
    "    desc_path = os.path.join(data_directory, directory,desc_file)\n",
    "\n",
    "    data = joblib.load(data_path)\n",
    "    data_desc = pd.read_csv(desc_path)\n",
    "\n",
    "    # Do not have feature names for word2vec matrices\n",
    "    if data_type == 'word2vec':\n",
    "        feature_names = None\n",
    "    else:\n",
    "        feature_names = joblib.load(feature_path)\n",
    "\n",
    "    return data,feature_names,data_desc"
   ]
  },
  {
   "cell_type": "code",
<<<<<<< HEAD
   "execution_count": null,
   "metadata": {},
=======
   "execution_count": 3,
   "metadata": {
    "collapsed": true
   },
>>>>>>> c0df26e8a3d8edbd1516486dd4d6510d7a22f41b
   "outputs": [],
   "source": [
    "data,feature_names,data_desc = load_data_and_description(data_type='posts_tfidf')"
   ]
  },
  {
   "cell_type": "code",
<<<<<<< HEAD
   "execution_count": null,
   "metadata": {},
   "outputs": [],
=======
   "execution_count": 4,
   "metadata": {
    "collapsed": false
   },
   "outputs": [
    {
     "data": {
      "text/plain": [
       "Index([u'ID', u'author', u'permlink', u'category', u'last_update', u'created',\n",
       "       u'active', u'last_payout', u'depth', u'children', u'children_rshares2',\n",
       "       u'net_rshares', u'abs_rshares', u'vote_rshares',\n",
       "       u'children_abs_rshares', u'cashout_time', u'max_cashout_time',\n",
       "       u'total_vote_weight', u'reward_weight', u'total_payout_value',\n",
       "       u'curator_payout_value', u'author_rewards', u'net_votes',\n",
       "       u'root_comment', u'mode', u'max_accepted_payout',\n",
       "       u'percent_steem_dollars', u'allow_replies', u'allow_votes',\n",
       "       u'allow_curation_rewards', u'url', u'root_title',\n",
       "       u'pending_payout_value', u'total_pending_payout_value', u'active_votes',\n",
       "       u'replies', u'author_reputation', u'body_language', u'dirty', u'ID.1',\n",
       "       u'tx_id', u'author.1', u'permlink.1', u'parent_author',\n",
       "       u'parent_permlink', u'title', u'json_metadata', u'body', u'body urls',\n",
       "       u'number of body urls', u'number of youtube urls',\n",
       "       u'number of image urls', u'body tags', u'number of body tags',\n",
       "       u'body mentions', u'number of body mentions'],\n",
       "      dtype='object')"
      ]
     },
     "execution_count": 4,
     "metadata": {},
     "output_type": "execute_result"
    }
   ],
>>>>>>> c0df26e8a3d8edbd1516486dd4d6510d7a22f41b
   "source": [
    "data_desc.columns"
   ]
  },
  {
   "cell_type": "code",
<<<<<<< HEAD
   "execution_count": null,
   "metadata": {},
=======
   "execution_count": 5,
   "metadata": {
    "collapsed": true
   },
>>>>>>> c0df26e8a3d8edbd1516486dd4d6510d7a22f41b
   "outputs": [],
   "source": [
    "# discuss together all the features.\n",
    "featurestoadd = ['author_reputation','number of body urls', u'number of youtube urls','number of image urls', 'number of body tags', 'number of body mentions']"
   ]
  },
  {
   "cell_type": "code",
<<<<<<< HEAD
   "execution_count": null,
   "metadata": {},
=======
   "execution_count": 6,
   "metadata": {
    "collapsed": true
   },
>>>>>>> c0df26e8a3d8edbd1516486dd4d6510d7a22f41b
   "outputs": [],
   "source": [
    "new_features = data_desc[featurestoadd].as_matrix()"
   ]
  },
  {
   "cell_type": "markdown",
   "metadata": {},
   "source": [
    "**Check to make sure they are still same shape**"
   ]
  },
  {
   "cell_type": "code",
<<<<<<< HEAD
   "execution_count": null,
   "metadata": {},
   "outputs": [],
=======
   "execution_count": 7,
   "metadata": {
    "collapsed": false
   },
   "outputs": [
    {
     "data": {
      "text/plain": [
       "(111178, 425384)"
      ]
     },
     "execution_count": 7,
     "metadata": {},
     "output_type": "execute_result"
    }
   ],
>>>>>>> c0df26e8a3d8edbd1516486dd4d6510d7a22f41b
   "source": [
    "data.shape"
   ]
  },
  {
   "cell_type": "code",
<<<<<<< HEAD
   "execution_count": null,
   "metadata": {},
=======
   "execution_count": 8,
   "metadata": {
    "collapsed": true
   },
>>>>>>> c0df26e8a3d8edbd1516486dd4d6510d7a22f41b
   "outputs": [],
   "source": [
    "data = data.todense()"
   ]
  },
  {
   "cell_type": "code",
<<<<<<< HEAD
   "execution_count": null,
   "metadata": {},
   "outputs": [],
=======
   "execution_count": 12,
   "metadata": {
    "collapsed": false
   },
   "outputs": [
    {
     "data": {
      "text/plain": [
       "(111178, 56)"
      ]
     },
     "execution_count": 12,
     "metadata": {},
     "output_type": "execute_result"
    }
   ],
>>>>>>> c0df26e8a3d8edbd1516486dd4d6510d7a22f41b
   "source": [
    "data_desc.shape"
   ]
  },
  {
   "cell_type": "code",
<<<<<<< HEAD
   "execution_count": null,
   "metadata": {},
=======
   "execution_count": 15,
   "metadata": {
    "collapsed": true
   },
>>>>>>> c0df26e8a3d8edbd1516486dd4d6510d7a22f41b
   "outputs": [],
   "source": [
    "featurestoadd = ['author_reputation','number of body urls', u'number of youtube urls','number of image urls', 'number of body tags', 'number of body mentions']"
   ]
  },
  {
   "cell_type": "code",
<<<<<<< HEAD
   "execution_count": null,
   "metadata": {},
=======
   "execution_count": 16,
   "metadata": {
    "collapsed": true
   },
>>>>>>> c0df26e8a3d8edbd1516486dd4d6510d7a22f41b
   "outputs": [],
   "source": [
    "new_features = data_desc[featurestoadd].as_matrix()"
   ]
  },
  {
   "cell_type": "code",
   "execution_count": null,
<<<<<<< HEAD
   "metadata": {},
=======
   "metadata": {
    "collapsed": false
   },
>>>>>>> c0df26e8a3d8edbd1516486dd4d6510d7a22f41b
   "outputs": [],
   "source": [
    "new_data = np.column_stack((data, new_features))"
   ]
  },
  {
   "cell_type": "code",
   "execution_count": null,
<<<<<<< HEAD
   "metadata": {},
=======
   "metadata": {
    "collapsed": true
   },
>>>>>>> c0df26e8a3d8edbd1516486dd4d6510d7a22f41b
   "outputs": [],
   "source": [
    "# need to save this file, and also discuss clean up all the features"
   ]
  }
 ],
 "metadata": {
  "anaconda-cloud": {},
  "kernelspec": {
   "display_name": "Python [Root]",
   "language": "python",
   "name": "Python [Root]"
  },
  "language_info": {
   "codemirror_mode": {
    "name": "ipython",
    "version": 2
   },
   "file_extension": ".py",
   "mimetype": "text/x-python",
   "name": "python",
   "nbconvert_exporter": "python",
<<<<<<< HEAD
   "pygments_lexer": "ipython2"
=======
   "pygments_lexer": "ipython2",
   "version": "2.7.12"
>>>>>>> c0df26e8a3d8edbd1516486dd4d6510d7a22f41b
  }
 },
 "nbformat": 4,
 "nbformat_minor": 0
}
