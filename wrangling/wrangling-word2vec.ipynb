{
 "cells": [
  {
   "cell_type": "code",
   "execution_count": null,
   "metadata": {},
   "outputs": [],
   "source": [
    "# module_directory = os.path.join(os.getcwd().split('DSI_Capstone_Steemit')[0],'DSI_Capstone_Steemit')\n",
    "# sys.path\n",
    "# sys.path.insert(1,module_directory)"
   ]
  },
  {
   "cell_type": "markdown",
   "metadata": {},
   "source": [
    "# Need to run Wrangling Notebook Before This One"
   ]
  },
  {
   "cell_type": "code",
   "execution_count": null,
   "metadata": {},
   "outputs": [],
   "source": [
    "import pymssql\n",
    "import pandas as pd\n",
    "import numpy as np\n",
    "import os\n",
    "import re\n",
    "import joblib\n",
    "import nltk\n",
    "from nltk.tokenize import word_tokenize\n",
    "pd.set_option('display.max_rows', 500)\n",
    "pd.set_option('display.max_columns', 500)\n",
    "\n",
    "data_directory = '../data/'\n",
    "posts_path = os.path.join(data_directory,'sample_data.csv')\n",
    "df_posts = pd.read_csv(posts_path)"
   ]
  },
  {
   "cell_type": "markdown",
   "metadata": {},
   "source": [
    "### Load Data"
   ]
  },
  {
   "cell_type": "code",
   "execution_count": null,
   "metadata": {},
   "outputs": [],
   "source": [
    "posts_counts_path = os.path.join(data_directory,'posts_counts', 'posts_counts')\n",
    "\n",
    "posts_counts = joblib.load(posts_counts_path)\n",
    "posts_counts_features = joblib.load(posts_counts_path+'_feature_names')\n",
    "\n",
    "\n",
    "\n",
    "# Add columns (vocabulary from Vectorizer)\n",
    "df_posts_counts = pd.DataFrame(posts_counts.toarray())\n",
    "df_posts_counts.columns = posts_counts_features\n",
    "\n",
    "\n"
   ]
  },
  {
   "cell_type": "code",
   "execution_count": null,
   "metadata": {},
   "outputs": [],
   "source": [
    "df_posts_counts.shape"
   ]
  },
  {
   "cell_type": "markdown",
   "metadata": {},
   "source": [
    "### Word2Vec\n",
    "You need to download google Word2Vec Model\n",
    "\n",
    "https://docs.google.com/uc?id=0B7XkCwpI5KDYNlNUTTlSS21pQmM&export=download"
   ]
  },
  {
   "cell_type": "code",
   "execution_count": null,
   "metadata": {},
   "outputs": [],
   "source": [
    "from gensim.models import Word2Vec"
   ]
  },
  {
   "cell_type": "code",
   "execution_count": null,
   "metadata": {},
   "outputs": [],
   "source": [
    "# Load Google's pre-trained Word2Vec model.\n",
    "word2vec_path = '../word2vec_models/GoogleNews-vectors-negative300.bin'\n",
    "model = (Word2Vec.\n",
    "         load_word2vec_format(word2vec_path,\n",
    "                              binary=True))"
   ]
  },
  {
   "cell_type": "code",
   "execution_count": null,
   "metadata": {},
   "outputs": [],
   "source": [
    "# model.most_similar(positive=['woman', 'king'], negative=['man'])"
   ]
  },
  {
   "cell_type": "code",
   "execution_count": null,
   "metadata": {},
   "outputs": [],
   "source": [
    "# Determine common vocab between Posts Vocabulary and Word2Vec Vocab\n",
    "\n",
    "s1 = set(model.vocab.keys())\n",
    "s2 = set(posts_counts_features)\n",
    "\n",
    "common_vocab = set.intersection(s1, s2)\n",
    "\n"
   ]
  },
  {
   "cell_type": "code",
   "execution_count": null,
   "metadata": {},
   "outputs": [],
   "source": [
    "len(common_vocab)"
   ]
  },
  {
   "cell_type": "code",
   "execution_count": null,
   "metadata": {},
   "outputs": [],
   "source": [
    "df_posts_word2vec = df_posts_counts.ix[:,common_vocab]"
   ]
  },
  {
   "cell_type": "code",
   "execution_count": null,
   "metadata": {},
   "outputs": [],
   "source": [
    "# Remove any posts that now have word counts of 0\n",
    "idx_post_remove = (df_posts_word2vec.sum(axis = 1) != 0).values\n",
    "\n",
    "df_posts_word2vec_desc = df_posts.ix[idx_post_remove,:]\n",
    "df_posts_word2vec = df_posts_word2vec.ix[idx_post_remove,:]\n"
   ]
  },
  {
   "cell_type": "code",
   "execution_count": null,
   "metadata": {},
   "outputs": [],
   "source": [
    "number_of_posts = df_posts_word2vec.shape[0]\n",
    "word2vec_doc_matrix_avg = np.zeros((\n",
    "                            number_of_posts,\n",
    "                            300))\n",
    "\n",
    "for i,row in enumerate(df_posts_word2vec.index.values):\n",
    "    \n",
    "    word2vec_temp = np.zeros((\n",
    "                            len(df_posts_word2vec.columns),\n",
    "                            300))\n",
    "\n",
    "\n",
    "    \n",
    "    # Get all values where they are greater than 0    \n",
    "    greater_than_0 = (df_posts_word2vec.ix[row,:] > 0).values\n",
    "\n",
    "    # Get word2vec values that are greater than 0\n",
    "    vocab = df_posts_word2vec.columns[greater_than_0]\n",
    "    \n",
    "    if greater_than_0.sum() > 0:\n",
    "        word_vector = model[vocab]\n",
    "        word2vec_temp[greater_than_0,:] = word_vector\n",
    "        \n",
    "        mean_doc_vector = word2vec_temp.mean(axis = 0)\n",
    "        word2vec_doc_matrix_avg[i,:] = mean_doc_vector"
   ]
  },
  {
   "cell_type": "markdown",
   "metadata": {},
   "source": [
    "Can try using average of Word2Vec to get Doc2Vec, or Multiply it by TFIDF then average\n",
    "\n",
    "http://stackoverflow.com/questions/29760935/how-to-get-vector-for-a-sentence-from-the-word2vec-of-tokens-in-sentence"
   ]
  },
  {
   "cell_type": "code",
   "execution_count": null,
   "metadata": {},
   "outputs": [],
   "source": [
    "word2vec_doc_matrix_avg_path = os.path.join(data_directory,'word2vec_doc_matrix_avg', 'word2vec_doc_matrix_avg')\n",
    "joblib.dump(word2vec_doc_matrix_avg,word2vec_doc_matrix_avg_path)"
   ]
  },
  {
   "cell_type": "code",
   "execution_count": null,
   "metadata": {},
   "outputs": [],
   "source": []
  }
 ],
 "metadata": {
  "kernelspec": {
   "display_name": "Python 2",
   "language": "python",
   "name": "python2"
  },
  "language_info": {
   "codemirror_mode": {
    "name": "ipython",
    "version": 2
   },
   "file_extension": ".py",
   "mimetype": "text/x-python",
   "name": "python",
   "nbconvert_exporter": "python",
   "pygments_lexer": "ipython2"
  }
 },
 "nbformat": 4,
 "nbformat_minor": 1
}
